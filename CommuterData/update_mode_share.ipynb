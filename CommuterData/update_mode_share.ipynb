{
 "cells": [
  {
   "cell_type": "code",
   "execution_count": 1,
   "id": "aec5426a",
   "metadata": {},
   "outputs": [],
   "source": [
    "import pandas as pd\n",
    "import pyodbc\n",
    "import numpy as np\n",
    "import pyreadr\n",
    "import subprocess"
   ]
  },
  {
   "cell_type": "code",
   "execution_count": 9,
   "id": "742a275f",
   "metadata": {},
   "outputs": [],
   "source": [
    "path = r'T:\\Tableau\\tableauJourneyToWork\\Datasources'"
   ]
  },
  {
   "cell_type": "code",
   "execution_count": 7,
   "id": "249d486c",
   "metadata": {},
   "outputs": [
    {
     "data": {
      "text/plain": [
       "0"
      ]
     },
     "execution_count": 7,
     "metadata": {},
     "output_type": "execute_result"
    }
   ],
   "source": [
    "#https://appsilon.com/use-r-and-python-together/\n",
    "subprocess.call([r\"C:\\Program Files\\R\\R-4.2.2\\bin\\Rscript\", \"--vanilla\", \"ModeShare.r\"])"
   ]
  },
  {
   "cell_type": "code",
   "execution_count": 10,
   "id": "9f0b8f13",
   "metadata": {},
   "outputs": [],
   "source": [
    "res = pyreadr.read_r(path+'\\\\mode_share_data.RData')"
   ]
  },
  {
   "cell_type": "code",
   "execution_count": 11,
   "id": "e7ce5048",
   "metadata": {},
   "outputs": [
    {
     "data": {
      "text/plain": [
       "collections.OrderedDict"
      ]
     },
     "execution_count": 11,
     "metadata": {},
     "output_type": "execute_result"
    }
   ],
   "source": [
    "type(res)"
   ]
  },
  {
   "cell_type": "code",
   "execution_count": 12,
   "id": "f2ce9252",
   "metadata": {},
   "outputs": [
    {
     "name": "stdout",
     "output_type": "stream",
     "text": [
      "odict_keys(['mode.share', 'mode.by.vehicles', 'mode.by.poverty', 'time.leaving', 'travel.time'])\n"
     ]
    }
   ],
   "source": [
    "print(res.keys())"
   ]
  },
  {
   "cell_type": "code",
   "execution_count": 13,
   "id": "03b67cae",
   "metadata": {},
   "outputs": [],
   "source": [
    "conn = pyodbc.connect('Driver={SQL Server};'\n",
    "                      'Server=rliddb.int.lcog.org,5433;'\n",
    "                      'Database=GIS_CLMPO;'\n",
    "                      'Trusted_Connection=yes;')"
   ]
  },
  {
   "cell_type": "code",
   "execution_count": 14,
   "id": "ac060c45",
   "metadata": {},
   "outputs": [],
   "source": [
    "mode_share = pd.read_sql_query('select * from dbo.mode_share', conn)"
   ]
  },
  {
   "cell_type": "code",
   "execution_count": 16,
   "id": "b8396d65",
   "metadata": {},
   "outputs": [
    {
     "data": {
      "text/html": [
       "<div>\n",
       "<style scoped>\n",
       "    .dataframe tbody tr th:only-of-type {\n",
       "        vertical-align: middle;\n",
       "    }\n",
       "\n",
       "    .dataframe tbody tr th {\n",
       "        vertical-align: top;\n",
       "    }\n",
       "\n",
       "    .dataframe thead th {\n",
       "        text-align: right;\n",
       "    }\n",
       "</style>\n",
       "<table border=\"1\" class=\"dataframe\">\n",
       "  <thead>\n",
       "    <tr style=\"text-align: right;\">\n",
       "      <th></th>\n",
       "      <th>year</th>\n",
       "      <th>geo</th>\n",
       "      <th>mode</th>\n",
       "      <th>estimate</th>\n",
       "      <th>moe_est</th>\n",
       "      <th>share</th>\n",
       "      <th>moe_share</th>\n",
       "      <th>share_pct</th>\n",
       "      <th>moe_share_pct</th>\n",
       "    </tr>\n",
       "  </thead>\n",
       "  <tbody>\n",
       "    <tr>\n",
       "      <th>582</th>\n",
       "      <td>2021</td>\n",
       "      <td>Salem Urbanized Area</td>\n",
       "      <td>Walked</td>\n",
       "      <td>3067</td>\n",
       "      <td>436</td>\n",
       "      <td>0.025958</td>\n",
       "      <td>0.003653</td>\n",
       "      <td>2.595809</td>\n",
       "      <td>0.365340</td>\n",
       "    </tr>\n",
       "    <tr>\n",
       "      <th>583</th>\n",
       "      <td>2021</td>\n",
       "      <td>Salem Urbanized Area</td>\n",
       "      <td>Other means</td>\n",
       "      <td>782</td>\n",
       "      <td>255</td>\n",
       "      <td>0.006619</td>\n",
       "      <td>0.002154</td>\n",
       "      <td>0.661859</td>\n",
       "      <td>0.215417</td>\n",
       "    </tr>\n",
       "    <tr>\n",
       "      <th>584</th>\n",
       "      <td>2021</td>\n",
       "      <td>Salem Urbanized Area</td>\n",
       "      <td>Worked at home</td>\n",
       "      <td>11010</td>\n",
       "      <td>888</td>\n",
       "      <td>0.093185</td>\n",
       "      <td>0.007281</td>\n",
       "      <td>9.318505</td>\n",
       "      <td>0.728061</td>\n",
       "    </tr>\n",
       "  </tbody>\n",
       "</table>\n",
       "</div>"
      ],
      "text/plain": [
       "     year                   geo            mode  estimate  moe_est     share  \\\n",
       "582  2021  Salem Urbanized Area          Walked      3067      436  0.025958   \n",
       "583  2021  Salem Urbanized Area     Other means       782      255  0.006619   \n",
       "584  2021  Salem Urbanized Area  Worked at home     11010      888  0.093185   \n",
       "\n",
       "     moe_share  share_pct  moe_share_pct  \n",
       "582   0.003653   2.595809       0.365340  \n",
       "583   0.002154   0.661859       0.215417  \n",
       "584   0.007281   9.318505       0.728061  "
      ]
     },
     "execution_count": 16,
     "metadata": {},
     "output_type": "execute_result"
    }
   ],
   "source": [
    "mode_share.tail(3)"
   ]
  },
  {
   "cell_type": "code",
   "execution_count": 17,
   "id": "56d6b805",
   "metadata": {},
   "outputs": [],
   "source": [
    "df = res['mode.share']"
   ]
  },
  {
   "cell_type": "code",
   "execution_count": 19,
   "id": "0c8a6f26",
   "metadata": {},
   "outputs": [],
   "source": [
    "df.columns = mode_share.columns"
   ]
  },
  {
   "cell_type": "code",
   "execution_count": 22,
   "id": "18489ecb",
   "metadata": {},
   "outputs": [],
   "source": [
    "fields = 'time_leaving, formatted_time'"
   ]
  },
  {
   "cell_type": "code",
   "execution_count": 25,
   "id": "96660345",
   "metadata": {},
   "outputs": [],
   "source": [
    "field = 'mode'"
   ]
  },
  {
   "cell_type": "code",
   "execution_count": 24,
   "id": "9c576a8e",
   "metadata": {},
   "outputs": [
    {
     "data": {
      "text/plain": [
       "['time_leaving', 'formatted_time']"
      ]
     },
     "execution_count": 24,
     "metadata": {},
     "output_type": "execute_result"
    }
   ],
   "source": [
    "fields.split(', ')"
   ]
  },
  {
   "cell_type": "code",
   "execution_count": 27,
   "id": "2400777a",
   "metadata": {},
   "outputs": [
    {
     "data": {
      "text/plain": [
       "1"
      ]
     },
     "execution_count": 27,
     "metadata": {},
     "output_type": "execute_result"
    }
   ],
   "source": [
    "len(field.split(', '))"
   ]
  },
  {
   "cell_type": "code",
   "execution_count": 56,
   "id": "e77b47f8",
   "metadata": {},
   "outputs": [],
   "source": [
    "conn = pyodbc.connect('Driver={SQL Server};'\n",
    "                      'Server=rliddb.int.lcog.org,5433;'\n",
    "                      'Database=GIS_CLMPO;'\n",
    "                      'Trusted_Connection=yes;')\n",
    "cursor = conn.cursor()"
   ]
  },
  {
   "cell_type": "code",
   "execution_count": 96,
   "id": "b22ad2e2",
   "metadata": {},
   "outputs": [],
   "source": [
    "def update_data(ndf = df, tablenm = 'mode_share_test', fieldnm = 'mode', update = False):\n",
    "    conn = pyodbc.connect('Driver={SQL Server};'\n",
    "                      'Server=rliddb.int.lcog.org,5433;'\n",
    "                      'Database=GIS_CLMPO;'\n",
    "                      'Trusted_Connection=yes;')\n",
    "    dat = pd.read_sql_query('select * from dbo.{}'.format(tablenm), conn)\n",
    "    ndf.columns = dat.columns\n",
    "    \n",
    "    ndf.replace({np.inf: np.nan, -np.inf: np.nan}, inplace=True)\n",
    "    ndf = ndf.fillna(0)\n",
    "    \n",
    "    field_items = fieldnm.split(', ')\n",
    "    \n",
    "    if update:\n",
    "        if len(field_items) == 2:\n",
    "            for row in ndf.itertuples():\n",
    "                cursor.execute('''\n",
    "                INSERT INTO {0}(year, geo, {1}, estimate, moe_est, share, moe_share, share_pct, moe_share_pct) \n",
    "                VALUES (?,?,?,?,?,?,?,?,?,?)'''.format(tablenm, fieldnm),\n",
    "                row.year,\n",
    "                row.geo,\n",
    "                eval(f'row.{field_items[0]}'),\n",
    "                eval(f'row.{field_items[1]}'),\n",
    "                row.estimate,\n",
    "                row.moe_est,\n",
    "                row.share,\n",
    "                row.moe_share,\n",
    "                row.share_pct,\n",
    "                row.moe_share_pct)\n",
    "        else:\n",
    "            for row in ndf.itertuples():\n",
    "                cursor.execute('''\n",
    "                INSERT INTO {0}(year, geo, {1}, estimate, moe_est, share, moe_share, share_pct, moe_share_pct) \n",
    "                VALUES (?,?,?,?,?,?,?,?,?)'''.format(tablenm, fieldnm),\n",
    "                row.year,\n",
    "                row.geo,\n",
    "                eval(f'row.{field_items[0]}'),\n",
    "                row.estimate,\n",
    "                row.moe_est,\n",
    "                row.share,\n",
    "                row.moe_share,\n",
    "                row.share_pct,\n",
    "                row.moe_share_pct)            \n",
    "        conn.commit()\n",
    "        print(\"data was updated\")\n",
    "            \n",
    "    else:\n",
    "        print(\"data was not updated\")"
   ]
  },
  {
   "cell_type": "code",
   "execution_count": 78,
   "id": "a67bd2ff",
   "metadata": {},
   "outputs": [
    {
     "name": "stdout",
     "output_type": "stream",
     "text": [
      "data was updated\n"
     ]
    }
   ],
   "source": [
    "update_data(update = True)"
   ]
  },
  {
   "cell_type": "code",
   "execution_count": 97,
   "id": "e7684211",
   "metadata": {},
   "outputs": [
    {
     "name": "stdout",
     "output_type": "stream",
     "text": [
      "data was updated\n"
     ]
    }
   ],
   "source": [
    "update_data(ndf = res['time.leaving'], \n",
    "            tablenm = 'time_leaving_for_work_test', \n",
    "            fieldnm = 'time_leaving, formatted_time', \n",
    "            update = True)"
   ]
  }
 ],
 "metadata": {
  "kernelspec": {
   "display_name": "Python 3",
   "language": "python",
   "name": "python3"
  },
  "language_info": {
   "codemirror_mode": {
    "name": "ipython",
    "version": 3
   },
   "file_extension": ".py",
   "mimetype": "text/x-python",
   "name": "python",
   "nbconvert_exporter": "python",
   "pygments_lexer": "ipython3",
   "version": "3.8.8"
  }
 },
 "nbformat": 4,
 "nbformat_minor": 5
}
