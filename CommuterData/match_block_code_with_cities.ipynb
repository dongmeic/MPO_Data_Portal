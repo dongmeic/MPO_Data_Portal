{
 "cells": [
  {
   "cell_type": "code",
   "execution_count": 13,
   "id": "0e7b81a7",
   "metadata": {},
   "outputs": [],
   "source": [
    "import os\n",
    "import pandas as pd\n",
    "import numpy as np"
   ]
  },
  {
   "cell_type": "code",
   "execution_count": 2,
   "id": "79e4ec28",
   "metadata": {},
   "outputs": [],
   "source": [
    "path = \"T:/DCProjects/DataPortal/Data/Output\""
   ]
  },
  {
   "cell_type": "code",
   "execution_count": 6,
   "id": "59a0831e",
   "metadata": {},
   "outputs": [],
   "source": [
    "inpath = \"T:/Tableau/tableauLODES/Datasources\""
   ]
  },
  {
   "cell_type": "code",
   "execution_count": 4,
   "id": "a29b86b7",
   "metadata": {},
   "outputs": [],
   "source": [
    "cities = pd.read_csv(os.path.join(path,\"or_city_blockIDs.csv\"))"
   ]
  },
  {
   "cell_type": "code",
   "execution_count": 5,
   "id": "a46d97b1",
   "metadata": {},
   "outputs": [
    {
     "data": {
      "text/html": [
       "<div>\n",
       "<style scoped>\n",
       "    .dataframe tbody tr th:only-of-type {\n",
       "        vertical-align: middle;\n",
       "    }\n",
       "\n",
       "    .dataframe tbody tr th {\n",
       "        vertical-align: top;\n",
       "    }\n",
       "\n",
       "    .dataframe thead th {\n",
       "        text-align: right;\n",
       "    }\n",
       "</style>\n",
       "<table border=\"1\" class=\"dataframe\">\n",
       "  <thead>\n",
       "    <tr style=\"text-align: right;\">\n",
       "      <th></th>\n",
       "      <th>City</th>\n",
       "      <th>Place</th>\n",
       "      <th>Latitude</th>\n",
       "      <th>Longitude</th>\n",
       "      <th>BlockIDs</th>\n",
       "    </tr>\n",
       "  </thead>\n",
       "  <tbody>\n",
       "    <tr>\n",
       "      <th>0</th>\n",
       "      <td>Adair Village</td>\n",
       "      <td>Adair Village city, OR</td>\n",
       "      <td>44.673529</td>\n",
       "      <td>-123.216959</td>\n",
       "      <td>['410030102001158', '410030102001177', '410030...</td>\n",
       "    </tr>\n",
       "    <tr>\n",
       "      <th>1</th>\n",
       "      <td>Adams</td>\n",
       "      <td>Adams city, OR</td>\n",
       "      <td>45.767510</td>\n",
       "      <td>-118.564254</td>\n",
       "      <td>['410599503003070', '410599503003081', '410599...</td>\n",
       "    </tr>\n",
       "    <tr>\n",
       "      <th>2</th>\n",
       "      <td>Adrian</td>\n",
       "      <td>Adrian city, OR</td>\n",
       "      <td>43.740351</td>\n",
       "      <td>-117.070510</td>\n",
       "      <td>['410459707001248', '410459707001247', '410459...</td>\n",
       "    </tr>\n",
       "    <tr>\n",
       "      <th>3</th>\n",
       "      <td>Albany</td>\n",
       "      <td>Albany city, OR</td>\n",
       "      <td>44.630080</td>\n",
       "      <td>-123.093637</td>\n",
       "      <td>['410030101005012', '410030101003007', '410030...</td>\n",
       "    </tr>\n",
       "    <tr>\n",
       "      <th>4</th>\n",
       "      <td>Amity</td>\n",
       "      <td>Amity city, OR</td>\n",
       "      <td>45.116107</td>\n",
       "      <td>-123.204701</td>\n",
       "      <td>['410710310002058', '410710310002061', '410710...</td>\n",
       "    </tr>\n",
       "  </tbody>\n",
       "</table>\n",
       "</div>"
      ],
      "text/plain": [
       "            City                   Place   Latitude   Longitude  \\\n",
       "0  Adair Village  Adair Village city, OR  44.673529 -123.216959   \n",
       "1          Adams          Adams city, OR  45.767510 -118.564254   \n",
       "2         Adrian         Adrian city, OR  43.740351 -117.070510   \n",
       "3         Albany         Albany city, OR  44.630080 -123.093637   \n",
       "4          Amity          Amity city, OR  45.116107 -123.204701   \n",
       "\n",
       "                                            BlockIDs  \n",
       "0  ['410030102001158', '410030102001177', '410030...  \n",
       "1  ['410599503003070', '410599503003081', '410599...  \n",
       "2  ['410459707001248', '410459707001247', '410459...  \n",
       "3  ['410030101005012', '410030101003007', '410030...  \n",
       "4  ['410710310002058', '410710310002061', '410710...  "
      ]
     },
     "execution_count": 5,
     "metadata": {},
     "output_type": "execute_result"
    }
   ],
   "source": [
    "cities.head()"
   ]
  },
  {
   "cell_type": "code",
   "execution_count": 30,
   "id": "b20d56af",
   "metadata": {},
   "outputs": [],
   "source": [
    "def str2list(x):\n",
    "    x = [value[1:-1] for value in x[1:-1].split(', ')]\n",
    "    return x"
   ]
  },
  {
   "cell_type": "code",
   "execution_count": 32,
   "id": "d204dc34",
   "metadata": {},
   "outputs": [],
   "source": [
    "cities[\"BlockIDs\"] = cities.BlockIDs.apply(str2list)"
   ]
  },
  {
   "cell_type": "code",
   "execution_count": 7,
   "id": "91d8fcf4",
   "metadata": {},
   "outputs": [],
   "source": [
    "year = 2019"
   ]
  },
  {
   "cell_type": "code",
   "execution_count": 9,
   "id": "f33c6d56",
   "metadata": {},
   "outputs": [],
   "source": [
    "or_od = pd.read_csv(os.path.join(inpath, \"or_od_main_JT01_\"+ str(year) + \".csv\"))"
   ]
  },
  {
   "cell_type": "code",
   "execution_count": 10,
   "id": "5af7015c",
   "metadata": {},
   "outputs": [
    {
     "data": {
      "text/plain": [
       "(1534963, 13)"
      ]
     },
     "execution_count": 10,
     "metadata": {},
     "output_type": "execute_result"
    }
   ],
   "source": [
    "or_od.shape"
   ]
  },
  {
   "cell_type": "code",
   "execution_count": 11,
   "id": "10cc39ac",
   "metadata": {},
   "outputs": [
    {
     "data": {
      "text/html": [
       "<div>\n",
       "<style scoped>\n",
       "    .dataframe tbody tr th:only-of-type {\n",
       "        vertical-align: middle;\n",
       "    }\n",
       "\n",
       "    .dataframe tbody tr th {\n",
       "        vertical-align: top;\n",
       "    }\n",
       "\n",
       "    .dataframe thead th {\n",
       "        text-align: right;\n",
       "    }\n",
       "</style>\n",
       "<table border=\"1\" class=\"dataframe\">\n",
       "  <thead>\n",
       "    <tr style=\"text-align: right;\">\n",
       "      <th></th>\n",
       "      <th>w_geocode</th>\n",
       "      <th>h_geocode</th>\n",
       "      <th>S000</th>\n",
       "      <th>SA01</th>\n",
       "      <th>SA02</th>\n",
       "      <th>SA03</th>\n",
       "      <th>SE01</th>\n",
       "      <th>SE02</th>\n",
       "      <th>SE03</th>\n",
       "      <th>SI01</th>\n",
       "      <th>SI02</th>\n",
       "      <th>SI03</th>\n",
       "      <th>createdate</th>\n",
       "    </tr>\n",
       "  </thead>\n",
       "  <tbody>\n",
       "    <tr>\n",
       "      <th>0</th>\n",
       "      <td>410019501001166</td>\n",
       "      <td>410019501002126</td>\n",
       "      <td>1</td>\n",
       "      <td>0</td>\n",
       "      <td>1</td>\n",
       "      <td>0</td>\n",
       "      <td>0</td>\n",
       "      <td>0</td>\n",
       "      <td>1</td>\n",
       "      <td>1</td>\n",
       "      <td>0</td>\n",
       "      <td>0</td>\n",
       "      <td>20211018</td>\n",
       "    </tr>\n",
       "    <tr>\n",
       "      <th>1</th>\n",
       "      <td>410019501001166</td>\n",
       "      <td>410019501002197</td>\n",
       "      <td>1</td>\n",
       "      <td>0</td>\n",
       "      <td>0</td>\n",
       "      <td>1</td>\n",
       "      <td>0</td>\n",
       "      <td>0</td>\n",
       "      <td>1</td>\n",
       "      <td>1</td>\n",
       "      <td>0</td>\n",
       "      <td>0</td>\n",
       "      <td>20211018</td>\n",
       "    </tr>\n",
       "    <tr>\n",
       "      <th>2</th>\n",
       "      <td>410019501001166</td>\n",
       "      <td>410019501002204</td>\n",
       "      <td>1</td>\n",
       "      <td>0</td>\n",
       "      <td>1</td>\n",
       "      <td>0</td>\n",
       "      <td>0</td>\n",
       "      <td>0</td>\n",
       "      <td>1</td>\n",
       "      <td>1</td>\n",
       "      <td>0</td>\n",
       "      <td>0</td>\n",
       "      <td>20211018</td>\n",
       "    </tr>\n",
       "    <tr>\n",
       "      <th>3</th>\n",
       "      <td>410019501001166</td>\n",
       "      <td>410019501003075</td>\n",
       "      <td>1</td>\n",
       "      <td>0</td>\n",
       "      <td>0</td>\n",
       "      <td>1</td>\n",
       "      <td>0</td>\n",
       "      <td>1</td>\n",
       "      <td>0</td>\n",
       "      <td>1</td>\n",
       "      <td>0</td>\n",
       "      <td>0</td>\n",
       "      <td>20211018</td>\n",
       "    </tr>\n",
       "    <tr>\n",
       "      <th>4</th>\n",
       "      <td>410019501001196</td>\n",
       "      <td>410019501001003</td>\n",
       "      <td>1</td>\n",
       "      <td>0</td>\n",
       "      <td>1</td>\n",
       "      <td>0</td>\n",
       "      <td>0</td>\n",
       "      <td>1</td>\n",
       "      <td>0</td>\n",
       "      <td>0</td>\n",
       "      <td>0</td>\n",
       "      <td>1</td>\n",
       "      <td>20211018</td>\n",
       "    </tr>\n",
       "  </tbody>\n",
       "</table>\n",
       "</div>"
      ],
      "text/plain": [
       "         w_geocode        h_geocode  S000  SA01  SA02  SA03  SE01  SE02  SE03  \\\n",
       "0  410019501001166  410019501002126     1     0     1     0     0     0     1   \n",
       "1  410019501001166  410019501002197     1     0     0     1     0     0     1   \n",
       "2  410019501001166  410019501002204     1     0     1     0     0     0     1   \n",
       "3  410019501001166  410019501003075     1     0     0     1     0     1     0   \n",
       "4  410019501001196  410019501001003     1     0     1     0     0     1     0   \n",
       "\n",
       "   SI01  SI02  SI03  createdate  \n",
       "0     1     0     0    20211018  \n",
       "1     1     0     0    20211018  \n",
       "2     1     0     0    20211018  \n",
       "3     1     0     0    20211018  \n",
       "4     0     0     1    20211018  "
      ]
     },
     "execution_count": 11,
     "metadata": {},
     "output_type": "execute_result"
    }
   ],
   "source": [
    "or_od.head()"
   ]
  },
  {
   "cell_type": "code",
   "execution_count": 16,
   "id": "37b1e0f4",
   "metadata": {},
   "outputs": [
    {
     "data": {
      "text/plain": [
       "dtype('int64')"
      ]
     },
     "execution_count": 16,
     "metadata": {},
     "output_type": "execute_result"
    }
   ],
   "source": [
    "or_od.w_geocode.dtype"
   ]
  },
  {
   "cell_type": "code",
   "execution_count": 12,
   "id": "c77bdd7d",
   "metadata": {},
   "outputs": [],
   "source": [
    "city_blockID_lookup = {city:blockID for city, blockID in zip(cities.City, cities.BlockIDs)}"
   ]
  },
  {
   "cell_type": "code",
   "execution_count": 14,
   "id": "06164cde",
   "metadata": {},
   "outputs": [],
   "source": [
    "def lookup_geocode(code, lookup):\n",
    "    for city,blockIDs in lookup.items():\n",
    "        if code in blockIDs:\n",
    "            return city\n",
    "    return np.nan"
   ]
  },
  {
   "cell_type": "code",
   "execution_count": 33,
   "id": "187ff7d3",
   "metadata": {},
   "outputs": [],
   "source": [
    "block_city_map = {}\n",
    "for city,blockIDs in zip(cities.City, cities.BlockIDs):\n",
    "    for blockID in blockIDs:\n",
    "        block_city_map[blockID] = city"
   ]
  },
  {
   "cell_type": "code",
   "execution_count": 34,
   "id": "76eefce6",
   "metadata": {},
   "outputs": [
    {
     "name": "stdout",
     "output_type": "stream",
     "text": [
      "410030102001158 Adair Village\n",
      "410030102001177 Adair Village\n",
      "410030102001175 Adair Village\n",
      "410030102001181 Adair Village\n",
      "410030102001176 Adair Village\n",
      "410030102001179 Adair Village\n"
     ]
    }
   ],
   "source": [
    "for i,k in enumerate(block_city_map.keys()): \n",
    "    print(k, block_city_map[k])\n",
    "    if i == 5:\n",
    "        break"
   ]
  },
  {
   "cell_type": "code",
   "execution_count": 19,
   "id": "a9b1df13",
   "metadata": {},
   "outputs": [],
   "source": [
    "for col in [\"w_geocode\", \"h_geocode\"]:\n",
    "    or_od[col] = or_od[col].astype(str)"
   ]
  },
  {
   "cell_type": "code",
   "execution_count": 21,
   "id": "0eb7379a",
   "metadata": {},
   "outputs": [
    {
     "data": {
      "text/plain": [
       "'Sumpter'"
      ]
     },
     "execution_count": 21,
     "metadata": {},
     "output_type": "execute_result"
    }
   ],
   "source": [
    "lookup_geocode(or_od.w_geocode.values[0], city_blockID_lookup)"
   ]
  },
  {
   "cell_type": "code",
   "execution_count": 36,
   "id": "cec8b275",
   "metadata": {},
   "outputs": [
    {
     "data": {
      "text/plain": [
       "'Sumpter'"
      ]
     },
     "execution_count": 36,
     "metadata": {},
     "output_type": "execute_result"
    }
   ],
   "source": [
    "block_city_map.get(or_od.w_geocode.values[0], np.nan)"
   ]
  },
  {
   "cell_type": "code",
   "execution_count": 35,
   "id": "ceed400f",
   "metadata": {},
   "outputs": [],
   "source": [
    "#or_od[\"w_city\"] = or_od.w_geocode.apply(lambda geocode: lookup_geocode(geocode, city_blockID_lookup))\n",
    "or_od[\"w_city\"] = or_od.w_geocode.apply(lambda geocode: block_city_map.get(geocode, np.nan))"
   ]
  },
  {
   "cell_type": "code",
   "execution_count": 38,
   "id": "52b9e7c4",
   "metadata": {},
   "outputs": [],
   "source": [
    "or_od[\"h_city\"] = or_od.h_geocode.apply(lambda geocode: block_city_map.get(geocode, np.nan))"
   ]
  },
  {
   "cell_type": "code",
   "execution_count": 39,
   "id": "871a403b",
   "metadata": {},
   "outputs": [
    {
     "data": {
      "text/html": [
       "<div>\n",
       "<style scoped>\n",
       "    .dataframe tbody tr th:only-of-type {\n",
       "        vertical-align: middle;\n",
       "    }\n",
       "\n",
       "    .dataframe tbody tr th {\n",
       "        vertical-align: top;\n",
       "    }\n",
       "\n",
       "    .dataframe thead th {\n",
       "        text-align: right;\n",
       "    }\n",
       "</style>\n",
       "<table border=\"1\" class=\"dataframe\">\n",
       "  <thead>\n",
       "    <tr style=\"text-align: right;\">\n",
       "      <th></th>\n",
       "      <th>w_geocode</th>\n",
       "      <th>h_geocode</th>\n",
       "      <th>S000</th>\n",
       "      <th>SA01</th>\n",
       "      <th>SA02</th>\n",
       "      <th>SA03</th>\n",
       "      <th>SE01</th>\n",
       "      <th>SE02</th>\n",
       "      <th>SE03</th>\n",
       "      <th>SI01</th>\n",
       "      <th>SI02</th>\n",
       "      <th>SI03</th>\n",
       "      <th>createdate</th>\n",
       "      <th>w_city</th>\n",
       "      <th>h_city</th>\n",
       "    </tr>\n",
       "  </thead>\n",
       "  <tbody>\n",
       "    <tr>\n",
       "      <th>0</th>\n",
       "      <td>410019501001166</td>\n",
       "      <td>410019501002126</td>\n",
       "      <td>1</td>\n",
       "      <td>0</td>\n",
       "      <td>1</td>\n",
       "      <td>0</td>\n",
       "      <td>0</td>\n",
       "      <td>0</td>\n",
       "      <td>1</td>\n",
       "      <td>1</td>\n",
       "      <td>0</td>\n",
       "      <td>0</td>\n",
       "      <td>20211018</td>\n",
       "      <td>Sumpter</td>\n",
       "      <td>NaN</td>\n",
       "    </tr>\n",
       "    <tr>\n",
       "      <th>1</th>\n",
       "      <td>410019501001166</td>\n",
       "      <td>410019501002197</td>\n",
       "      <td>1</td>\n",
       "      <td>0</td>\n",
       "      <td>0</td>\n",
       "      <td>1</td>\n",
       "      <td>0</td>\n",
       "      <td>0</td>\n",
       "      <td>1</td>\n",
       "      <td>1</td>\n",
       "      <td>0</td>\n",
       "      <td>0</td>\n",
       "      <td>20211018</td>\n",
       "      <td>Sumpter</td>\n",
       "      <td>Haines</td>\n",
       "    </tr>\n",
       "    <tr>\n",
       "      <th>2</th>\n",
       "      <td>410019501001166</td>\n",
       "      <td>410019501002204</td>\n",
       "      <td>1</td>\n",
       "      <td>0</td>\n",
       "      <td>1</td>\n",
       "      <td>0</td>\n",
       "      <td>0</td>\n",
       "      <td>0</td>\n",
       "      <td>1</td>\n",
       "      <td>1</td>\n",
       "      <td>0</td>\n",
       "      <td>0</td>\n",
       "      <td>20211018</td>\n",
       "      <td>Sumpter</td>\n",
       "      <td>Haines</td>\n",
       "    </tr>\n",
       "    <tr>\n",
       "      <th>3</th>\n",
       "      <td>410019501001166</td>\n",
       "      <td>410019501003075</td>\n",
       "      <td>1</td>\n",
       "      <td>0</td>\n",
       "      <td>0</td>\n",
       "      <td>1</td>\n",
       "      <td>0</td>\n",
       "      <td>1</td>\n",
       "      <td>0</td>\n",
       "      <td>1</td>\n",
       "      <td>0</td>\n",
       "      <td>0</td>\n",
       "      <td>20211018</td>\n",
       "      <td>Sumpter</td>\n",
       "      <td>NaN</td>\n",
       "    </tr>\n",
       "    <tr>\n",
       "      <th>4</th>\n",
       "      <td>410019501001196</td>\n",
       "      <td>410019501001003</td>\n",
       "      <td>1</td>\n",
       "      <td>0</td>\n",
       "      <td>1</td>\n",
       "      <td>0</td>\n",
       "      <td>0</td>\n",
       "      <td>1</td>\n",
       "      <td>0</td>\n",
       "      <td>0</td>\n",
       "      <td>0</td>\n",
       "      <td>1</td>\n",
       "      <td>20211018</td>\n",
       "      <td>Sumpter</td>\n",
       "      <td>NaN</td>\n",
       "    </tr>\n",
       "  </tbody>\n",
       "</table>\n",
       "</div>"
      ],
      "text/plain": [
       "         w_geocode        h_geocode  S000  SA01  SA02  SA03  SE01  SE02  SE03  \\\n",
       "0  410019501001166  410019501002126     1     0     1     0     0     0     1   \n",
       "1  410019501001166  410019501002197     1     0     0     1     0     0     1   \n",
       "2  410019501001166  410019501002204     1     0     1     0     0     0     1   \n",
       "3  410019501001166  410019501003075     1     0     0     1     0     1     0   \n",
       "4  410019501001196  410019501001003     1     0     1     0     0     1     0   \n",
       "\n",
       "   SI01  SI02  SI03  createdate   w_city  h_city  \n",
       "0     1     0     0    20211018  Sumpter     NaN  \n",
       "1     1     0     0    20211018  Sumpter  Haines  \n",
       "2     1     0     0    20211018  Sumpter  Haines  \n",
       "3     1     0     0    20211018  Sumpter     NaN  \n",
       "4     0     0     1    20211018  Sumpter     NaN  "
      ]
     },
     "execution_count": 39,
     "metadata": {},
     "output_type": "execute_result"
    }
   ],
   "source": [
    "or_od.head()"
   ]
  },
  {
   "cell_type": "code",
   "execution_count": 40,
   "id": "c3abad29",
   "metadata": {},
   "outputs": [],
   "source": [
    "or_od_wh = or_od.loc[(or_od.w_city.notnull() & or_od.h_city.notnull()), :]"
   ]
  },
  {
   "cell_type": "code",
   "execution_count": 41,
   "id": "5bce70c6",
   "metadata": {},
   "outputs": [
    {
     "data": {
      "text/html": [
       "<div>\n",
       "<style scoped>\n",
       "    .dataframe tbody tr th:only-of-type {\n",
       "        vertical-align: middle;\n",
       "    }\n",
       "\n",
       "    .dataframe tbody tr th {\n",
       "        vertical-align: top;\n",
       "    }\n",
       "\n",
       "    .dataframe thead th {\n",
       "        text-align: right;\n",
       "    }\n",
       "</style>\n",
       "<table border=\"1\" class=\"dataframe\">\n",
       "  <thead>\n",
       "    <tr style=\"text-align: right;\">\n",
       "      <th></th>\n",
       "      <th>w_geocode</th>\n",
       "      <th>h_geocode</th>\n",
       "      <th>S000</th>\n",
       "      <th>SA01</th>\n",
       "      <th>SA02</th>\n",
       "      <th>SA03</th>\n",
       "      <th>SE01</th>\n",
       "      <th>SE02</th>\n",
       "      <th>SE03</th>\n",
       "      <th>SI01</th>\n",
       "      <th>SI02</th>\n",
       "      <th>SI03</th>\n",
       "      <th>createdate</th>\n",
       "      <th>w_city</th>\n",
       "      <th>h_city</th>\n",
       "    </tr>\n",
       "  </thead>\n",
       "  <tbody>\n",
       "    <tr>\n",
       "      <th>1</th>\n",
       "      <td>410019501001166</td>\n",
       "      <td>410019501002197</td>\n",
       "      <td>1</td>\n",
       "      <td>0</td>\n",
       "      <td>0</td>\n",
       "      <td>1</td>\n",
       "      <td>0</td>\n",
       "      <td>0</td>\n",
       "      <td>1</td>\n",
       "      <td>1</td>\n",
       "      <td>0</td>\n",
       "      <td>0</td>\n",
       "      <td>20211018</td>\n",
       "      <td>Sumpter</td>\n",
       "      <td>Haines</td>\n",
       "    </tr>\n",
       "    <tr>\n",
       "      <th>2</th>\n",
       "      <td>410019501001166</td>\n",
       "      <td>410019501002204</td>\n",
       "      <td>1</td>\n",
       "      <td>0</td>\n",
       "      <td>1</td>\n",
       "      <td>0</td>\n",
       "      <td>0</td>\n",
       "      <td>0</td>\n",
       "      <td>1</td>\n",
       "      <td>1</td>\n",
       "      <td>0</td>\n",
       "      <td>0</td>\n",
       "      <td>20211018</td>\n",
       "      <td>Sumpter</td>\n",
       "      <td>Haines</td>\n",
       "    </tr>\n",
       "    <tr>\n",
       "      <th>7</th>\n",
       "      <td>410019501001196</td>\n",
       "      <td>410019504003026</td>\n",
       "      <td>1</td>\n",
       "      <td>1</td>\n",
       "      <td>0</td>\n",
       "      <td>0</td>\n",
       "      <td>0</td>\n",
       "      <td>1</td>\n",
       "      <td>0</td>\n",
       "      <td>0</td>\n",
       "      <td>0</td>\n",
       "      <td>1</td>\n",
       "      <td>20211018</td>\n",
       "      <td>Sumpter</td>\n",
       "      <td>Baker City</td>\n",
       "    </tr>\n",
       "    <tr>\n",
       "      <th>10</th>\n",
       "      <td>410019501001198</td>\n",
       "      <td>410019501001187</td>\n",
       "      <td>1</td>\n",
       "      <td>0</td>\n",
       "      <td>1</td>\n",
       "      <td>0</td>\n",
       "      <td>0</td>\n",
       "      <td>1</td>\n",
       "      <td>0</td>\n",
       "      <td>0</td>\n",
       "      <td>1</td>\n",
       "      <td>0</td>\n",
       "      <td>20211018</td>\n",
       "      <td>Sumpter</td>\n",
       "      <td>Sumpter</td>\n",
       "    </tr>\n",
       "    <tr>\n",
       "      <th>14</th>\n",
       "      <td>410019501001198</td>\n",
       "      <td>410019504001025</td>\n",
       "      <td>1</td>\n",
       "      <td>0</td>\n",
       "      <td>0</td>\n",
       "      <td>1</td>\n",
       "      <td>0</td>\n",
       "      <td>1</td>\n",
       "      <td>0</td>\n",
       "      <td>0</td>\n",
       "      <td>0</td>\n",
       "      <td>1</td>\n",
       "      <td>20211018</td>\n",
       "      <td>Sumpter</td>\n",
       "      <td>Baker City</td>\n",
       "    </tr>\n",
       "  </tbody>\n",
       "</table>\n",
       "</div>"
      ],
      "text/plain": [
       "          w_geocode        h_geocode  S000  SA01  SA02  SA03  SE01  SE02  \\\n",
       "1   410019501001166  410019501002197     1     0     0     1     0     0   \n",
       "2   410019501001166  410019501002204     1     0     1     0     0     0   \n",
       "7   410019501001196  410019504003026     1     1     0     0     0     1   \n",
       "10  410019501001198  410019501001187     1     0     1     0     0     1   \n",
       "14  410019501001198  410019504001025     1     0     0     1     0     1   \n",
       "\n",
       "    SE03  SI01  SI02  SI03  createdate   w_city      h_city  \n",
       "1      1     1     0     0    20211018  Sumpter      Haines  \n",
       "2      1     1     0     0    20211018  Sumpter      Haines  \n",
       "7      0     0     0     1    20211018  Sumpter  Baker City  \n",
       "10     0     0     1     0    20211018  Sumpter     Sumpter  \n",
       "14     0     0     0     1    20211018  Sumpter  Baker City  "
      ]
     },
     "execution_count": 41,
     "metadata": {},
     "output_type": "execute_result"
    }
   ],
   "source": [
    "or_od_wh.head()"
   ]
  },
  {
   "cell_type": "code",
   "execution_count": 47,
   "id": "2626ac04",
   "metadata": {},
   "outputs": [],
   "source": [
    "or_od_agg = or_od_wh.groupby(['h_city', 'w_city']).agg({'S000': 'sum'})"
   ]
  },
  {
   "cell_type": "code",
   "execution_count": 61,
   "id": "cf499b8c",
   "metadata": {},
   "outputs": [],
   "source": [
    "or_od_agg.reset_index(inplace=True)"
   ]
  },
  {
   "cell_type": "code",
   "execution_count": 63,
   "id": "5aaaa91b",
   "metadata": {},
   "outputs": [],
   "source": [
    "vars = [\"City\", \"Place\", \"Latitude\", \"Longitude\"]"
   ]
  },
  {
   "cell_type": "code",
   "execution_count": 65,
   "id": "d3822af0",
   "metadata": {},
   "outputs": [],
   "source": [
    "hdf = or_od_agg.merge(cities[vars], left_on = 'h_city', right_on='City')"
   ]
  },
  {
   "cell_type": "code",
   "execution_count": 67,
   "id": "c6fedc02",
   "metadata": {},
   "outputs": [],
   "source": [
    "hdf.rename(columns={\"S000\":\"TotalJobs\", \n",
    "                    \"City\": \"HomeCity\",\n",
    "                    \"Place\": \"HmPlace\", \n",
    "                    \"Latitude\":\"HmCityLat\", \n",
    "                    \"Longitude\":\"HmCityLon\"}, \n",
    "          inplace=True)"
   ]
  },
  {
   "cell_type": "code",
   "execution_count": 68,
   "id": "13c76f85",
   "metadata": {},
   "outputs": [],
   "source": [
    "wdf = hdf.merge(cities[vars], left_on = 'w_city', right_on='City')"
   ]
  },
  {
   "cell_type": "code",
   "execution_count": 69,
   "id": "e483c294",
   "metadata": {},
   "outputs": [],
   "source": [
    "wdf.rename(columns={\"City\": \"WorkCity\",\n",
    "                    \"Place\": \"WkPlace\", \n",
    "                    \"Latitude\":\"WkCityLat\", \n",
    "                    \"Longitude\":\"WkCityLon\"}, \n",
    "          inplace=True)"
   ]
  },
  {
   "cell_type": "code",
   "execution_count": 71,
   "id": "d7673eb1",
   "metadata": {},
   "outputs": [],
   "source": [
    "wdf.drop(columns=['h_city', 'w_city'], inplace=True)"
   ]
  },
  {
   "cell_type": "code",
   "execution_count": 72,
   "id": "a488ed5e",
   "metadata": {},
   "outputs": [],
   "source": [
    "targetvars = [\"WorkCity\", \"WkPlace\", \"WkCityLat\", \"WkCityLon\", \"HomeCity\" , \n",
    "                  \"HmPlace\", \"HmCityLat\", \"HmCityLon\", \"TotalJobs\"]"
   ]
  },
  {
   "cell_type": "code",
   "execution_count": 73,
   "id": "2e5c7c39",
   "metadata": {},
   "outputs": [],
   "source": [
    "df = wdf[targetvars]"
   ]
  },
  {
   "cell_type": "code",
   "execution_count": 74,
   "id": "71bc2eda",
   "metadata": {},
   "outputs": [
    {
     "data": {
      "text/html": [
       "<div>\n",
       "<style scoped>\n",
       "    .dataframe tbody tr th:only-of-type {\n",
       "        vertical-align: middle;\n",
       "    }\n",
       "\n",
       "    .dataframe tbody tr th {\n",
       "        vertical-align: top;\n",
       "    }\n",
       "\n",
       "    .dataframe thead th {\n",
       "        text-align: right;\n",
       "    }\n",
       "</style>\n",
       "<table border=\"1\" class=\"dataframe\">\n",
       "  <thead>\n",
       "    <tr style=\"text-align: right;\">\n",
       "      <th></th>\n",
       "      <th>WorkCity</th>\n",
       "      <th>WkPlace</th>\n",
       "      <th>WkCityLat</th>\n",
       "      <th>WkCityLon</th>\n",
       "      <th>HomeCity</th>\n",
       "      <th>HmPlace</th>\n",
       "      <th>HmCityLat</th>\n",
       "      <th>HmCityLon</th>\n",
       "      <th>TotalJobs</th>\n",
       "    </tr>\n",
       "  </thead>\n",
       "  <tbody>\n",
       "    <tr>\n",
       "      <th>0</th>\n",
       "      <td>Adair Village</td>\n",
       "      <td>Adair Village city, OR</td>\n",
       "      <td>44.673529</td>\n",
       "      <td>-123.216959</td>\n",
       "      <td>Adair Village</td>\n",
       "      <td>Adair Village city, OR</td>\n",
       "      <td>44.673529</td>\n",
       "      <td>-123.216959</td>\n",
       "      <td>4</td>\n",
       "    </tr>\n",
       "    <tr>\n",
       "      <th>1</th>\n",
       "      <td>Adair Village</td>\n",
       "      <td>Adair Village city, OR</td>\n",
       "      <td>44.673529</td>\n",
       "      <td>-123.216959</td>\n",
       "      <td>Albany</td>\n",
       "      <td>Albany city, OR</td>\n",
       "      <td>44.630080</td>\n",
       "      <td>-123.093637</td>\n",
       "      <td>15</td>\n",
       "    </tr>\n",
       "    <tr>\n",
       "      <th>2</th>\n",
       "      <td>Adair Village</td>\n",
       "      <td>Adair Village city, OR</td>\n",
       "      <td>44.673529</td>\n",
       "      <td>-123.216959</td>\n",
       "      <td>Astoria</td>\n",
       "      <td>Astoria city, OR</td>\n",
       "      <td>46.186886</td>\n",
       "      <td>-123.822933</td>\n",
       "      <td>1</td>\n",
       "    </tr>\n",
       "    <tr>\n",
       "      <th>3</th>\n",
       "      <td>Adair Village</td>\n",
       "      <td>Adair Village city, OR</td>\n",
       "      <td>44.673529</td>\n",
       "      <td>-123.216959</td>\n",
       "      <td>Baker City</td>\n",
       "      <td>Baker City city, OR</td>\n",
       "      <td>44.776755</td>\n",
       "      <td>-117.832218</td>\n",
       "      <td>1</td>\n",
       "    </tr>\n",
       "    <tr>\n",
       "      <th>4</th>\n",
       "      <td>Adair Village</td>\n",
       "      <td>Adair Village city, OR</td>\n",
       "      <td>44.673529</td>\n",
       "      <td>-123.216959</td>\n",
       "      <td>Brookings</td>\n",
       "      <td>Brookings city, OR</td>\n",
       "      <td>42.062022</td>\n",
       "      <td>-124.290770</td>\n",
       "      <td>1</td>\n",
       "    </tr>\n",
       "  </tbody>\n",
       "</table>\n",
       "</div>"
      ],
      "text/plain": [
       "        WorkCity                 WkPlace  WkCityLat   WkCityLon  \\\n",
       "0  Adair Village  Adair Village city, OR  44.673529 -123.216959   \n",
       "1  Adair Village  Adair Village city, OR  44.673529 -123.216959   \n",
       "2  Adair Village  Adair Village city, OR  44.673529 -123.216959   \n",
       "3  Adair Village  Adair Village city, OR  44.673529 -123.216959   \n",
       "4  Adair Village  Adair Village city, OR  44.673529 -123.216959   \n",
       "\n",
       "        HomeCity                 HmPlace  HmCityLat   HmCityLon  TotalJobs  \n",
       "0  Adair Village  Adair Village city, OR  44.673529 -123.216959          4  \n",
       "1         Albany         Albany city, OR  44.630080 -123.093637         15  \n",
       "2        Astoria        Astoria city, OR  46.186886 -123.822933          1  \n",
       "3     Baker City     Baker City city, OR  44.776755 -117.832218          1  \n",
       "4      Brookings      Brookings city, OR  42.062022 -124.290770          1  "
      ]
     },
     "execution_count": 74,
     "metadata": {},
     "output_type": "execute_result"
    }
   ],
   "source": [
    "df.head()"
   ]
  },
  {
   "cell_type": "code",
   "execution_count": 75,
   "id": "ff878563",
   "metadata": {},
   "outputs": [],
   "source": [
    "df.to_csv(os.path.join(inpath, \"CityTable.csv\"), index=False)"
   ]
  }
 ],
 "metadata": {
  "kernelspec": {
   "display_name": "Python 3",
   "language": "python",
   "name": "python3"
  },
  "language_info": {
   "codemirror_mode": {
    "name": "ipython",
    "version": 3
   },
   "file_extension": ".py",
   "mimetype": "text/x-python",
   "name": "python",
   "nbconvert_exporter": "python",
   "pygments_lexer": "ipython3",
   "version": "3.8.8"
  }
 },
 "nbformat": 4,
 "nbformat_minor": 5
}
