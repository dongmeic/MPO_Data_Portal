{
 "cells": [
  {
   "cell_type": "code",
   "execution_count": 1,
   "id": "4cbc7013",
   "metadata": {},
   "outputs": [],
   "source": [
    "import geopandas as gpd\n",
    "import os"
   ]
  },
  {
   "cell_type": "code",
   "execution_count": 2,
   "id": "ef90aec7",
   "metadata": {},
   "outputs": [],
   "source": [
    "path = r'T:\\Tableau\\tableauTransit\\Datasources'"
   ]
  },
  {
   "cell_type": "code",
   "execution_count": 3,
   "id": "130f246c",
   "metadata": {},
   "outputs": [],
   "source": [
    "routes = gpd.read_file(os.path.join(path, 'LTD_Routes4Tableau.shp'))"
   ]
  },
  {
   "cell_type": "code",
   "execution_count": 4,
   "id": "346937ea",
   "metadata": {},
   "outputs": [
    {
     "data": {
      "text/plain": [
       "Index(['ROUTE', 'Vintage', 'Shape_Leng', 'geometry'], dtype='object')"
      ]
     },
     "execution_count": 4,
     "metadata": {},
     "output_type": "execute_result"
    }
   ],
   "source": [
    "routes.columns"
   ]
  },
  {
   "cell_type": "code",
   "execution_count": 5,
   "id": "3b75a39e",
   "metadata": {},
   "outputs": [
    {
     "data": {
      "text/html": [
       "<div>\n",
       "<style scoped>\n",
       "    .dataframe tbody tr th:only-of-type {\n",
       "        vertical-align: middle;\n",
       "    }\n",
       "\n",
       "    .dataframe tbody tr th {\n",
       "        vertical-align: top;\n",
       "    }\n",
       "\n",
       "    .dataframe thead th {\n",
       "        text-align: right;\n",
       "    }\n",
       "</style>\n",
       "<table border=\"1\" class=\"dataframe\">\n",
       "  <thead>\n",
       "    <tr style=\"text-align: right;\">\n",
       "      <th></th>\n",
       "      <th>ROUTE</th>\n",
       "      <th>Vintage</th>\n",
       "      <th>Shape_Leng</th>\n",
       "      <th>geometry</th>\n",
       "    </tr>\n",
       "  </thead>\n",
       "  <tbody>\n",
       "    <tr>\n",
       "      <th>701</th>\n",
       "      <td>95</td>\n",
       "      <td>October 2020</td>\n",
       "      <td>105261.351583</td>\n",
       "      <td>MULTILINESTRING ((4229806.630 882065.022, 4229...</td>\n",
       "    </tr>\n",
       "    <tr>\n",
       "      <th>702</th>\n",
       "      <td>96</td>\n",
       "      <td>October 2020</td>\n",
       "      <td>57881.191159</td>\n",
       "      <td>MULTILINESTRING ((4240085.753 879540.777, 4240...</td>\n",
       "    </tr>\n",
       "    <tr>\n",
       "      <th>703</th>\n",
       "      <td>98</td>\n",
       "      <td>October 2020</td>\n",
       "      <td>265141.369057</td>\n",
       "      <td>MULTILINESTRING ((4246001.545 786805.744, 4245...</td>\n",
       "    </tr>\n",
       "    <tr>\n",
       "      <th>704</th>\n",
       "      <td>81</td>\n",
       "      <td>October 2020</td>\n",
       "      <td>40999.215136</td>\n",
       "      <td>MULTILINESTRING ((4253990.645 864267.680, 4254...</td>\n",
       "    </tr>\n",
       "    <tr>\n",
       "      <th>705</th>\n",
       "      <td>EmX</td>\n",
       "      <td>October 2020</td>\n",
       "      <td>0.000000</td>\n",
       "      <td>MULTILINESTRING ((4255587.775 876606.804, 4255...</td>\n",
       "    </tr>\n",
       "  </tbody>\n",
       "</table>\n",
       "</div>"
      ],
      "text/plain": [
       "    ROUTE       Vintage     Shape_Leng  \\\n",
       "701    95  October 2020  105261.351583   \n",
       "702    96  October 2020   57881.191159   \n",
       "703    98  October 2020  265141.369057   \n",
       "704    81  October 2020   40999.215136   \n",
       "705   EmX  October 2020       0.000000   \n",
       "\n",
       "                                              geometry  \n",
       "701  MULTILINESTRING ((4229806.630 882065.022, 4229...  \n",
       "702  MULTILINESTRING ((4240085.753 879540.777, 4240...  \n",
       "703  MULTILINESTRING ((4246001.545 786805.744, 4245...  \n",
       "704  MULTILINESTRING ((4253990.645 864267.680, 4254...  \n",
       "705  MULTILINESTRING ((4255587.775 876606.804, 4255...  "
      ]
     },
     "execution_count": 5,
     "metadata": {},
     "output_type": "execute_result"
    }
   ],
   "source": [
    "routes.tail()"
   ]
  },
  {
   "cell_type": "code",
   "execution_count": 6,
   "id": "096888f1",
   "metadata": {},
   "outputs": [
    {
     "data": {
      "text/plain": [
       "array(['April 2016', 'April 2017', 'October 2016', 'October 2017',\n",
       "       'April 2011', 'April 2012', 'April 2013', 'April 2014',\n",
       "       'April 2015', 'October 2010', 'October 2011', 'October 2012',\n",
       "       'October 2013', 'October 2014', 'October 2015', 'April 2018',\n",
       "       'October 2018', 'April 2019', 'October 2019', 'April 2020',\n",
       "       'October 2020'], dtype=object)"
      ]
     },
     "execution_count": 6,
     "metadata": {},
     "output_type": "execute_result"
    }
   ],
   "source": [
    "routes.Vintage.unique()"
   ]
  },
  {
   "cell_type": "code",
   "execution_count": 11,
   "id": "f7b208f6",
   "metadata": {},
   "outputs": [],
   "source": [
    "routes = routes[~routes.Vintage.isin(['October 2019', 'April 2020'])]\n",
    "fall2019 = gpd.read_file(r'T:\\Data\\LTD Data\\2019 Fall LTD Routes and Stops\\Fall_2019_Routes.shp')\n",
    "winter2020 = gpd.read_file(r'T:\\Data\\LTD Data\\2020 Winter LTD Routes and Stops\\Winter_2020_Routes.shp')"
   ]
  },
  {
   "cell_type": "code",
   "execution_count": 18,
   "id": "9b45ab03",
   "metadata": {},
   "outputs": [
    {
     "data": {
      "text/html": [
       "<div>\n",
       "<style scoped>\n",
       "    .dataframe tbody tr th:only-of-type {\n",
       "        vertical-align: middle;\n",
       "    }\n",
       "\n",
       "    .dataframe tbody tr th {\n",
       "        vertical-align: top;\n",
       "    }\n",
       "\n",
       "    .dataframe thead th {\n",
       "        text-align: right;\n",
       "    }\n",
       "</style>\n",
       "<table border=\"1\" class=\"dataframe\">\n",
       "  <thead>\n",
       "    <tr style=\"text-align: right;\">\n",
       "      <th></th>\n",
       "      <th>ROUTE</th>\n",
       "      <th>Vintage</th>\n",
       "      <th>Shape_Leng</th>\n",
       "      <th>geometry</th>\n",
       "    </tr>\n",
       "  </thead>\n",
       "  <tbody>\n",
       "    <tr>\n",
       "      <th>0</th>\n",
       "      <td>1</td>\n",
       "      <td>October 2019</td>\n",
       "      <td>7022.792659</td>\n",
       "      <td>MULTILINESTRING ((4240543.328 881160.949, 4240...</td>\n",
       "    </tr>\n",
       "    <tr>\n",
       "      <th>1</th>\n",
       "      <td>11</td>\n",
       "      <td>October 2019</td>\n",
       "      <td>49572.561792</td>\n",
       "      <td>MULTILINESTRING ((4283235.977 876304.828, 4283...</td>\n",
       "    </tr>\n",
       "    <tr>\n",
       "      <th>2</th>\n",
       "      <td>12</td>\n",
       "      <td>October 2019</td>\n",
       "      <td>43357.312581</td>\n",
       "      <td>MULTILINESTRING ((4240085.753 879540.777, 4240...</td>\n",
       "    </tr>\n",
       "    <tr>\n",
       "      <th>3</th>\n",
       "      <td>13</td>\n",
       "      <td>October 2019</td>\n",
       "      <td>40336.363974</td>\n",
       "      <td>MULTILINESTRING ((4240888.617 879516.672, 4240...</td>\n",
       "    </tr>\n",
       "    <tr>\n",
       "      <th>4</th>\n",
       "      <td>17</td>\n",
       "      <td>October 2019</td>\n",
       "      <td>23944.353373</td>\n",
       "      <td>MULTILINESTRING ((4259094.045 882999.902, 4259...</td>\n",
       "    </tr>\n",
       "  </tbody>\n",
       "</table>\n",
       "</div>"
      ],
      "text/plain": [
       "  ROUTE       Vintage    Shape_Leng  \\\n",
       "0     1  October 2019   7022.792659   \n",
       "1    11  October 2019  49572.561792   \n",
       "2    12  October 2019  43357.312581   \n",
       "3    13  October 2019  40336.363974   \n",
       "4    17  October 2019  23944.353373   \n",
       "\n",
       "                                            geometry  \n",
       "0  MULTILINESTRING ((4240543.328 881160.949, 4240...  \n",
       "1  MULTILINESTRING ((4283235.977 876304.828, 4283...  \n",
       "2  MULTILINESTRING ((4240085.753 879540.777, 4240...  \n",
       "3  MULTILINESTRING ((4240888.617 879516.672, 4240...  \n",
       "4  MULTILINESTRING ((4259094.045 882999.902, 4259...  "
      ]
     },
     "execution_count": 18,
     "metadata": {},
     "output_type": "execute_result"
    }
   ],
   "source": [
    "fall2019.head()"
   ]
  },
  {
   "cell_type": "code",
   "execution_count": 20,
   "id": "28c8cb9e",
   "metadata": {},
   "outputs": [
    {
     "data": {
      "text/html": [
       "<div>\n",
       "<style scoped>\n",
       "    .dataframe tbody tr th:only-of-type {\n",
       "        vertical-align: middle;\n",
       "    }\n",
       "\n",
       "    .dataframe tbody tr th {\n",
       "        vertical-align: top;\n",
       "    }\n",
       "\n",
       "    .dataframe thead th {\n",
       "        text-align: right;\n",
       "    }\n",
       "</style>\n",
       "<table border=\"1\" class=\"dataframe\">\n",
       "  <thead>\n",
       "    <tr style=\"text-align: right;\">\n",
       "      <th></th>\n",
       "      <th>ROUTE</th>\n",
       "      <th>Vintage</th>\n",
       "      <th>Shape_Leng</th>\n",
       "      <th>geometry</th>\n",
       "    </tr>\n",
       "  </thead>\n",
       "  <tbody>\n",
       "    <tr>\n",
       "      <th>0</th>\n",
       "      <td>1</td>\n",
       "      <td>April 2020</td>\n",
       "      <td>7022.792659</td>\n",
       "      <td>MULTILINESTRING ((4240543.328 881160.949, 4240...</td>\n",
       "    </tr>\n",
       "    <tr>\n",
       "      <th>1</th>\n",
       "      <td>11</td>\n",
       "      <td>April 2020</td>\n",
       "      <td>49572.561792</td>\n",
       "      <td>MULTILINESTRING ((4283235.977 876304.828, 4283...</td>\n",
       "    </tr>\n",
       "    <tr>\n",
       "      <th>2</th>\n",
       "      <td>12</td>\n",
       "      <td>April 2020</td>\n",
       "      <td>43357.312581</td>\n",
       "      <td>MULTILINESTRING ((4240085.753 879540.777, 4240...</td>\n",
       "    </tr>\n",
       "    <tr>\n",
       "      <th>3</th>\n",
       "      <td>13</td>\n",
       "      <td>April 2020</td>\n",
       "      <td>40336.363974</td>\n",
       "      <td>MULTILINESTRING ((4240888.617 879516.672, 4240...</td>\n",
       "    </tr>\n",
       "    <tr>\n",
       "      <th>4</th>\n",
       "      <td>17</td>\n",
       "      <td>April 2020</td>\n",
       "      <td>23944.353373</td>\n",
       "      <td>MULTILINESTRING ((4259094.045 882999.902, 4259...</td>\n",
       "    </tr>\n",
       "  </tbody>\n",
       "</table>\n",
       "</div>"
      ],
      "text/plain": [
       "  ROUTE     Vintage    Shape_Leng  \\\n",
       "0     1  April 2020   7022.792659   \n",
       "1    11  April 2020  49572.561792   \n",
       "2    12  April 2020  43357.312581   \n",
       "3    13  April 2020  40336.363974   \n",
       "4    17  April 2020  23944.353373   \n",
       "\n",
       "                                            geometry  \n",
       "0  MULTILINESTRING ((4240543.328 881160.949, 4240...  \n",
       "1  MULTILINESTRING ((4283235.977 876304.828, 4283...  \n",
       "2  MULTILINESTRING ((4240085.753 879540.777, 4240...  \n",
       "3  MULTILINESTRING ((4240888.617 879516.672, 4240...  \n",
       "4  MULTILINESTRING ((4259094.045 882999.902, 4259...  "
      ]
     },
     "execution_count": 20,
     "metadata": {},
     "output_type": "execute_result"
    }
   ],
   "source": [
    "winter2020.head()"
   ]
  },
  {
   "cell_type": "code",
   "execution_count": 17,
   "id": "d0350ed5",
   "metadata": {},
   "outputs": [],
   "source": [
    "fall2019.insert(1, 'Vintage', 'October 2019')"
   ]
  },
  {
   "cell_type": "code",
   "execution_count": 27,
   "id": "bcfc19c6",
   "metadata": {},
   "outputs": [],
   "source": [
    "#use the same routes for both months in 2020\n",
    "#winter2020.insert(1, 'Vintage', 'April 2020')\n",
    "winter2020.insert(1, 'Vintage', 'October 2020')"
   ]
  },
  {
   "cell_type": "code",
   "execution_count": 21,
   "id": "5da7baec",
   "metadata": {},
   "outputs": [
    {
     "name": "stderr",
     "output_type": "stream",
     "text": [
      "C:\\Users\\clid1852\\.conda\\envs\\geoenv\\lib\\site-packages\\pandas\\core\\frame.py:4441: SettingWithCopyWarning: \n",
      "A value is trying to be set on a copy of a slice from a DataFrame\n",
      "\n",
      "See the caveats in the documentation: https://pandas.pydata.org/pandas-docs/stable/user_guide/indexing.html#returning-a-view-versus-a-copy\n",
      "  return super().rename(\n"
     ]
    }
   ],
   "source": [
    "routes.rename(columns = {'SHAPE_Leng': 'Shape_Leng'}, inplace =True)"
   ]
  },
  {
   "cell_type": "code",
   "execution_count": 23,
   "id": "83205723",
   "metadata": {},
   "outputs": [],
   "source": [
    "routes = routes.append(fall2019)"
   ]
  },
  {
   "cell_type": "code",
   "execution_count": 28,
   "id": "27eff297",
   "metadata": {},
   "outputs": [],
   "source": [
    "routes = routes.append(winter2020)"
   ]
  },
  {
   "cell_type": "code",
   "execution_count": 7,
   "id": "86932f93",
   "metadata": {},
   "outputs": [],
   "source": [
    "fall2022 = gpd.read_file(r'T:\\Data\\LTD Data\\2022 Fall LTD Routes and Stops\\Fall_2022_Routes.shp')"
   ]
  },
  {
   "cell_type": "code",
   "execution_count": 12,
   "id": "bafb3d03",
   "metadata": {},
   "outputs": [
    {
     "data": {
      "text/html": [
       "<div>\n",
       "<style scoped>\n",
       "    .dataframe tbody tr th:only-of-type {\n",
       "        vertical-align: middle;\n",
       "    }\n",
       "\n",
       "    .dataframe tbody tr th {\n",
       "        vertical-align: top;\n",
       "    }\n",
       "\n",
       "    .dataframe thead th {\n",
       "        text-align: right;\n",
       "    }\n",
       "</style>\n",
       "<table border=\"1\" class=\"dataframe\">\n",
       "  <thead>\n",
       "    <tr style=\"text-align: right;\">\n",
       "      <th></th>\n",
       "      <th>ROUTE</th>\n",
       "      <th>Vintage</th>\n",
       "      <th>geometry</th>\n",
       "      <th>Shape_Leng</th>\n",
       "    </tr>\n",
       "  </thead>\n",
       "  <tbody>\n",
       "    <tr>\n",
       "      <th>0</th>\n",
       "      <td>1</td>\n",
       "      <td>October 2022</td>\n",
       "      <td>MULTILINESTRING ((4240543.328 881160.949, 4240...</td>\n",
       "      <td>7022.792643</td>\n",
       "    </tr>\n",
       "    <tr>\n",
       "      <th>1</th>\n",
       "      <td>11</td>\n",
       "      <td>October 2022</td>\n",
       "      <td>MULTILINESTRING ((4283235.977 876304.828, 4283...</td>\n",
       "      <td>49572.561184</td>\n",
       "    </tr>\n",
       "    <tr>\n",
       "      <th>2</th>\n",
       "      <td>12</td>\n",
       "      <td>October 2022</td>\n",
       "      <td>MULTILINESTRING ((4240085.753 879540.777, 4240...</td>\n",
       "      <td>43357.313064</td>\n",
       "    </tr>\n",
       "    <tr>\n",
       "      <th>3</th>\n",
       "      <td>13</td>\n",
       "      <td>October 2022</td>\n",
       "      <td>MULTILINESTRING ((4240888.617 879516.672, 4240...</td>\n",
       "      <td>40336.364016</td>\n",
       "    </tr>\n",
       "    <tr>\n",
       "      <th>4</th>\n",
       "      <td>17</td>\n",
       "      <td>October 2022</td>\n",
       "      <td>MULTILINESTRING ((4258842.335 876598.753, 4258...</td>\n",
       "      <td>32887.889969</td>\n",
       "    </tr>\n",
       "  </tbody>\n",
       "</table>\n",
       "</div>"
      ],
      "text/plain": [
       "  ROUTE       Vintage                                           geometry  \\\n",
       "0     1  October 2022  MULTILINESTRING ((4240543.328 881160.949, 4240...   \n",
       "1    11  October 2022  MULTILINESTRING ((4283235.977 876304.828, 4283...   \n",
       "2    12  October 2022  MULTILINESTRING ((4240085.753 879540.777, 4240...   \n",
       "3    13  October 2022  MULTILINESTRING ((4240888.617 879516.672, 4240...   \n",
       "4    17  October 2022  MULTILINESTRING ((4258842.335 876598.753, 4258...   \n",
       "\n",
       "     Shape_Leng  \n",
       "0   7022.792643  \n",
       "1  49572.561184  \n",
       "2  43357.313064  \n",
       "3  40336.364016  \n",
       "4  32887.889969  "
      ]
     },
     "execution_count": 12,
     "metadata": {},
     "output_type": "execute_result"
    }
   ],
   "source": [
    "fall2022.head()"
   ]
  },
  {
   "cell_type": "code",
   "execution_count": 10,
   "id": "2394e0ed",
   "metadata": {},
   "outputs": [],
   "source": [
    "fall2022.insert(1, 'Vintage', 'October 2022')"
   ]
  },
  {
   "cell_type": "code",
   "execution_count": 11,
   "id": "b10f0117",
   "metadata": {},
   "outputs": [],
   "source": [
    "fall2022.loc[:, 'Shape_Leng'] = fall2022.length"
   ]
  },
  {
   "cell_type": "code",
   "execution_count": 15,
   "id": "8d0d8197",
   "metadata": {},
   "outputs": [],
   "source": [
    "routes = routes.append(fall2022[list(routes.columns)])"
   ]
  },
  {
   "cell_type": "code",
   "execution_count": 16,
   "id": "a6193bc9",
   "metadata": {},
   "outputs": [],
   "source": [
    "routes.to_file(os.path.join(path, 'LTD_Routes4Tableau.shp'))"
   ]
  }
 ],
 "metadata": {
  "kernelspec": {
   "display_name": "Python 3",
   "language": "python",
   "name": "python3"
  },
  "language_info": {
   "codemirror_mode": {
    "name": "ipython",
    "version": 3
   },
   "file_extension": ".py",
   "mimetype": "text/x-python",
   "name": "python",
   "nbconvert_exporter": "python",
   "pygments_lexer": "ipython3",
   "version": "3.8.8"
  }
 },
 "nbformat": 4,
 "nbformat_minor": 5
}
