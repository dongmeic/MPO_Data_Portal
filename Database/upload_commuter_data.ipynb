{
 "cells": [
  {
   "cell_type": "code",
   "execution_count": 1,
   "id": "87c69736",
   "metadata": {},
   "outputs": [],
   "source": [
    "import pandas as pd\n",
    "import pyodbc\n",
    "import numpy as np\n",
    "import os"
   ]
  },
  {
   "cell_type": "code",
   "execution_count": 22,
   "id": "86360d42",
   "metadata": {},
   "outputs": [],
   "source": [
    "path = r'T:\\Tableau\\tableauJourneyToWork\\Datasources'"
   ]
  },
  {
   "cell_type": "code",
   "execution_count": 73,
   "id": "f7c84ecc",
   "metadata": {},
   "outputs": [
    {
     "name": "stdout",
     "output_type": "stream",
     "text": [
      "     Year             Geography                              Mode  Estimate  \\\n",
      "0    2009                Coburg                           Bicycle         2   \n",
      "1    2009                Coburg    Car, truck, or van - Carpooled        83   \n",
      "2    2009                Coburg  Car, truck, or van - Drove alone       373   \n",
      "3    2009                Coburg                        Motorcycle         0   \n",
      "4    2009                Coburg                       Other means         3   \n",
      "..    ...                   ...                               ...       ...   \n",
      "580  2021  Salem Urbanized Area                        Motorcycle       212   \n",
      "581  2021  Salem Urbanized Area                           Bicycle      1248   \n",
      "582  2021  Salem Urbanized Area                            Walked      3067   \n",
      "583  2021  Salem Urbanized Area                       Other means       782   \n",
      "584  2021  Salem Urbanized Area                    Worked at home     11010   \n",
      "\n",
      "     MOE_Est     Share  MOE_Share   SharePct  MOE_SharePct  \n",
      "0          4  0.004057   0.008081   0.405680      0.808121  \n",
      "1         37  0.168357   0.068771  16.835700      6.877146  \n",
      "2         81  0.756592   0.093572  75.659229      9.357241  \n",
      "3        123  0.000000   0.249493   0.000000     24.949290  \n",
      "4          5  0.006085   0.010084   0.608519      1.008365  \n",
      "..       ...       ...        ...        ...           ...  \n",
      "580      121  0.001794   0.001023   0.179430      0.102347  \n",
      "581      343  0.010563   0.002895   1.056267      0.289533  \n",
      "582      436  0.025958   0.003653   2.595809      0.365340  \n",
      "583      255  0.006619   0.002154   0.661859      0.215417  \n",
      "584      888  0.093185   0.007281   9.318505      0.728061  \n",
      "\n",
      "[585 rows x 9 columns]\n"
     ]
    }
   ],
   "source": [
    "# adjust accordingly on the tables ModeShare_ALL_Years; ModeByVehiclesAvailable_AllYears; \n",
    "# ModeByPovertyStatus_AllYears; TimeLeavingForWork_AllYears; TravelTimeToWork_AllYears\n",
    "data = pd.read_csv(path + '\\\\ModeShare_ALL_Years.csv')   \n",
    "df = pd.DataFrame(data)\n",
    "\n",
    "print(df)"
   ]
  },
  {
   "cell_type": "code",
   "execution_count": 74,
   "id": "f56d23b2",
   "metadata": {},
   "outputs": [
    {
     "data": {
      "text/plain": [
       "Year              int64\n",
       "Geography        object\n",
       "Mode             object\n",
       "Estimate          int64\n",
       "MOE_Est           int64\n",
       "Share           float64\n",
       "MOE_Share       float64\n",
       "SharePct        float64\n",
       "MOE_SharePct    float64\n",
       "dtype: object"
      ]
     },
     "execution_count": 74,
     "metadata": {},
     "output_type": "execute_result"
    }
   ],
   "source": [
    "df.dtypes"
   ]
  },
  {
   "cell_type": "code",
   "execution_count": 3,
   "id": "39c053f7",
   "metadata": {},
   "outputs": [],
   "source": [
    "conn = pyodbc.connect('Driver={SQL Server};'\n",
    "                      'Server=rliddb.int.lcog.org,5433;'\n",
    "                      'Database=GIS_CLMPO;'\n",
    "                      'Trusted_Connection=yes;')\n",
    "cursor = conn.cursor()"
   ]
  },
  {
   "cell_type": "code",
   "execution_count": 66,
   "id": "971b2e01",
   "metadata": {},
   "outputs": [
    {
     "data": {
      "text/plain": [
       "array(['Less than 5 minutes', '5 to 9 minutes', '10 to 14 minutes',\n",
       "       '15 to 19 minutes', '20 to 24 minutes', '25 to 29 minutes',\n",
       "       '30 to 34 minutes', '35 to 39 minutes', '40 to 44 minutes',\n",
       "       '45 to 59 minutes', '60 to 89 minutes', '90 or more minutes'],\n",
       "      dtype=object)"
      ]
     },
     "execution_count": 66,
     "metadata": {},
     "output_type": "execute_result"
    }
   ],
   "source": [
    "df['Length.of.Commute'].unique()"
   ]
  },
  {
   "cell_type": "code",
   "execution_count": 67,
   "id": "9399fd7d",
   "metadata": {},
   "outputs": [
    {
     "data": {
      "text/plain": [
       "18"
      ]
     },
     "execution_count": 67,
     "metadata": {},
     "output_type": "execute_result"
    }
   ],
   "source": [
    "len('90 or more minutes')"
   ]
  },
  {
   "cell_type": "code",
   "execution_count": 75,
   "id": "1256125d",
   "metadata": {},
   "outputs": [],
   "source": [
    "df.replace({np.inf: np.nan, -np.inf: np.nan}, inplace=True)"
   ]
  },
  {
   "cell_type": "code",
   "execution_count": 76,
   "id": "5f87acda",
   "metadata": {},
   "outputs": [],
   "source": [
    "df = df.fillna(0)"
   ]
  },
  {
   "cell_type": "code",
   "execution_count": 77,
   "id": "731ac3d2",
   "metadata": {},
   "outputs": [
    {
     "data": {
      "text/plain": [
       "<pyodbc.Cursor at 0x23b6a067ab0>"
      ]
     },
     "execution_count": 77,
     "metadata": {},
     "output_type": "execute_result"
    }
   ],
   "source": [
    "# table names: mode_share, mode_by_vehicles_available, mode_by_poverty_status, time_leaving_for_work, travel_time_to_work\n",
    "# rewrite tables: DROP TABLE mode_share;\n",
    "# edit accordingly the table\n",
    "cursor.execute('''\n",
    "            CREATE TABLE mode_share_test(\n",
    "            year int,\n",
    "            geo varchar(50),\n",
    "            mode varchar(50),\n",
    "            estimate int,\n",
    "            moe_est int,\n",
    "            share float,\n",
    "            moe_share float,\n",
    "            share_pct float,\n",
    "            moe_share_pct float\n",
    "            )\n",
    "               ''')"
   ]
  },
  {
   "cell_type": "code",
   "execution_count": 71,
   "id": "663a4c02",
   "metadata": {},
   "outputs": [],
   "source": [
    "#df.rename(columns={'Mode.by.Vehicle.Availability': 'Mode', 'Vehicles.Available': 'VHCL_AVAIL'}, inplace=True)\n",
    "#df.rename(columns={'Travel.Mode': 'Mode', 'Poverty.Status': 'Poverty_Status'}, inplace=True)\n",
    "#df.rename(columns={'Time.Leaving.for.Work..Census.': 'Time_Leaving', 'Time.Leaving.for.Work': 'FormattedTime'}, inplace=True)\n",
    "df.rename(columns={'Length.of.Commute': 'length_of_commute'}, inplace=True)"
   ]
  },
  {
   "cell_type": "code",
   "execution_count": 78,
   "id": "c6d6978e",
   "metadata": {},
   "outputs": [],
   "source": [
    "ndf = df[df.Year != 2021]"
   ]
  },
  {
   "cell_type": "code",
   "execution_count": 80,
   "id": "62a2ca99",
   "metadata": {},
   "outputs": [],
   "source": [
    "# mode_share, mode_by_vehicles_available, mode_by_poverty_status, time_leaving_for_work, travel_time_to_work\n",
    "for row in df.itertuples():\n",
    "    cursor.execute('''\n",
    "                INSERT INTO mode_share_test(year, geo, mode, estimate, moe_est, share, moe_share, share_pct, moe_share_pct)\n",
    "                VALUES (?,?,?,?,?,?,?,?,?)\n",
    "                ''',\n",
    "                   row.Year,\n",
    "                   row.Geography,\n",
    "                   row.Mode,\n",
    "                   row.Estimate,\n",
    "                   row.MOE_Est,\n",
    "                   row.Share,\n",
    "                   row.MOE_Share,\n",
    "                   row.SharePct,\n",
    "                   row.MOE_SharePct\n",
    "                  )\n",
    "conn.commit()"
   ]
  }
 ],
 "metadata": {
  "kernelspec": {
   "display_name": "Python 3",
   "language": "python",
   "name": "python3"
  },
  "language_info": {
   "codemirror_mode": {
    "name": "ipython",
    "version": 3
   },
   "file_extension": ".py",
   "mimetype": "text/x-python",
   "name": "python",
   "nbconvert_exporter": "python",
   "pygments_lexer": "ipython3",
   "version": "3.8.8"
  }
 },
 "nbformat": 4,
 "nbformat_minor": 5
}
