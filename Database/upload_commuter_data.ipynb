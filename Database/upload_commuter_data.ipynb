{
 "cells": [
  {
   "cell_type": "code",
   "execution_count": 2,
   "id": "a66ef363",
   "metadata": {},
   "outputs": [],
   "source": [
    "import pandas as pd\n",
    "import pyodbc\n",
    "import numpy as np\n",
    "import os"
   ]
  },
  {
   "cell_type": "code",
   "execution_count": 22,
   "id": "40b3225f",
   "metadata": {},
   "outputs": [],
   "source": [
    "path = r'T:\\Tableau\\tableauJourneyToWork\\Datasources'"
   ]
  },
  {
   "cell_type": "code",
   "execution_count": 81,
   "id": "86248cb7",
   "metadata": {},
   "outputs": [
    {
     "name": "stdout",
     "output_type": "stream",
     "text": [
      "     Year             Geography Time.Leaving.for.Work..Census.  \\\n",
      "0    2000                Coburg        12:00 a.m. to 4:59 a.m.   \n",
      "1    2000                Coburg         5:00 a.m. to 5:29 a.m.   \n",
      "2    2000                Coburg         5:30 a.m. to 5:59 a.m.   \n",
      "3    2000                Coburg         6:00 a.m. to 6:29 a.m.   \n",
      "4    2000                Coburg         6:30 a.m. to 6:59 a.m.   \n",
      "..    ...                   ...                            ...   \n",
      "975  2021  Salem Urbanized Area         9:00 a.m. to 9:59 a.m.   \n",
      "976  2021  Salem Urbanized Area       10:00 a.m. to 10:59 a.m.   \n",
      "977  2021  Salem Urbanized Area       11:00 a.m. to 11:59 a.m.   \n",
      "978  2021  Salem Urbanized Area        12:00 p.m. to 3:59 p.m.   \n",
      "979  2021  Salem Urbanized Area        4:00 p.m. to 11:59 p.m.   \n",
      "\n",
      "    Time.Leaving.for.Work  Estimate  MOE_Est     Share  MOE_Share   SharePCT  \\\n",
      "0        Midnight to 5 AM        18      NaN       NaN        NaN   4.090909   \n",
      "1            5 to 5:30 AM        14      NaN       NaN        NaN   3.181818   \n",
      "2            5:30 to 6 AM        19      NaN       NaN        NaN   4.318182   \n",
      "3            6 to 6:30 AM        36      NaN       NaN        NaN   8.181818   \n",
      "4            6:30 to 7 AM        46      NaN       NaN        NaN  10.454545   \n",
      "..                    ...       ...      ...       ...        ...        ...   \n",
      "975            9 to 10 AM      5892    885.0  0.054992   0.008172   5.499244   \n",
      "976           10 to 11 AM      3000    476.0  0.028000   0.004400   2.800022   \n",
      "977         11 AM to Noon      1469    350.0  0.013711   0.003253   1.371078   \n",
      "978          Noon to 4 PM      7661    782.0  0.071503   0.007130   7.150324   \n",
      "979      4 PM to Midnight      6908    747.0  0.064475   0.006828   6.447518   \n",
      "\n",
      "     MOE_SharePct  \n",
      "0             NaN  \n",
      "1             NaN  \n",
      "2             NaN  \n",
      "3             NaN  \n",
      "4             NaN  \n",
      "..            ...  \n",
      "975      0.817221  \n",
      "976      0.440038  \n",
      "977      0.325293  \n",
      "978      0.712956  \n",
      "979      0.682825  \n",
      "\n",
      "[980 rows x 10 columns]\n"
     ]
    }
   ],
   "source": [
    "# adjust accordingly on the tables ModeShare_ALL_Years; ModeByVehiclesAvailable_AllYears; \n",
    "# ModeByPovertyStatus_AllYears; TimeLeavingForWork_AllYears; TravelTimeToWork_AllYears\n",
    "data = pd.read_csv(path + '\\\\TimeLeavingForWork_AllYears.csv')   \n",
    "df = pd.DataFrame(data)\n",
    "\n",
    "print(df)"
   ]
  },
  {
   "cell_type": "code",
   "execution_count": 82,
   "id": "3c748bff",
   "metadata": {},
   "outputs": [
    {
     "data": {
      "text/plain": [
       "Year                                int64\n",
       "Geography                          object\n",
       "Time.Leaving.for.Work..Census.     object\n",
       "Time.Leaving.for.Work              object\n",
       "Estimate                            int64\n",
       "MOE_Est                           float64\n",
       "Share                             float64\n",
       "MOE_Share                         float64\n",
       "SharePCT                          float64\n",
       "MOE_SharePct                      float64\n",
       "dtype: object"
      ]
     },
     "execution_count": 82,
     "metadata": {},
     "output_type": "execute_result"
    }
   ],
   "source": [
    "df.dtypes"
   ]
  },
  {
   "cell_type": "code",
   "execution_count": 3,
   "id": "8429a998",
   "metadata": {},
   "outputs": [],
   "source": [
    "conn = pyodbc.connect('Driver={SQL Server};'\n",
    "                      'Server=rliddb.int.lcog.org,5433;'\n",
    "                      'Database=GIS_CLMPO;'\n",
    "                      'Trusted_Connection=yes;')\n",
    "cursor = conn.cursor()"
   ]
  },
  {
   "cell_type": "code",
   "execution_count": 66,
   "id": "ab7e9427",
   "metadata": {},
   "outputs": [
    {
     "data": {
      "text/plain": [
       "array(['Less than 5 minutes', '5 to 9 minutes', '10 to 14 minutes',\n",
       "       '15 to 19 minutes', '20 to 24 minutes', '25 to 29 minutes',\n",
       "       '30 to 34 minutes', '35 to 39 minutes', '40 to 44 minutes',\n",
       "       '45 to 59 minutes', '60 to 89 minutes', '90 or more minutes'],\n",
       "      dtype=object)"
      ]
     },
     "execution_count": 66,
     "metadata": {},
     "output_type": "execute_result"
    }
   ],
   "source": [
    "df['Length.of.Commute'].unique()"
   ]
  },
  {
   "cell_type": "code",
   "execution_count": 67,
   "id": "aa6745b2",
   "metadata": {},
   "outputs": [
    {
     "data": {
      "text/plain": [
       "18"
      ]
     },
     "execution_count": 67,
     "metadata": {},
     "output_type": "execute_result"
    }
   ],
   "source": [
    "len('90 or more minutes')"
   ]
  },
  {
   "cell_type": "code",
   "execution_count": 83,
   "id": "da47f432",
   "metadata": {},
   "outputs": [],
   "source": [
    "df.replace({np.inf: np.nan, -np.inf: np.nan}, inplace=True)"
   ]
  },
  {
   "cell_type": "code",
   "execution_count": 84,
   "id": "e57f0436",
   "metadata": {},
   "outputs": [],
   "source": [
    "df = df.fillna(0)"
   ]
  },
  {
   "cell_type": "code",
   "execution_count": 85,
   "id": "4e068244",
   "metadata": {},
   "outputs": [
    {
     "data": {
      "text/plain": [
       "<pyodbc.Cursor at 0x23b6a067ab0>"
      ]
     },
     "execution_count": 85,
     "metadata": {},
     "output_type": "execute_result"
    }
   ],
   "source": [
    "# table names: mode_share, mode_by_vehicles_available, mode_by_poverty_status, time_leaving_for_work, travel_time_to_work\n",
    "# rewrite tables: DROP TABLE mode_share;\n",
    "# edit accordingly the table\n",
    "cursor.execute('''\n",
    "            CREATE TABLE time_leaving_for_work_test(\n",
    "            year int,\n",
    "            geo varchar(50),\n",
    "            time_leaving varchar(50),\n",
    "            formatted_time varchar(50),\n",
    "            estimate int,\n",
    "            moe_est int,\n",
    "            share float,\n",
    "            moe_share float,\n",
    "            share_pct float,\n",
    "            moe_share_pct float\n",
    "            )\n",
    "               ''')"
   ]
  },
  {
   "cell_type": "code",
   "execution_count": 86,
   "id": "3b262bba",
   "metadata": {},
   "outputs": [],
   "source": [
    "#df.rename(columns={'Mode.by.Vehicle.Availability': 'Mode', 'Vehicles.Available': 'VHCL_AVAIL'}, inplace=True)\n",
    "#df.rename(columns={'Travel.Mode': 'Mode', 'Poverty.Status': 'Poverty_Status'}, inplace=True)\n",
    "df.rename(columns={'Time.Leaving.for.Work..Census.': 'Time_Leaving', 'Time.Leaving.for.Work': 'FormattedTime'}, inplace=True)\n",
    "#df.rename(columns={'Length.of.Commute': 'length_of_commute'}, inplace=True)"
   ]
  },
  {
   "cell_type": "code",
   "execution_count": 87,
   "id": "e3158249",
   "metadata": {},
   "outputs": [],
   "source": [
    "ndf = df[df.Year != 2021]"
   ]
  },
  {
   "cell_type": "code",
   "execution_count": 90,
   "id": "d847a8e8",
   "metadata": {},
   "outputs": [],
   "source": [
    "# mode_share, mode_by_vehicles_available, mode_by_poverty_status, time_leaving_for_work, travel_time_to_work\n",
    "for row in ndf.itertuples():\n",
    "    cursor.execute('''\n",
    "                INSERT INTO time_leaving_for_work_test(year, geo, time_leaving, formatted_time, estimate, moe_est, share, moe_share, share_pct, moe_share_pct)\n",
    "                VALUES (?,?,?,?,?,?,?,?,?,?)\n",
    "                ''',\n",
    "                   row.Year,\n",
    "                   row.Geography,\n",
    "                   row.Time_Leaving,\n",
    "                   row.FormattedTime,\n",
    "                   row.Estimate,\n",
    "                   row.MOE_Est,\n",
    "                   row.Share,\n",
    "                   row.MOE_Share,\n",
    "                   row.SharePCT,\n",
    "                   row.MOE_SharePct\n",
    "                  )\n",
    "conn.commit()"
   ]
  }
 ],
 "metadata": {
  "kernelspec": {
   "display_name": "Python 3 (ipykernel)",
   "language": "python",
   "name": "python3"
  },
  "language_info": {
   "codemirror_mode": {
    "name": "ipython",
    "version": 3
   },
   "file_extension": ".py",
   "mimetype": "text/x-python",
   "name": "python",
   "nbconvert_exporter": "python",
   "pygments_lexer": "ipython3",
   "version": "3.9.13"
  }
 },
 "nbformat": 4,
 "nbformat_minor": 5
}
