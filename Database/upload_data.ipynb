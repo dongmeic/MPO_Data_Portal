{
 "cells": [
  {
   "cell_type": "code",
   "execution_count": 1,
   "id": "013faac5",
   "metadata": {},
   "outputs": [],
   "source": [
    "import pandas as pd\n",
    "import pyodbc\n",
    "import numpy as np"
   ]
  },
  {
   "cell_type": "code",
   "execution_count": 2,
   "id": "1dc17acf",
   "metadata": {},
   "outputs": [
    {
     "name": "stdout",
     "output_type": "stream",
     "text": [
      "     Year             Geography                              Mode  Estimate  \\\n",
      "0    2009                Coburg                           Bicycle         2   \n",
      "1    2009                Coburg    Car, truck, or van - Carpooled        83   \n",
      "2    2009                Coburg  Car, truck, or van - Drove alone       373   \n",
      "3    2009                Coburg                        Motorcycle         0   \n",
      "4    2009                Coburg                       Other means         3   \n",
      "..    ...                   ...                               ...       ...   \n",
      "580  2021  Salem Urbanized Area                        Motorcycle       212   \n",
      "581  2021  Salem Urbanized Area                           Bicycle      1248   \n",
      "582  2021  Salem Urbanized Area                            Walked      3067   \n",
      "583  2021  Salem Urbanized Area                       Other means       782   \n",
      "584  2021  Salem Urbanized Area                    Worked at home     11010   \n",
      "\n",
      "     MOE_Est     Share  MOE_Share   SharePct  MOE_SharePct  \n",
      "0          4  0.004057   0.008081   0.405680      0.808121  \n",
      "1         37  0.168357   0.068771  16.835700      6.877146  \n",
      "2         81  0.756592   0.093572  75.659229      9.357241  \n",
      "3        123  0.000000   0.249493   0.000000     24.949290  \n",
      "4          5  0.006085   0.010084   0.608519      1.008365  \n",
      "..       ...       ...        ...        ...           ...  \n",
      "580      121  0.001794   0.001023   0.179430      0.102347  \n",
      "581      343  0.010563   0.002895   1.056267      0.289533  \n",
      "582      436  0.025958   0.003653   2.595809      0.365340  \n",
      "583      255  0.006619   0.002154   0.661859      0.215417  \n",
      "584      888  0.093185   0.007281   9.318505      0.728061  \n",
      "\n",
      "[585 rows x 9 columns]\n"
     ]
    }
   ],
   "source": [
    "data = pd.read_csv (r'T:\\Tableau\\tableauJourneyToWork\\Datasources\\ModeShare_ALL_Years.csv')   \n",
    "df = pd.DataFrame(data)\n",
    "\n",
    "print(df)"
   ]
  },
  {
   "cell_type": "code",
   "execution_count": 12,
   "id": "c5e617c5",
   "metadata": {},
   "outputs": [
    {
     "data": {
      "text/plain": [
       "Year              int64\n",
       "Geography        object\n",
       "Mode             object\n",
       "Estimate          int64\n",
       "MOE_Est           int64\n",
       "Share           float64\n",
       "MOE_Share       float64\n",
       "SharePct        float64\n",
       "MOE_SharePct    float64\n",
       "dtype: object"
      ]
     },
     "execution_count": 12,
     "metadata": {},
     "output_type": "execute_result"
    }
   ],
   "source": [
    "df.dtypes"
   ]
  },
  {
   "cell_type": "code",
   "execution_count": 3,
   "id": "9e605e87",
   "metadata": {},
   "outputs": [],
   "source": [
    "conn = pyodbc.connect('Driver={SQL Server};'\n",
    "                      'Server=rliddb.int.lcog.org,5433;'\n",
    "                      'Database=GIS_CLMPO;'\n",
    "                      'Trusted_Connection=yes;')\n",
    "cursor = conn.cursor()"
   ]
  },
  {
   "cell_type": "code",
   "execution_count": 5,
   "id": "2545b572",
   "metadata": {},
   "outputs": [
    {
     "data": {
      "text/plain": [
       "array(['Bicycle', 'Car, truck, or van - Carpooled',\n",
       "       'Car, truck, or van - Drove alone', 'Motorcycle', 'Other means',\n",
       "       'Public transportation (excluding taxicab)', 'Taxicab', 'Walked',\n",
       "       'Worked at home'], dtype=object)"
      ]
     },
     "execution_count": 5,
     "metadata": {},
     "output_type": "execute_result"
    }
   ],
   "source": [
    "df.Mode.unique()"
   ]
  },
  {
   "cell_type": "code",
   "execution_count": 15,
   "id": "5122d655",
   "metadata": {},
   "outputs": [],
   "source": [
    "df.replace({np.inf: np.nan, -np.inf: np.nan}, inplace=True)"
   ]
  },
  {
   "cell_type": "code",
   "execution_count": 16,
   "id": "f0aac10b",
   "metadata": {},
   "outputs": [],
   "source": [
    "df = df.fillna(0)"
   ]
  },
  {
   "cell_type": "code",
   "execution_count": 19,
   "id": "4ec774ff",
   "metadata": {},
   "outputs": [
    {
     "data": {
      "text/plain": [
       "<pyodbc.Cursor at 0x23b6a067ab0>"
      ]
     },
     "execution_count": 19,
     "metadata": {},
     "output_type": "execute_result"
    }
   ],
   "source": [
    "cursor.execute('''\n",
    "            DROP TABLE mode_share;\n",
    "            CREATE TABLE mode_share (\n",
    "            year int,\n",
    "            geo varchar(50),\n",
    "            mode varchar(50),\n",
    "            estimate int,\n",
    "            moe_est int,\n",
    "            share float,\n",
    "            moe_share float,\n",
    "            share_pct float,\n",
    "            moe_share_pct float\n",
    "            )\n",
    "               ''')"
   ]
  },
  {
   "cell_type": "code",
   "execution_count": 20,
   "id": "a85554ad",
   "metadata": {},
   "outputs": [],
   "source": [
    "for row in df.itertuples():\n",
    "    cursor.execute('''\n",
    "                INSERT INTO mode_share (year, geo, mode, estimate, moe_est, share, moe_share, share_pct, moe_share_pct)\n",
    "                VALUES (?,?,?,?,?,?,?,?,?)\n",
    "                ''',\n",
    "                   row.Year,\n",
    "                   row.Geography,\n",
    "                   row.Mode,\n",
    "                   row.Estimate,\n",
    "                   row.MOE_Est,\n",
    "                   row.Share,\n",
    "                   row.MOE_Share,\n",
    "                   row.SharePct,\n",
    "                   row.MOE_SharePct\n",
    "                  )\n",
    "conn.commit()"
   ]
  }
 ],
 "metadata": {
  "kernelspec": {
   "display_name": "Python 3",
   "language": "python",
   "name": "python3"
  },
  "language_info": {
   "codemirror_mode": {
    "name": "ipython",
    "version": 3
   },
   "file_extension": ".py",
   "mimetype": "text/x-python",
   "name": "python",
   "nbconvert_exporter": "python",
   "pygments_lexer": "ipython3",
   "version": "3.8.8"
  }
 },
 "nbformat": 4,
 "nbformat_minor": 5
}
