{
 "cells": [
  {
   "cell_type": "code",
   "execution_count": 1,
   "id": "dc8d3ed8",
   "metadata": {},
   "outputs": [],
   "source": [
    "import pandas as pd\n",
    "import pyodbc\n",
    "import numpy as np\n",
    "import os"
   ]
  },
  {
   "cell_type": "code",
   "execution_count": 22,
   "id": "55bad684",
   "metadata": {},
   "outputs": [],
   "source": [
    "path = r'T:\\Tableau\\tableauJourneyToWork\\Datasources'"
   ]
  },
  {
   "cell_type": "code",
   "execution_count": 37,
   "id": "db59e191",
   "metadata": {},
   "outputs": [
    {
     "name": "stdout",
     "output_type": "stream",
     "text": [
      "      Year              Geography  \\\n",
      "0     2009                 Coburg   \n",
      "1     2009                 Coburg   \n",
      "2     2009                 Coburg   \n",
      "3     2009                 Coburg   \n",
      "4     2009                 Coburg   \n",
      "...    ...                    ...   \n",
      "1165  2021  Eugene Urbanized Area   \n",
      "1166  2021  Eugene Urbanized Area   \n",
      "1167  2021   Salem Urbanized Area   \n",
      "1168  2021   Salem Urbanized Area   \n",
      "1169  2021   Salem Urbanized Area   \n",
      "\n",
      "                                       Travel.Mode  \\\n",
      "0                 Car, truck, or van - drove alone   \n",
      "1                   Car, truck, or van - carpooled   \n",
      "2        Public transportation (excluding taxicab)   \n",
      "3                                           Walked   \n",
      "4     Taxicab, motorcycle, bicycle, or other means   \n",
      "...                                            ...   \n",
      "1165                                Worked at home   \n",
      "1166                                Worked at home   \n",
      "1167                                Worked at home   \n",
      "1168                                Worked at home   \n",
      "1169                                Worked at home   \n",
      "\n",
      "                                    Poverty.Status  Estimate  MOE_Est  \\\n",
      "0          100 to 149 percent of the poverty level        14       19   \n",
      "1          100 to 149 percent of the poverty level         0      123   \n",
      "2          100 to 149 percent of the poverty level         0      123   \n",
      "3          100 to 149 percent of the poverty level         0      123   \n",
      "4          100 to 149 percent of the poverty level         0      123   \n",
      "...                                            ...       ...      ...   \n",
      "1165       100 to 149 percent of the poverty level      1171      405   \n",
      "1166  At or above 150 percent of the poverty level     11404      902   \n",
      "1167        Below 100 percent of the poverty level       500      188   \n",
      "1168       100 to 149 percent of the poverty level       676      246   \n",
      "1169  At or above 150 percent of the poverty level      9708      794   \n",
      "\n",
      "         Share  MOE_Share    SharePCT  MOE_SharePct  \n",
      "0     1.000000   0.000000  100.000000      0.000000  \n",
      "1     0.000000   8.785714    0.000000    878.571429  \n",
      "2     0.000000   8.785714    0.000000    878.571429  \n",
      "3     0.000000   8.785714    0.000000    878.571429  \n",
      "4     0.000000   8.785714    0.000000    878.571429  \n",
      "...        ...        ...         ...           ...  \n",
      "1165  0.109276   0.036488   10.927585      3.648761  \n",
      "1166  0.107176   0.008186   10.717642      0.818617  \n",
      "1167  0.064135   0.022940    6.413545      2.293952  \n",
      "1168  0.077372   0.026421    7.737210      2.642059  \n",
      "1169  0.096204   0.007430    9.620359      0.742974  \n",
      "\n",
      "[1170 rows x 10 columns]\n"
     ]
    }
   ],
   "source": [
    "# adjust accordingly on the tables ModeShare_ALL_Years; ModeByVehiclesAvailable_AllYears\n",
    "data = pd.read_csv(path + '\\\\ModeByPovertyStatus_AllYears.csv')   \n",
    "df = pd.DataFrame(data)\n",
    "\n",
    "print(df)"
   ]
  },
  {
   "cell_type": "code",
   "execution_count": 44,
   "id": "efb21e20",
   "metadata": {},
   "outputs": [
    {
     "data": {
      "text/plain": [
       "Year                int64\n",
       "Geography          object\n",
       "Travel.Mode        object\n",
       "Poverty.Status     object\n",
       "Estimate            int64\n",
       "MOE_Est             int64\n",
       "Share             float64\n",
       "MOE_Share         float64\n",
       "SharePCT          float64\n",
       "MOE_SharePct      float64\n",
       "dtype: object"
      ]
     },
     "execution_count": 44,
     "metadata": {},
     "output_type": "execute_result"
    }
   ],
   "source": [
    "df.dtypes"
   ]
  },
  {
   "cell_type": "code",
   "execution_count": 3,
   "id": "b72b536a",
   "metadata": {},
   "outputs": [],
   "source": [
    "conn = pyodbc.connect('Driver={SQL Server};'\n",
    "                      'Server=rliddb.int.lcog.org,5433;'\n",
    "                      'Database=GIS_CLMPO;'\n",
    "                      'Trusted_Connection=yes;')\n",
    "cursor = conn.cursor()"
   ]
  },
  {
   "cell_type": "code",
   "execution_count": 38,
   "id": "3b8b3dbc",
   "metadata": {},
   "outputs": [
    {
     "data": {
      "text/plain": [
       "array(['Car, truck, or van - drove alone',\n",
       "       'Car, truck, or van - carpooled',\n",
       "       'Public transportation (excluding taxicab)', 'Walked',\n",
       "       'Taxicab, motorcycle, bicycle, or other means', 'Worked at home'],\n",
       "      dtype=object)"
      ]
     },
     "execution_count": 38,
     "metadata": {},
     "output_type": "execute_result"
    }
   ],
   "source": [
    "df['Travel.Mode'].unique()"
   ]
  },
  {
   "cell_type": "code",
   "execution_count": 39,
   "id": "38c828af",
   "metadata": {},
   "outputs": [
    {
     "data": {
      "text/plain": [
       "44"
      ]
     },
     "execution_count": 39,
     "metadata": {},
     "output_type": "execute_result"
    }
   ],
   "source": [
    "len('Taxicab, motorcycle, bicycle, or other means')"
   ]
  },
  {
   "cell_type": "code",
   "execution_count": 40,
   "id": "da8c05ae",
   "metadata": {},
   "outputs": [
    {
     "data": {
      "text/plain": [
       "array(['100 to 149 percent of the poverty level',\n",
       "       'At or above 150 percent of the poverty level',\n",
       "       'Below 100 percent of the poverty level'], dtype=object)"
      ]
     },
     "execution_count": 40,
     "metadata": {},
     "output_type": "execute_result"
    }
   ],
   "source": [
    "df['Poverty.Status'].unique()"
   ]
  },
  {
   "cell_type": "code",
   "execution_count": 41,
   "id": "2dbfa41c",
   "metadata": {},
   "outputs": [
    {
     "data": {
      "text/plain": [
       "44"
      ]
     },
     "execution_count": 41,
     "metadata": {},
     "output_type": "execute_result"
    }
   ],
   "source": [
    "len('At or above 150 percent of the poverty level')"
   ]
  },
  {
   "cell_type": "code",
   "execution_count": 42,
   "id": "fdaaa6be",
   "metadata": {},
   "outputs": [],
   "source": [
    "df.replace({np.inf: np.nan, -np.inf: np.nan}, inplace=True)"
   ]
  },
  {
   "cell_type": "code",
   "execution_count": 43,
   "id": "80ba7f99",
   "metadata": {},
   "outputs": [],
   "source": [
    "df = df.fillna(0)"
   ]
  },
  {
   "cell_type": "code",
   "execution_count": 45,
   "id": "f64cbb6e",
   "metadata": {},
   "outputs": [
    {
     "data": {
      "text/plain": [
       "<pyodbc.Cursor at 0x23b6a067ab0>"
      ]
     },
     "execution_count": 45,
     "metadata": {},
     "output_type": "execute_result"
    }
   ],
   "source": [
    "# table names: mode_share, mode_by_vehicles_available\n",
    "# rewrite tables: DROP TABLE mode_share;\n",
    "# edit accordingly the table\n",
    "cursor.execute('''\n",
    "            CREATE TABLE mode_by_poverty_status(\n",
    "            year int,\n",
    "            geo varchar(50),\n",
    "            mode varchar(50),\n",
    "            poverty varchar(50),\n",
    "            estimate int,\n",
    "            moe_est int,\n",
    "            share float,\n",
    "            moe_share float,\n",
    "            share_pct float,\n",
    "            moe_share_pct float\n",
    "            )\n",
    "               ''')"
   ]
  },
  {
   "cell_type": "code",
   "execution_count": 46,
   "id": "3a7c7e01",
   "metadata": {},
   "outputs": [],
   "source": [
    "#df.rename(columns={'Mode.by.Vehicle.Availability': 'Mode', 'Vehicles.Available': 'VHCL_AVAIL'}, inplace=True)\n",
    "df.rename(columns={'Travel.Mode': 'Mode', 'Poverty.Status': 'Poverty_Status'}, inplace=True)"
   ]
  },
  {
   "cell_type": "code",
   "execution_count": 47,
   "id": "a1c59360",
   "metadata": {},
   "outputs": [],
   "source": [
    "# mode_share, mode_by_vehicles_available\n",
    "for row in df.itertuples():\n",
    "    cursor.execute('''\n",
    "                INSERT INTO mode_by_poverty_status(year, geo, mode, poverty, estimate, moe_est, share, moe_share, share_pct, moe_share_pct)\n",
    "                VALUES (?,?,?,?,?,?,?,?,?,?)\n",
    "                ''',\n",
    "                   row.Year,\n",
    "                   row.Geography,\n",
    "                   row.Mode,\n",
    "                   row.Poverty_Status,\n",
    "                   row.Estimate,\n",
    "                   row.MOE_Est,\n",
    "                   row.Share,\n",
    "                   row.MOE_Share,\n",
    "                   row.SharePCT,\n",
    "                   row.MOE_SharePct\n",
    "                  )\n",
    "conn.commit()"
   ]
  }
 ],
 "metadata": {
  "kernelspec": {
   "display_name": "Python 3",
   "language": "python",
   "name": "python3"
  },
  "language_info": {
   "codemirror_mode": {
    "name": "ipython",
    "version": 3
   },
   "file_extension": ".py",
   "mimetype": "text/x-python",
   "name": "python",
   "nbconvert_exporter": "python",
   "pygments_lexer": "ipython3",
   "version": "3.8.8"
  }
 },
 "nbformat": 4,
 "nbformat_minor": 5
}
