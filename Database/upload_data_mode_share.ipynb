{
 "cells": [
  {
   "cell_type": "code",
   "execution_count": 1,
   "id": "c4df0836",
   "metadata": {},
   "outputs": [],
   "source": [
    "import pandas as pd\n",
    "import pyodbc\n",
    "import numpy as np\n",
    "import os"
   ]
  },
  {
   "cell_type": "code",
   "execution_count": 22,
   "id": "937c8fc0",
   "metadata": {},
   "outputs": [],
   "source": [
    "path = r'T:\\Tableau\\tableauJourneyToWork\\Datasources'"
   ]
  },
  {
   "cell_type": "code",
   "execution_count": 23,
   "id": "9e26410b",
   "metadata": {},
   "outputs": [
    {
     "name": "stdout",
     "output_type": "stream",
     "text": [
      "      Year              Geography  \\\n",
      "0     2009                 Coburg   \n",
      "1     2009                 Coburg   \n",
      "2     2009                 Coburg   \n",
      "3     2009                 Coburg   \n",
      "4     2009                 Coburg   \n",
      "...    ...                    ...   \n",
      "1495  2021  Eugene Urbanized Area   \n",
      "1496  2021   Salem Urbanized Area   \n",
      "1497  2021   Salem Urbanized Area   \n",
      "1498  2021   Salem Urbanized Area   \n",
      "1499  2021   Salem Urbanized Area   \n",
      "\n",
      "                      Mode.by.Vehicle.Availability  \\\n",
      "0                 Car, truck, or van - drove alone   \n",
      "1                   Car, truck, or van - carpooled   \n",
      "2        Public transportation (excluding taxicab)   \n",
      "3                                           Walked   \n",
      "4     Taxicab, motorcycle, bicycle, or other means   \n",
      "...                                            ...   \n",
      "1495  Taxicab, motorcycle, bicycle, or other means   \n",
      "1496  Taxicab, motorcycle, bicycle, or other means   \n",
      "1497  Taxicab, motorcycle, bicycle, or other means   \n",
      "1498  Taxicab, motorcycle, bicycle, or other means   \n",
      "1499  Taxicab, motorcycle, bicycle, or other means   \n",
      "\n",
      "                Vehicles.Available  Estimate  MOE_Est     Share  MOE_Share  \\\n",
      "0             No vehicle available         0      123  0.000000  24.600000   \n",
      "1             No vehicle available         2        4  0.400000   0.571314   \n",
      "2             No vehicle available         0      123  0.000000  24.600000   \n",
      "3             No vehicle available         3        6  0.600000   0.856971   \n",
      "4             No vehicle available         0      123  0.000000  24.600000   \n",
      "...                            ...       ...      ...       ...        ...   \n",
      "1495  3 or more vehicles available      3846      594  0.097379   0.014337   \n",
      "1496          No vehicle available       224      108  0.075804   0.033540   \n",
      "1497           1 vehicle available      1980      394  0.086698   0.016377   \n",
      "1498          2 vehicles available      5301      752  0.106392   0.014456   \n",
      "1499  3 or more vehicles available      3325      465  0.080061   0.010269   \n",
      "\n",
      "       SharePCT  MOE_SharePct  \n",
      "0      0.000000   2460.000000  \n",
      "1     40.000000     57.131427  \n",
      "2      0.000000   2460.000000  \n",
      "3     60.000000     85.697141  \n",
      "4      0.000000   2460.000000  \n",
      "...         ...           ...  \n",
      "1495   9.737942      1.433698  \n",
      "1496   7.580372      3.354041  \n",
      "1497   8.669761      1.637686  \n",
      "1498  10.639237      1.445632  \n",
      "1499   8.006068      1.026864  \n",
      "\n",
      "[1500 rows x 10 columns]\n"
     ]
    }
   ],
   "source": [
    "# adjust accordingly on the tables ModeShare_ALL_Years; ModeByVehiclesAvailable_AllYears\n",
    "data = pd.read_csv(path + '\\\\ModeByVehiclesAvailable_AllYears.csv')   \n",
    "df = pd.DataFrame(data)\n",
    "\n",
    "print(df)"
   ]
  },
  {
   "cell_type": "code",
   "execution_count": 24,
   "id": "5ce330a9",
   "metadata": {},
   "outputs": [
    {
     "data": {
      "text/plain": [
       "Year                              int64\n",
       "Geography                        object\n",
       "Mode.by.Vehicle.Availability     object\n",
       "Vehicles.Available               object\n",
       "Estimate                          int64\n",
       "MOE_Est                           int64\n",
       "Share                           float64\n",
       "MOE_Share                       float64\n",
       "SharePCT                        float64\n",
       "MOE_SharePct                    float64\n",
       "dtype: object"
      ]
     },
     "execution_count": 24,
     "metadata": {},
     "output_type": "execute_result"
    }
   ],
   "source": [
    "df.dtypes"
   ]
  },
  {
   "cell_type": "code",
   "execution_count": 3,
   "id": "2e47d61c",
   "metadata": {},
   "outputs": [],
   "source": [
    "conn = pyodbc.connect('Driver={SQL Server};'\n",
    "                      'Server=rliddb.int.lcog.org,5433;'\n",
    "                      'Database=GIS_CLMPO;'\n",
    "                      'Trusted_Connection=yes;')\n",
    "cursor = conn.cursor()"
   ]
  },
  {
   "cell_type": "code",
   "execution_count": 29,
   "id": "f9be3347",
   "metadata": {},
   "outputs": [
    {
     "data": {
      "text/plain": [
       "array(['No vehicle available', '1 vehicle available',\n",
       "       '2 vehicles available', '3 or more vehicles available'],\n",
       "      dtype=object)"
      ]
     },
     "execution_count": 29,
     "metadata": {},
     "output_type": "execute_result"
    }
   ],
   "source": [
    "df['Vehicles.Available'].unique()"
   ]
  },
  {
   "cell_type": "code",
   "execution_count": 26,
   "id": "23f88053",
   "metadata": {},
   "outputs": [],
   "source": [
    "df.replace({np.inf: np.nan, -np.inf: np.nan}, inplace=True)"
   ]
  },
  {
   "cell_type": "code",
   "execution_count": 27,
   "id": "560762ca",
   "metadata": {},
   "outputs": [],
   "source": [
    "df = df.fillna(0)"
   ]
  },
  {
   "cell_type": "code",
   "execution_count": 30,
   "id": "6e67e2e9",
   "metadata": {},
   "outputs": [
    {
     "data": {
      "text/plain": [
       "<pyodbc.Cursor at 0x23b6a067ab0>"
      ]
     },
     "execution_count": 30,
     "metadata": {},
     "output_type": "execute_result"
    }
   ],
   "source": [
    "# table names: mode_share\n",
    "# rewrite tables: DROP TABLE mode_share;\n",
    "# edit accordingly the table\n",
    "cursor.execute('''\n",
    "            CREATE TABLE mode_by_vehicles_available(\n",
    "            year int,\n",
    "            geo varchar(50),\n",
    "            mode varchar(50),\n",
    "            vhcl_avail varchar(50),\n",
    "            estimate int,\n",
    "            moe_est int,\n",
    "            share float,\n",
    "            moe_share float,\n",
    "            share_pct float,\n",
    "            moe_share_pct float\n",
    "            )\n",
    "               ''')"
   ]
  },
  {
   "cell_type": "code",
   "execution_count": 33,
   "id": "ec3372c6",
   "metadata": {},
   "outputs": [],
   "source": [
    "df.rename(columns={'Mode.by.Vehicle.Availability': 'Mode', 'Vehicles.Available': 'VHCL_AVAIL'}, inplace=True)"
   ]
  },
  {
   "cell_type": "code",
   "execution_count": 36,
   "id": "a27dbdc1",
   "metadata": {},
   "outputs": [],
   "source": [
    "# mode_share\n",
    "for row in df.itertuples():\n",
    "    cursor.execute('''\n",
    "                INSERT INTO mode_by_vehicles_available(year, geo, mode, vhcl_avail, estimate, moe_est, share, moe_share, share_pct, moe_share_pct)\n",
    "                VALUES (?,?,?,?,?,?,?,?,?,?)\n",
    "                ''',\n",
    "                   row.Year,\n",
    "                   row.Geography,\n",
    "                   row.Mode,\n",
    "                   row.VHCL_AVAIL,\n",
    "                   row.Estimate,\n",
    "                   row.MOE_Est,\n",
    "                   row.Share,\n",
    "                   row.MOE_Share,\n",
    "                   row.SharePCT,\n",
    "                   row.MOE_SharePct\n",
    "                  )\n",
    "conn.commit()"
   ]
  }
 ],
 "metadata": {
  "kernelspec": {
   "display_name": "Python 3",
   "language": "python",
   "name": "python3"
  },
  "language_info": {
   "codemirror_mode": {
    "name": "ipython",
    "version": 3
   },
   "file_extension": ".py",
   "mimetype": "text/x-python",
   "name": "python",
   "nbconvert_exporter": "python",
   "pygments_lexer": "ipython3",
   "version": "3.8.8"
  }
 },
 "nbformat": 4,
 "nbformat_minor": 5
}
