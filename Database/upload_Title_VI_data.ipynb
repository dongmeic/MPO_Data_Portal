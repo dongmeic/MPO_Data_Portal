{
 "cells": [
  {
   "cell_type": "code",
   "execution_count": 1,
   "id": "e030638e",
   "metadata": {},
   "outputs": [],
   "source": [
    "import pandas as pd\n",
    "import pyodbc\n",
    "import numpy as np\n",
    "import os"
   ]
  },
  {
   "cell_type": "code",
   "execution_count": 2,
   "id": "b770a384",
   "metadata": {},
   "outputs": [],
   "source": [
    "path = r'T:\\Tableau\\tableauTitleVI\\Datasources'"
   ]
  },
  {
   "cell_type": "code",
   "execution_count": 3,
   "id": "e664f704",
   "metadata": {},
   "outputs": [
    {
     "name": "stdout",
     "output_type": "stream",
     "text": [
      "     Year      Factor                   Universe  FactorTotal  MPOTotal  \\\n",
      "0    2007    Disabled  Non-Institutionalized Pop      33553.0  219933.0   \n",
      "1    2007     Elderly                 Population      30468.0  237262.0   \n",
      "2    2007    Minority                 Population      38828.0  237262.0   \n",
      "3    2007     Poverty                 Households      16940.0   98311.0   \n",
      "4    2007     Renters                 Households      42082.0   98311.0   \n",
      "..    ...         ...                        ...          ...       ...   \n",
      "100  2021    Minority                 Population      63125.0  268190.0   \n",
      "101  2021     Poverty                 Households      15907.0  113975.0   \n",
      "102  2021     Renters                 Households      51861.0  113975.0   \n",
      "103  2021  Unemployed        Workforce (Pop 16+)      10128.0  144512.0   \n",
      "104  2021   Zero Cars                 Households       9208.0  113975.0   \n",
      "\n",
      "       MPOavg  \n",
      "0    0.152560  \n",
      "1    0.128415  \n",
      "2    0.163650  \n",
      "3    0.172310  \n",
      "4    0.428050  \n",
      "..        ...  \n",
      "100  0.235374  \n",
      "101  0.139566  \n",
      "102  0.455021  \n",
      "103  0.070084  \n",
      "104  0.080790  \n",
      "\n",
      "[105 rows x 6 columns]\n"
     ]
    }
   ],
   "source": [
    "data = pd.read_csv(path + '\\\\TitleVIchangeovertime.csv')   \n",
    "df = pd.DataFrame(data)\n",
    "\n",
    "print(df)"
   ]
  },
  {
   "cell_type": "code",
   "execution_count": 4,
   "id": "4be8234a",
   "metadata": {},
   "outputs": [
    {
     "data": {
      "text/plain": [
       "Index(['Year', 'Factor', 'Universe', 'FactorTotal', 'MPOTotal', 'MPOavg'], dtype='object')"
      ]
     },
     "execution_count": 4,
     "metadata": {},
     "output_type": "execute_result"
    }
   ],
   "source": [
    "data.columns"
   ]
  },
  {
   "cell_type": "code",
   "execution_count": null,
   "id": "b8855fe7",
   "metadata": {},
   "outputs": [],
   "source": []
  }
 ],
 "metadata": {
  "kernelspec": {
   "display_name": "Python 3",
   "language": "python",
   "name": "python3"
  },
  "language_info": {
   "codemirror_mode": {
    "name": "ipython",
    "version": 3
   },
   "file_extension": ".py",
   "mimetype": "text/x-python",
   "name": "python",
   "nbconvert_exporter": "python",
   "pygments_lexer": "ipython3",
   "version": "3.8.8"
  }
 },
 "nbformat": 4,
 "nbformat_minor": 5
}
