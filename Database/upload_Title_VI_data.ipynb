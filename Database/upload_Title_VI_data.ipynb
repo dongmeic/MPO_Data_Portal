{
 "cells": [
  {
   "cell_type": "code",
   "execution_count": 1,
   "id": "a81abddb",
   "metadata": {},
   "outputs": [],
   "source": [
    "import pandas as pd\n",
    "import pyodbc\n",
    "import numpy as np\n",
    "import os\n",
    "import geopandas as gpd\n",
    "import sqlalchemy as sal\n",
    "from shapely import wkb\n",
    "import re"
   ]
  },
  {
   "cell_type": "code",
   "execution_count": 2,
   "id": "1383152e",
   "metadata": {},
   "outputs": [],
   "source": [
    "path = r'T:\\Tableau\\tableauTitleVI\\Datasources'"
   ]
  },
  {
   "cell_type": "code",
   "execution_count": 5,
   "id": "b328ed3b",
   "metadata": {},
   "outputs": [
    {
     "name": "stdout",
     "output_type": "stream",
     "text": [
      "     Year      Factor                   Universe  FactorTotal  MPOTotal  \\\n",
      "0    2007    Disabled  Non-Institutionalized Pop      33553.0  219933.0   \n",
      "1    2007     Elderly                 Population      30468.0  237262.0   \n",
      "2    2007    Minority                 Population      38828.0  237262.0   \n",
      "3    2007     Poverty                 Households      16940.0   98311.0   \n",
      "4    2007     Renters                 Households      42082.0   98311.0   \n",
      "..    ...         ...                        ...          ...       ...   \n",
      "100  2021    Minority                 Population      63125.0  268190.0   \n",
      "101  2021     Poverty                 Households      15907.0  113975.0   \n",
      "102  2021     Renters                 Households      51861.0  113975.0   \n",
      "103  2021  Unemployed        Workforce (Pop 16+)      10128.0  144512.0   \n",
      "104  2021   Zero Cars                 Households       9208.0  113975.0   \n",
      "\n",
      "       MPOavg  \n",
      "0    0.152560  \n",
      "1    0.128415  \n",
      "2    0.163650  \n",
      "3    0.172310  \n",
      "4    0.428050  \n",
      "..        ...  \n",
      "100  0.235374  \n",
      "101  0.139566  \n",
      "102  0.455021  \n",
      "103  0.070084  \n",
      "104  0.080790  \n",
      "\n",
      "[105 rows x 6 columns]\n"
     ]
    }
   ],
   "source": [
    "df = pd.read_csv(path + '\\\\TitleVIchangeovertime.csv')   \n",
    "print(df)"
   ]
  },
  {
   "cell_type": "code",
   "execution_count": 6,
   "id": "268161f0",
   "metadata": {},
   "outputs": [
    {
     "data": {
      "text/plain": [
       "Index(['Year', 'Factor', 'Universe', 'FactorTotal', 'MPOTotal', 'MPOavg'], dtype='object')"
      ]
     },
     "execution_count": 6,
     "metadata": {},
     "output_type": "execute_result"
    }
   ],
   "source": [
    "df.columns"
   ]
  },
  {
   "cell_type": "code",
   "execution_count": 7,
   "id": "348afd59",
   "metadata": {},
   "outputs": [
    {
     "data": {
      "text/plain": [
       "Year             int64\n",
       "Factor          object\n",
       "Universe        object\n",
       "FactorTotal    float64\n",
       "MPOTotal       float64\n",
       "MPOavg         float64\n",
       "dtype: object"
      ]
     },
     "execution_count": 7,
     "metadata": {},
     "output_type": "execute_result"
    }
   ],
   "source": [
    "df.dtypes"
   ]
  },
  {
   "cell_type": "code",
   "execution_count": 9,
   "id": "c4a04dad",
   "metadata": {},
   "outputs": [
    {
     "data": {
      "text/plain": [
       "array(['Non-Institutionalized Pop', 'Population', 'Households',\n",
       "       'Workforce (Pop 16+)'], dtype=object)"
      ]
     },
     "execution_count": 9,
     "metadata": {},
     "output_type": "execute_result"
    }
   ],
   "source": [
    "df.Universe.unique()"
   ]
  },
  {
   "cell_type": "code",
   "execution_count": 10,
   "id": "ab29ba01",
   "metadata": {},
   "outputs": [
    {
     "data": {
      "text/plain": [
       "25"
      ]
     },
     "execution_count": 10,
     "metadata": {},
     "output_type": "execute_result"
    }
   ],
   "source": [
    "len('Non-Institutionalized Pop')"
   ]
  },
  {
   "cell_type": "code",
   "execution_count": 12,
   "id": "d9ba2211",
   "metadata": {},
   "outputs": [],
   "source": [
    "conn = pyodbc.connect('Driver={SQL Server};'\n",
    "                      'Server=rliddb.int.lcog.org,5433;'\n",
    "                      'Database=GIS_CLMPO;'\n",
    "                      'Trusted_Connection=yes;')\n",
    "cursor = conn.cursor()"
   ]
  },
  {
   "cell_type": "code",
   "execution_count": 13,
   "id": "a5b388bf",
   "metadata": {},
   "outputs": [
    {
     "data": {
      "text/plain": [
       "<pyodbc.Cursor at 0x267277134b0>"
      ]
     },
     "execution_count": 13,
     "metadata": {},
     "output_type": "execute_result"
    }
   ],
   "source": [
    "cursor.execute('''\n",
    "            CREATE TABLE Title_VI_change_over_time(\n",
    "            year int,\n",
    "            factor varchar(50),\n",
    "            universe varchar(50),\n",
    "            factor_total float,\n",
    "            mpo_total float,\n",
    "            mpo_avg float\n",
    "            )\n",
    "               ''')"
   ]
  },
  {
   "cell_type": "code",
   "execution_count": 14,
   "id": "41e37cc8",
   "metadata": {},
   "outputs": [],
   "source": [
    "for row in df.itertuples():\n",
    "    cursor.execute('''\n",
    "                INSERT INTO Title_VI_change_over_time(year, factor, universe, factor_total, mpo_total, mpo_avg)\n",
    "                VALUES (?,?,?,?,?,?)\n",
    "                ''',\n",
    "                   row.Year,\n",
    "                   row.Factor,\n",
    "                   row.Universe,\n",
    "                   row.FactorTotal,\n",
    "                   row.MPOTotal,\n",
    "                   row.MPOavg\n",
    "                  )\n",
    "conn.commit()"
   ]
  },
  {
   "cell_type": "code",
   "execution_count": 3,
   "id": "a9cb6b27",
   "metadata": {},
   "outputs": [],
   "source": [
    "gdf = gpd.read_file((path + '\\\\MPO_BG_TitleVI_Since2013.shp'))"
   ]
  },
  {
   "cell_type": "code",
   "execution_count": 5,
   "id": "6e814862",
   "metadata": {},
   "outputs": [],
   "source": [
    "gdf = gdf.drop(columns=['area_bg', 'area'])"
   ]
  },
  {
   "cell_type": "code",
   "execution_count": 6,
   "id": "93ffe978",
   "metadata": {},
   "outputs": [],
   "source": [
    "constr = (\"mssql+pyodbc:///?odbc_connect=\"\n",
    "\"Driver%3D%7BODBC+Driver+17+for+SQL+Server%7D%3B\"\n",
    "\"Server%3Drliddb.int.lcog.org%2C5433%3B\"\n",
    "\"Database%3DGIS_CLMPO%3B\"\n",
    "\"Trusted_Connection%3Dyes%3B\"\n",
    "\"ApplicationIntent%3DReadWrite%3B\"\n",
    "\"WSID%3Dclwrk4087.int.lcog.org%3B\")"
   ]
  },
  {
   "cell_type": "code",
   "execution_count": 7,
   "id": "79ff763c",
   "metadata": {},
   "outputs": [],
   "source": [
    "engine = sal.create_engine(constr)\n",
    "conn = engine.connect()"
   ]
  },
  {
   "cell_type": "code",
   "execution_count": 8,
   "id": "834e104d",
   "metadata": {},
   "outputs": [],
   "source": [
    "# define a function to convert to wkb \n",
    "def wkb_hexer(line):\n",
    "    return line.wkb_hex"
   ]
  },
  {
   "cell_type": "code",
   "execution_count": 9,
   "id": "27d5a3e7",
   "metadata": {},
   "outputs": [
    {
     "name": "stderr",
     "output_type": "stream",
     "text": [
      "C:\\ProgramData\\Anaconda3\\envs\\geoenv\\lib\\site-packages\\geopandas\\geodataframe.py:1350: UserWarning: Geometry column does not contain geometry.\n",
      "  warnings.warn(\"Geometry column does not contain geometry.\")\n"
     ]
    }
   ],
   "source": [
    "# apply to each row in the 'geometry' column\n",
    "#gdf['geometry'] = gdf.geometry.apply(lambda x: x.wkt).apply(lambda x: re.sub('\"(.*)\"', '\\\\1', x))\n",
    "gdf['geometry'] = gdf['geometry'].apply(wkb_hexer)"
   ]
  },
  {
   "cell_type": "code",
   "execution_count": 15,
   "id": "8d9d0e4f",
   "metadata": {},
   "outputs": [],
   "source": [
    "gdf.to_sql('MPO_Title_VI', con = engine, schema = 'dbo', index=False, if_exists = 'replace')"
   ]
  },
  {
   "cell_type": "code",
   "execution_count": 10,
   "id": "513bb208",
   "metadata": {},
   "outputs": [
    {
     "data": {
      "text/plain": [
       "(0, '410390001001', 0.001033544020098, 1.023208579897111, 0.223245508341188, 0.218181818181818, 0.143652322843074, 0.992401843168481, 0.142560829964901, 1.023208579897111, 0.0, 0.465094809044141, 0.824444444444444, 0.383444831456392, 0.029972776582845, 0.078167115902965, 0.047474747474747, 0.04857656894461, 0.398947991757863, 0.0, 0.0, 2.67, 1.023208579897111, 0.0, 0.0, 0.064079729246082, 0.0, 0.0, 0.0, 0.0, 0.16711590296496, 1.0, 1.0, 0.0, 0.0, 0.0, 0.0, 0.0, 0.0, 2.0, 2013, '010300000001000000A000000011DE647CD7146AC1CB4AA72D2FE054418CD843AED7146AC1D2745B2F30E05441FAE492DCD7146AC15837B55831E05441818DB11CD8146AC1A518ACDE34E ... (4848 characters truncated) ... 46AC1793BA07C57E054417BAAD487DB146AC118FC92324BE054411669A50BD7146AC1A208E0832EE054412FCDA25BD7146AC1B045A1A32EE0544111DE647CD7146AC1CB4AA72D2FE05441')"
      ]
     },
     "execution_count": 10,
     "metadata": {},
     "output_type": "execute_result"
    }
   ],
   "source": [
    "query = 'SELECT * FROM MPO_Title_VI'\n",
    "engine.execute(query).fetchone()"
   ]
  },
  {
   "cell_type": "code",
   "execution_count": 11,
   "id": "acad4e21",
   "metadata": {},
   "outputs": [],
   "source": [
    "def sql_data(table, server_name, database_name, driver, geodata = True): \n",
    "    constr= (\"Driver={};\"\n",
    "             \"Server={};\"\n",
    "             \"Database={};\"     \n",
    "             \"Trusted_Connection=yes;\").format(driver,server_name, database_name)  \n",
    "    conn = pyodbc.connect(constr)\n",
    "    query = 'SELECT * FROM ' + table\n",
    "    if geodata:\n",
    "        data = gpd.read_postgis(query, conn, geom_col='geometry')\n",
    "    else: \n",
    "        data = pd.read_sql(query, conn)\n",
    "    conn.close()\n",
    "    return data"
   ]
  },
  {
   "cell_type": "code",
   "execution_count": 12,
   "id": "4eb9c078",
   "metadata": {},
   "outputs": [],
   "source": [
    "# keys list has the function argument names \n",
    "keys = ['server_name', 'database_name', 'driver']\n",
    "# values list holds the arguments for the SQL connection\n",
    "values = ['rliddb.int.lcog.org,5433', 'GIS_CLMPO', '{SQL Server}']\n",
    "# zip the keys and values into a dictionary \n",
    "serverargs = dict(zip(keys,values))"
   ]
  },
  {
   "cell_type": "code",
   "execution_count": 17,
   "id": "972c40c0",
   "metadata": {},
   "outputs": [],
   "source": [
    "geodata = sql_data('MPO_Title_VI', **serverargs)"
   ]
  },
  {
   "cell_type": "code",
   "execution_count": 18,
   "id": "1d8d8261",
   "metadata": {},
   "outputs": [
    {
     "data": {
      "text/html": [
       "<div>\n",
       "<style scoped>\n",
       "    .dataframe tbody tr th:only-of-type {\n",
       "        vertical-align: middle;\n",
       "    }\n",
       "\n",
       "    .dataframe tbody tr th {\n",
       "        vertical-align: top;\n",
       "    }\n",
       "\n",
       "    .dataframe thead th {\n",
       "        text-align: right;\n",
       "    }\n",
       "</style>\n",
       "<table border=\"1\" class=\"dataframe\">\n",
       "  <thead>\n",
       "    <tr style=\"text-align: right;\">\n",
       "      <th></th>\n",
       "      <th>GEOID</th>\n",
       "      <th>PctInside</th>\n",
       "      <th>TotalPOP</th>\n",
       "      <th>PopEld</th>\n",
       "      <th>PctElderly</th>\n",
       "      <th>PctDisab</th>\n",
       "      <th>PopNInst5</th>\n",
       "      <th>PopNI5Disa</th>\n",
       "      <th>HHPop</th>\n",
       "      <th>GQPop</th>\n",
       "      <th>...</th>\n",
       "      <th>Disabled</th>\n",
       "      <th>Poor</th>\n",
       "      <th>Minority</th>\n",
       "      <th>UnEmp</th>\n",
       "      <th>LEP</th>\n",
       "      <th>HHzerocar</th>\n",
       "      <th>Renter</th>\n",
       "      <th>ComofConce</th>\n",
       "      <th>Year</th>\n",
       "      <th>geometry</th>\n",
       "    </tr>\n",
       "  </thead>\n",
       "  <tbody>\n",
       "    <tr>\n",
       "      <th>0</th>\n",
       "      <td>410390001001</td>\n",
       "      <td>0.001034</td>\n",
       "      <td>1.023209</td>\n",
       "      <td>0.223246</td>\n",
       "      <td>0.218182</td>\n",
       "      <td>0.143652</td>\n",
       "      <td>0.992402</td>\n",
       "      <td>0.142561</td>\n",
       "      <td>1.023209</td>\n",
       "      <td>0.000000</td>\n",
       "      <td>...</td>\n",
       "      <td>1.0</td>\n",
       "      <td>0.0</td>\n",
       "      <td>0.0</td>\n",
       "      <td>0.0</td>\n",
       "      <td>0.0</td>\n",
       "      <td>0.0</td>\n",
       "      <td>0.0</td>\n",
       "      <td>2.0</td>\n",
       "      <td>2013</td>\n",
       "      <td>POLYGON ((-13674171.887 5472444.713, -13674173...</td>\n",
       "    </tr>\n",
       "    <tr>\n",
       "      <th>1</th>\n",
       "      <td>410390002001</td>\n",
       "      <td>0.003906</td>\n",
       "      <td>6.545767</td>\n",
       "      <td>1.894211</td>\n",
       "      <td>0.289379</td>\n",
       "      <td>0.128854</td>\n",
       "      <td>6.412728</td>\n",
       "      <td>0.826307</td>\n",
       "      <td>6.502805</td>\n",
       "      <td>0.042961</td>\n",
       "      <td>...</td>\n",
       "      <td>0.0</td>\n",
       "      <td>0.0</td>\n",
       "      <td>0.0</td>\n",
       "      <td>0.0</td>\n",
       "      <td>0.0</td>\n",
       "      <td>0.0</td>\n",
       "      <td>0.0</td>\n",
       "      <td>1.0</td>\n",
       "      <td>2013</td>\n",
       "      <td>MULTIPOLYGON (((-13697484.274 5483475.480, -13...</td>\n",
       "    </tr>\n",
       "    <tr>\n",
       "      <th>2</th>\n",
       "      <td>410390003001</td>\n",
       "      <td>0.088736</td>\n",
       "      <td>82.524927</td>\n",
       "      <td>21.296755</td>\n",
       "      <td>0.258065</td>\n",
       "      <td>0.142791</td>\n",
       "      <td>79.467083</td>\n",
       "      <td>11.347177</td>\n",
       "      <td>82.524927</td>\n",
       "      <td>0.000000</td>\n",
       "      <td>...</td>\n",
       "      <td>0.0</td>\n",
       "      <td>0.0</td>\n",
       "      <td>0.0</td>\n",
       "      <td>0.0</td>\n",
       "      <td>0.0</td>\n",
       "      <td>0.0</td>\n",
       "      <td>0.0</td>\n",
       "      <td>1.0</td>\n",
       "      <td>2013</td>\n",
       "      <td>MULTIPOLYGON (((-13697388.094 5483549.288, -13...</td>\n",
       "    </tr>\n",
       "  </tbody>\n",
       "</table>\n",
       "<p>3 rows × 41 columns</p>\n",
       "</div>"
      ],
      "text/plain": [
       "          GEOID  PctInside   TotalPOP     PopEld  PctElderly  PctDisab  \\\n",
       "0  410390001001   0.001034   1.023209   0.223246    0.218182  0.143652   \n",
       "1  410390002001   0.003906   6.545767   1.894211    0.289379  0.128854   \n",
       "2  410390003001   0.088736  82.524927  21.296755    0.258065  0.142791   \n",
       "\n",
       "   PopNInst5  PopNI5Disa      HHPop     GQPop  ...  Disabled  Poor  Minority  \\\n",
       "0   0.992402    0.142561   1.023209  0.000000  ...       1.0   0.0       0.0   \n",
       "1   6.412728    0.826307   6.502805  0.042961  ...       0.0   0.0       0.0   \n",
       "2  79.467083   11.347177  82.524927  0.000000  ...       0.0   0.0       0.0   \n",
       "\n",
       "   UnEmp  LEP  HHzerocar  Renter  ComofConce  Year  \\\n",
       "0    0.0  0.0        0.0     0.0         2.0  2013   \n",
       "1    0.0  0.0        0.0     0.0         1.0  2013   \n",
       "2    0.0  0.0        0.0     0.0         1.0  2013   \n",
       "\n",
       "                                            geometry  \n",
       "0  POLYGON ((-13674171.887 5472444.713, -13674173...  \n",
       "1  MULTIPOLYGON (((-13697484.274 5483475.480, -13...  \n",
       "2  MULTIPOLYGON (((-13697388.094 5483549.288, -13...  \n",
       "\n",
       "[3 rows x 41 columns]"
      ]
     },
     "execution_count": 18,
     "metadata": {},
     "output_type": "execute_result"
    }
   ],
   "source": [
    "geodata.head(3)"
   ]
  },
  {
   "cell_type": "code",
   "execution_count": 19,
   "id": "9a459d98",
   "metadata": {},
   "outputs": [
    {
     "data": {
      "text/plain": [
       "(1698, 41)"
      ]
     },
     "execution_count": 19,
     "metadata": {},
     "output_type": "execute_result"
    }
   ],
   "source": [
    "geodata.shape"
   ]
  },
  {
   "cell_type": "code",
   "execution_count": 21,
   "id": "933f503c",
   "metadata": {},
   "outputs": [],
   "source": [
    "geodata[['GEOID', 'Year', 'geometry']].to_file(path+\"\\\\BG_Geo.shp\")"
   ]
  }
 ],
 "metadata": {
  "kernelspec": {
   "display_name": "Python 3",
   "language": "python",
   "name": "python3"
  },
  "language_info": {
   "codemirror_mode": {
    "name": "ipython",
    "version": 3
   },
   "file_extension": ".py",
   "mimetype": "text/x-python",
   "name": "python",
   "nbconvert_exporter": "python",
   "pygments_lexer": "ipython3",
   "version": "3.8.8"
  }
 },
 "nbformat": 4,
 "nbformat_minor": 5
}
