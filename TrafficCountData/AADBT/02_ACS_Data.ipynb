{
 "cells": [
  {
   "cell_type": "code",
   "execution_count": 1,
   "id": "93ac9c93",
   "metadata": {},
   "outputs": [],
   "source": [
    "from census import Census\n",
    "from us import states\n",
    "import pandas as pd\n",
    "import geopandas as gpd\n",
    "import json\n",
    "from pandas import DataFrame\n",
    "import censusdata"
   ]
  },
  {
   "cell_type": "code",
   "execution_count": 2,
   "id": "c202f186",
   "metadata": {},
   "outputs": [],
   "source": [
    "f = open('config/keys.json')\n",
    "data = json.load(f)\n",
    "acs_api_key = data['acs']['key']\n",
    "c = Census(acs_api_key)"
   ]
  },
  {
   "cell_type": "code",
   "execution_count": 26,
   "id": "5b0a52eb",
   "metadata": {},
   "outputs": [],
   "source": [
    "# geo includes tract and blockgroup\n",
    "def get_ACS5_data(tablename, fields, geo, year):\n",
    "    if fields == \"*\":\n",
    "        if year > 2019:\n",
    "            YEAR = 2019\n",
    "        else:\n",
    "            YEAR = year\n",
    "        fields = [key for key, value in censusdata.censustable('acs5', YEAR, tablename).items()]\n",
    "    \n",
    "    if tablename[0] == 'S':\n",
    "        func_nm = 'acs5st'\n",
    "    elif tablename[0] == 'D':\n",
    "        func_nm = 'acs5dp'\n",
    "    else:\n",
    "        func_nm = 'acs5'\n",
    "    \n",
    "    ctycode = \"039\"\n",
    "    al = \"*\"\n",
    "  \n",
    "    data = DataFrame(eval(f'c.{func_nm}.state_county_{geo}(fields = fields, state_fips = states.OR.fips, county_fips = ctycode, {geo} = al,year = year)'))\n",
    "    \n",
    "    if geo == \"tract\":\n",
    "        data[\"GEOID\"] = data[\"state\"] + data[\"county\"] + data[\"tract\"]\n",
    "        data = data.drop(columns = [\"state\", \"county\", \"tract\"])\n",
    "        \n",
    "    else:\n",
    "        data[\"GEOID\"] = data[\"state\"] + data[\"county\"] + data[\"tract\"] + data[\"block group\"]\n",
    "        data = data.drop(columns = [\"state\", \"county\", \"tract\", \"block group\"])\n",
    "        \n",
    "    return(data)"
   ]
  },
  {
   "cell_type": "code",
   "execution_count": 10,
   "id": "1ddec6a8",
   "metadata": {},
   "outputs": [],
   "source": [
    "def get_ACS5_years(tablename, fields, geo, years):\n",
    "    data = pd.DataFrame()\n",
    "    for year in years:\n",
    "        ndata = get_ACS5_data(tablename = tablename, \n",
    "                             fields = fields, \n",
    "                             geo = geo, \n",
    "                             year = year)\n",
    "        ndata['Year'] = year\n",
    "        data = data.append(ndata)\n",
    "        print(tablename + ' ' + str(year))\n",
    "    return(data)"
   ]
  },
  {
   "cell_type": "code",
   "execution_count": 11,
   "id": "680e7b2a",
   "metadata": {},
   "outputs": [
    {
     "name": "stdout",
     "output_type": "stream",
     "text": [
      "B01001 2012\n",
      "B01001 2013\n",
      "B01001 2014\n",
      "B01001 2015\n",
      "B01001 2016\n",
      "B01001 2017\n",
      "B01001 2018\n",
      "B01001 2019\n",
      "B01001 2020\n"
     ]
    }
   ],
   "source": [
    "lane_pop_tract = get_ACS5_years(tablename = 'B01001', fields = '*', geo = 'tract', years = range(2012, 2021))"
   ]
  },
  {
   "cell_type": "code",
   "execution_count": 30,
   "id": "c4bc2905",
   "metadata": {},
   "outputs": [
    {
     "ename": "AssertionError",
     "evalue": "",
     "output_type": "error",
     "traceback": [
      "\u001b[1;31m---------------------------------------------------------------------------\u001b[0m",
      "\u001b[1;31mAssertionError\u001b[0m                            Traceback (most recent call last)",
      "\u001b[1;32m<ipython-input-30-c2d5db2f4046>\u001b[0m in \u001b[0;36m<module>\u001b[1;34m\u001b[0m\n\u001b[1;32m----> 1\u001b[1;33m \u001b[0mcensusdata\u001b[0m\u001b[1;33m.\u001b[0m\u001b[0mprinttable\u001b[0m\u001b[1;33m(\u001b[0m\u001b[0mcensusdata\u001b[0m\u001b[1;33m.\u001b[0m\u001b[0mcensustable\u001b[0m\u001b[1;33m(\u001b[0m\u001b[1;34m'dp5'\u001b[0m\u001b[1;33m,\u001b[0m \u001b[1;36m2019\u001b[0m\u001b[1;33m,\u001b[0m \u001b[1;34m'DP03'\u001b[0m\u001b[1;33m)\u001b[0m\u001b[1;33m)\u001b[0m\u001b[1;33m\u001b[0m\u001b[1;33m\u001b[0m\u001b[0m\n\u001b[0m",
      "\u001b[1;32m~\\AppData\\Roaming\\Python\\Python38\\site-packages\\censusdata\\variable_info.py\u001b[0m in \u001b[0;36mcensustable\u001b[1;34m(src, year, table)\u001b[0m\n\u001b[0;32m     82\u001b[0m                 \u001b[0mcensusdata\u001b[0m\u001b[1;33m.\u001b[0m\u001b[0mcensustable\u001b[0m\u001b[1;33m(\u001b[0m\u001b[1;34m'acs1'\u001b[0m\u001b[1;33m,\u001b[0m \u001b[1;36m2015\u001b[0m\u001b[1;33m,\u001b[0m \u001b[1;34m'B23025'\u001b[0m\u001b[1;33m)\u001b[0m \u001b[1;31m# Returns information on table B23025 (Employment Status for Population 16+ Years) from the ACS 2015 1-year estimates.\u001b[0m\u001b[1;33m\u001b[0m\u001b[1;33m\u001b[0m\u001b[0m\n\u001b[0;32m     83\u001b[0m \t\"\"\"\n\u001b[1;32m---> 84\u001b[1;33m         \u001b[1;32massert\u001b[0m \u001b[0msrc\u001b[0m \u001b[1;33m==\u001b[0m \u001b[1;34m'acs1'\u001b[0m \u001b[1;32mor\u001b[0m \u001b[0msrc\u001b[0m \u001b[1;33m==\u001b[0m \u001b[1;34m'acs3'\u001b[0m \u001b[1;32mor\u001b[0m \u001b[0msrc\u001b[0m \u001b[1;33m==\u001b[0m \u001b[1;34m'acs5'\u001b[0m \u001b[1;32mor\u001b[0m \u001b[0msrc\u001b[0m \u001b[1;33m==\u001b[0m \u001b[1;34m'acsse'\u001b[0m \u001b[1;32mor\u001b[0m \u001b[0msrc\u001b[0m \u001b[1;33m==\u001b[0m \u001b[1;34m'sf1'\u001b[0m\u001b[1;33m\u001b[0m\u001b[1;33m\u001b[0m\u001b[0m\n\u001b[0m\u001b[0;32m     85\u001b[0m         \u001b[1;32mif\u001b[0m \u001b[0msrc\u001b[0m \u001b[1;33m==\u001b[0m \u001b[1;34m'acsse'\u001b[0m \u001b[1;32mor\u001b[0m \u001b[0msrc\u001b[0m \u001b[1;33m==\u001b[0m \u001b[1;34m'sf1'\u001b[0m\u001b[1;33m:\u001b[0m\u001b[1;33m\u001b[0m\u001b[1;33m\u001b[0m\u001b[0m\n\u001b[0;32m     86\u001b[0m                 \u001b[0mtabletype\u001b[0m \u001b[1;33m=\u001b[0m \u001b[1;34m''\u001b[0m\u001b[1;33m\u001b[0m\u001b[1;33m\u001b[0m\u001b[0m\n",
      "\u001b[1;31mAssertionError\u001b[0m: "
     ]
    }
   ],
   "source": [
    "censusdata.printtable(censusdata.censustable('dp5', 2019, 'DP03'))"
   ]
  }
 ],
 "metadata": {
  "kernelspec": {
   "display_name": "Python 3",
   "language": "python",
   "name": "python3"
  },
  "language_info": {
   "codemirror_mode": {
    "name": "ipython",
    "version": 3
   },
   "file_extension": ".py",
   "mimetype": "text/x-python",
   "name": "python",
   "nbconvert_exporter": "python",
   "pygments_lexer": "ipython3",
   "version": "3.8.8"
  }
 },
 "nbformat": 4,
 "nbformat_minor": 5
}
