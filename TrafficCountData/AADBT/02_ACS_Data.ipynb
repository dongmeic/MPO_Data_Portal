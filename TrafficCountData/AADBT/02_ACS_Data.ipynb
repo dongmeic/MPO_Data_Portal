{
 "cells": [
  {
   "cell_type": "code",
   "execution_count": 1,
   "id": "93ac9c93",
   "metadata": {},
   "outputs": [],
   "source": [
    "from census import Census\n",
    "from us import states\n",
    "import pandas as pd\n",
    "import geopandas as gpd\n",
    "import json\n",
    "from pandas import DataFrame\n",
    "import censusdata\n",
    "import functools as ft"
   ]
  },
  {
   "cell_type": "code",
   "execution_count": 2,
   "id": "c202f186",
   "metadata": {},
   "outputs": [],
   "source": [
    "f = open('config/keys.json')\n",
    "data = json.load(f)\n",
    "acs_api_key = data['acs']['key']\n",
    "c = Census(acs_api_key)"
   ]
  },
  {
   "cell_type": "code",
   "execution_count": 26,
   "id": "5b0a52eb",
   "metadata": {},
   "outputs": [],
   "source": [
    "# geo includes tract and blockgroup\n",
    "def get_ACS5_data(tablename, fields, geo, year):\n",
    "    if fields == \"*\":\n",
    "        if year > 2019:\n",
    "            YEAR = 2019\n",
    "        else:\n",
    "            YEAR = year\n",
    "        fields = [key for key, value in censusdata.censustable('acs5', YEAR, tablename).items()]\n",
    "    \n",
    "    if tablename[0] == 'S':\n",
    "        func_nm = 'acs5st'\n",
    "    elif tablename[0] == 'D':\n",
    "        func_nm = 'acs5dp'\n",
    "    else:\n",
    "        func_nm = 'acs5'\n",
    "    \n",
    "    ctycode = \"039\"\n",
    "    al = \"*\"\n",
    "  \n",
    "    data = DataFrame(eval(f'c.{func_nm}.state_county_{geo}(fields = fields, state_fips = states.OR.fips, county_fips = ctycode, {geo} = al,year = year)'))\n",
    "    \n",
    "    if geo == \"tract\":\n",
    "        data[\"GEOID\"] = data[\"state\"] + data[\"county\"] + data[\"tract\"]\n",
    "        data = data.drop(columns = [\"state\", \"county\", \"tract\"])\n",
    "        \n",
    "    else:\n",
    "        data[\"GEOID\"] = data[\"state\"] + data[\"county\"] + data[\"tract\"] + data[\"block group\"]\n",
    "        data = data.drop(columns = [\"state\", \"county\", \"tract\", \"block group\"])\n",
    "        \n",
    "    return(data)"
   ]
  },
  {
   "cell_type": "code",
   "execution_count": 34,
   "id": "1ddec6a8",
   "metadata": {},
   "outputs": [],
   "source": [
    "def get_ACS5_years(tablename, fields, geo, years):\n",
    "    data = pd.DataFrame()\n",
    "    for year in years:\n",
    "        ndata = get_ACS5_data(tablename = tablename, \n",
    "                             fields = fields, \n",
    "                             geo = geo, \n",
    "                             year = year)\n",
    "        ndata['Year'] = year\n",
    "        data = data.append(ndata)\n",
    "        print(tablename + ' ' + str(year))\n",
    "    return(data)"
   ]
  },
  {
   "cell_type": "code",
   "execution_count": 35,
   "id": "680e7b2a",
   "metadata": {},
   "outputs": [
    {
     "name": "stdout",
     "output_type": "stream",
     "text": [
      "B01001 2012\n",
      "B01001 2013\n",
      "B01001 2014\n",
      "B01001 2015\n",
      "B01001 2016\n",
      "B01001 2017\n",
      "B01001 2018\n",
      "B01001 2019\n",
      "B01001 2020\n"
     ]
    }
   ],
   "source": [
    "lane_pop_tract = get_ACS5_years(tablename = 'B01001', fields = '*', geo = 'tract', years = range(2012, 2021))"
   ]
  },
  {
   "cell_type": "code",
   "execution_count": 64,
   "id": "24bd56eb",
   "metadata": {},
   "outputs": [],
   "source": [
    "cols = ['B01001_003E','B01001_004E', 'B01001_005E', 'B01001_006E', \n",
    "       'B01001_027E','B01001_028E', 'B01001_029E', 'B01001_030E']\n",
    "lane_pop_tract['Youth'] = lane_pop_tract[cols].sum(axis=1)"
   ]
  },
  {
   "cell_type": "code",
   "execution_count": 65,
   "id": "0fac8a9e",
   "metadata": {},
   "outputs": [],
   "source": [
    "cols = ['B01001_007E','B01001_008E', 'B01001_009E', 'B01001_010E', 'B01001_011E','B01001_012E', 'B01001_013E', 'B01001_014E',\n",
    "       'B01001_015E','B01001_016E', 'B01001_017E', 'B01001_018E', 'B01001_019E','B01001_031E', 'B01001_032E', 'B01001_033E',\n",
    "       'B01001_034E','B01001_035E', 'B01001_036E', 'B01001_037E', 'B01001_038E','B01001_039E', 'B01001_040E', 'B01001_041E',\n",
    "       'B01001_042E', 'B01001_043E']\n",
    "lane_pop_tract['Adult'] = lane_pop_tract[cols].sum(axis=1)"
   ]
  },
  {
   "cell_type": "code",
   "execution_count": 66,
   "id": "4fc571aa",
   "metadata": {},
   "outputs": [],
   "source": [
    "cols = ['B01001_020E','B01001_021E', 'B01001_022E', 'B01001_023E', 'B01001_023E','B01001_024E', 'B01001_025E', 'B01001_044E',\n",
    "       'B01001_045E','B01001_046E', 'B01001_047E', 'B01001_048E', 'B01001_049E']\n",
    "lane_pop_tract['Senior'] = lane_pop_tract[cols].sum(axis=1)"
   ]
  },
  {
   "cell_type": "code",
   "execution_count": 67,
   "id": "c4f1f18d",
   "metadata": {},
   "outputs": [],
   "source": [
    "lane_pop_tract.rename(columns={\"B01001_001E\": \"TotalPop\", \n",
    "                               \"B01001_002E\": \"Male\", \n",
    "                               \"B01001_026E\": \"Female\"}, inplace=True)"
   ]
  },
  {
   "cell_type": "code",
   "execution_count": 69,
   "id": "9aaf4f82",
   "metadata": {},
   "outputs": [],
   "source": [
    "lane_pop_tract['PctMale'] = lane_pop_tract.Male / lane_pop_tract.TotalPop"
   ]
  },
  {
   "cell_type": "code",
   "execution_count": 70,
   "id": "ae26d0c6",
   "metadata": {},
   "outputs": [],
   "source": [
    "lane_pop_tract['PctFemale'] = lane_pop_tract.Female / lane_pop_tract.TotalPop"
   ]
  },
  {
   "cell_type": "code",
   "execution_count": 37,
   "id": "c1f8431a",
   "metadata": {},
   "outputs": [
    {
     "name": "stdout",
     "output_type": "stream",
     "text": [
      "B03002 2012\n",
      "B03002 2013\n",
      "B03002 2014\n",
      "B03002 2015\n",
      "B03002 2016\n",
      "B03002 2017\n",
      "B03002 2018\n",
      "B03002 2019\n",
      "B03002 2020\n"
     ]
    }
   ],
   "source": [
    "lane_race_tract = get_ACS5_years(tablename = 'B03002', \n",
    "                                 fields = ['B03002_001E', 'B03002_003E'], \n",
    "                                 geo = 'tract', \n",
    "                                 years = range(2012, 2021))"
   ]
  },
  {
   "cell_type": "code",
   "execution_count": 71,
   "id": "17466992",
   "metadata": {},
   "outputs": [],
   "source": [
    "lane_race_tract['PctMinor'] = (lane_race_tract.B03002_001E - lane_race_tract.B03002_003E)/lane_race_tract.B03002_001E"
   ]
  },
  {
   "cell_type": "code",
   "execution_count": 41,
   "id": "77f4aec2",
   "metadata": {},
   "outputs": [
    {
     "name": "stdout",
     "output_type": "stream",
     "text": [
      "B23025 2012\n",
      "B23025 2013\n",
      "B23025 2014\n",
      "B23025 2015\n",
      "B23025 2016\n",
      "B23025 2017\n",
      "B23025 2018\n",
      "B23025 2019\n",
      "B23025 2020\n"
     ]
    }
   ],
   "source": [
    "lane_employment_tract = get_ACS5_years(tablename = 'B23025', \n",
    "                                       fields = ['B23025_002E', 'B23025_004E'], \n",
    "                                       geo = 'tract', \n",
    "                                       years = range(2012, 2021))"
   ]
  },
  {
   "cell_type": "code",
   "execution_count": 72,
   "id": "5abf51de",
   "metadata": {},
   "outputs": [],
   "source": [
    "lane_employment_tract['PctEmp'] = lane_employment_tract.B23025_004E/lane_employment_tract.B23025_002E"
   ]
  },
  {
   "cell_type": "code",
   "execution_count": 42,
   "id": "f3525d4b",
   "metadata": {},
   "outputs": [
    {
     "name": "stdout",
     "output_type": "stream",
     "text": [
      "S1901 2012\n",
      "S1901 2013\n",
      "S1901 2014\n",
      "S1901 2015\n",
      "S1901 2016\n",
      "S1901 2017\n",
      "S1901 2018\n",
      "S1901 2019\n",
      "S1901 2020\n"
     ]
    }
   ],
   "source": [
    "lane_income_tract = get_ACS5_years(tablename = 'S1901', \n",
    "                                       fields = ['S1901_C01_001E', 'S1901_C01_012E', 'S1901_C01_013E'], \n",
    "                                       geo = 'tract', \n",
    "                                       years = range(2012, 2021))"
   ]
  },
  {
   "cell_type": "code",
   "execution_count": 74,
   "id": "fa7f2c0d",
   "metadata": {},
   "outputs": [],
   "source": [
    "lane_income_tract.rename(columns={\"S1901_C01_001E\": \"NoHH\", \n",
    "                               \"S1901_C01_012E\": \"HHMedInc\", \n",
    "                               \"S1901_C01_013E\": \"HHMeaInc\"}, inplace=True)"
   ]
  },
  {
   "cell_type": "code",
   "execution_count": 80,
   "id": "e22e4e90",
   "metadata": {},
   "outputs": [
    {
     "name": "stdout",
     "output_type": "stream",
     "text": [
      "B08301, B08303 2012\n",
      "B08301, B08303 2013\n",
      "B08301, B08303 2014\n",
      "B08301, B08303 2015\n",
      "B08301, B08303 2016\n",
      "B08301, B08303 2017\n",
      "B08301, B08303 2018\n",
      "B08301, B08303 2019\n",
      "B08301, B08303 2020\n"
     ]
    }
   ],
   "source": [
    "lane_commute_tract = get_ACS5_years(tablename = 'B08301, B08303', \n",
    "                                       fields = ['B08301_001E', 'B08301_018E', 'B08303_001E', 'B08303_002E', 'B08303_003E',\n",
    "                                                'B08303_004E', 'B08303_005E', 'B08303_006E', 'B08303_007E', \n",
    "                                                'B08303_008E', 'B08303_009E', 'B08303_010E'], \n",
    "                                       geo = 'tract', \n",
    "                                       years = range(2012, 2021))"
   ]
  },
  {
   "cell_type": "code",
   "execution_count": 81,
   "id": "4bff5e58",
   "metadata": {},
   "outputs": [],
   "source": [
    "lane_commute_tract['PctBikeCom'] = lane_commute_tract.B08301_018E/lane_commute_tract.B08301_001E"
   ]
  },
  {
   "cell_type": "code",
   "execution_count": 82,
   "id": "f0fc3877",
   "metadata": {},
   "outputs": [],
   "source": [
    "cols = ['B08303_002E', 'B08303_003E', 'B08303_004E', 'B08303_005E', 'B08303_006E', \n",
    "        'B08303_007E', 'B08303_008E', 'B08303_009E', 'B08303_010E']\n",
    "lane_commute_tract['Pct30MinCom'] = lane_commute_tract[cols].sum(axis=1)/lane_commute_tract['B08303_001E']"
   ]
  },
  {
   "cell_type": "code",
   "execution_count": 40,
   "id": "4e432f60",
   "metadata": {
    "scrolled": true
   },
   "outputs": [],
   "source": [
    "#censusdata.printtable(censusdata.censustable('acs5', 2019, 'S1901'))"
   ]
  },
  {
   "cell_type": "code",
   "execution_count": 83,
   "id": "cad5f424",
   "metadata": {},
   "outputs": [],
   "source": [
    "#censusdata.censustable('acs5', 2019, 'B08303')"
   ]
  },
  {
   "cell_type": "code",
   "execution_count": 87,
   "id": "c47fab90",
   "metadata": {},
   "outputs": [
    {
     "data": {
      "text/plain": [
       "Index(['NoHH', 'HHMedInc', 'HHMeaInc', 'GEOID', 'Year'], dtype='object')"
      ]
     },
     "execution_count": 87,
     "metadata": {},
     "output_type": "execute_result"
    }
   ],
   "source": [
    "lane_income_tract.columns"
   ]
  },
  {
   "cell_type": "code",
   "execution_count": 54,
   "id": "03fef7ba",
   "metadata": {},
   "outputs": [],
   "source": [
    "dfs = [lane_pop_tract[['TotalPop', 'Male', 'Female', 'GEOID', 'Year', \n",
    "                       'Youth','Adult', 'Senior', 'PctMale', 'PctFemale']], \n",
    "       lane_race_tract[['GEOID', 'Year', 'PctMinor']], \n",
    "       lane_employment_tract[['GEOID', 'Year', 'PctEmp']], \n",
    "       lane_income_tract[[, lane_commute_tract]"
   ]
  },
  {
   "cell_type": "code",
   "execution_count": 59,
   "id": "789ab2e1",
   "metadata": {},
   "outputs": [],
   "source": [
    "df_final = ft.reduce(lambda left, right: pd.merge(left, right, on=['GEOID', 'Year']), dfs)"
   ]
  },
  {
   "cell_type": "code",
   "execution_count": 60,
   "id": "7974345d",
   "metadata": {},
   "outputs": [
    {
     "name": "stdout",
     "output_type": "stream",
     "text": [
      "   B01001_001E  B01001_002E  B01001_003E  B01001_004E  B01001_005E  \\\n",
      "0       5065.0       2447.0        192.0        296.0        206.0   \n",
      "1       4944.0       2477.0        148.0        105.0        158.0   \n",
      "\n",
      "   B01001_006E  B01001_007E  B01001_008E  B01001_009E  B01001_010E  ...  \\\n",
      "0        112.0         68.0         49.0         21.0         59.0  ...   \n",
      "1         48.0        113.0         17.0          0.0         47.0  ...   \n",
      "\n",
      "   S1901_C01_013E  B08301_001E  B08301_018E  B08303_001E  B08303_002E  \\\n",
      "0         46805.0       1854.0         21.0       1656.0         87.0   \n",
      "1         63775.0       2079.0          0.0       1906.0         37.0   \n",
      "\n",
      "   B08303_003E  B08303_004E  B08303_005E  B08303_006E  B08303_007E  \n",
      "0        303.0        263.0         93.0         90.0        124.0  \n",
      "1         55.0        136.0        107.0        221.0        262.0  \n",
      "\n",
      "[2 rows x 67 columns]\n"
     ]
    }
   ],
   "source": [
    "print(df_final.head(2))"
   ]
  },
  {
   "cell_type": "code",
   "execution_count": 61,
   "id": "f9355b57",
   "metadata": {},
   "outputs": [
    {
     "data": {
      "text/plain": [
       "Index(['B01001_001E', 'B01001_002E', 'B01001_003E', 'B01001_004E',\n",
       "       'B01001_005E', 'B01001_006E', 'B01001_007E', 'B01001_008E',\n",
       "       'B01001_009E', 'B01001_010E', 'B01001_011E', 'B01001_012E',\n",
       "       'B01001_013E', 'B01001_014E', 'B01001_015E', 'B01001_016E',\n",
       "       'B01001_017E', 'B01001_018E', 'B01001_019E', 'B01001_020E',\n",
       "       'B01001_021E', 'B01001_022E', 'B01001_023E', 'B01001_024E',\n",
       "       'B01001_025E', 'B01001_026E', 'B01001_027E', 'B01001_028E',\n",
       "       'B01001_029E', 'B01001_030E', 'B01001_031E', 'B01001_032E',\n",
       "       'B01001_033E', 'B01001_034E', 'B01001_035E', 'B01001_036E',\n",
       "       'B01001_037E', 'B01001_038E', 'B01001_039E', 'B01001_040E',\n",
       "       'B01001_041E', 'B01001_042E', 'B01001_043E', 'B01001_044E',\n",
       "       'B01001_045E', 'B01001_046E', 'B01001_047E', 'B01001_048E',\n",
       "       'B01001_049E', 'GEOID', 'Year', 'B03002_001E', 'B03002_003E',\n",
       "       'B23025_002E', 'B23025_004E', 'S1901_C01_001E', 'S1901_C01_012E',\n",
       "       'S1901_C01_013E', 'B08301_001E', 'B08301_018E', 'B08303_001E',\n",
       "       'B08303_002E', 'B08303_003E', 'B08303_004E', 'B08303_005E',\n",
       "       'B08303_006E', 'B08303_007E'],\n",
       "      dtype='object')"
      ]
     },
     "execution_count": 61,
     "metadata": {},
     "output_type": "execute_result"
    }
   ],
   "source": [
    "df_final.columns"
   ]
  }
 ],
 "metadata": {
  "kernelspec": {
   "display_name": "Python 3",
   "language": "python",
   "name": "python3"
  },
  "language_info": {
   "codemirror_mode": {
    "name": "ipython",
    "version": 3
   },
   "file_extension": ".py",
   "mimetype": "text/x-python",
   "name": "python",
   "nbconvert_exporter": "python",
   "pygments_lexer": "ipython3",
   "version": "3.8.8"
  }
 },
 "nbformat": 4,
 "nbformat_minor": 5
}
