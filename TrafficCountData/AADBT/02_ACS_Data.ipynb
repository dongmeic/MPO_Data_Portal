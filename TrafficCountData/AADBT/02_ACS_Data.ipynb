{
 "cells": [
  {
   "cell_type": "code",
   "execution_count": 1,
   "id": "93ac9c93",
   "metadata": {},
   "outputs": [],
   "source": [
    "from census import Census\n",
    "from us import states\n",
    "import pandas as pd\n",
    "import geopandas as gpd\n",
    "import json\n",
    "from pandas import DataFrame\n",
    "import censusdata\n",
    "import functools as ft"
   ]
  },
  {
   "cell_type": "code",
   "execution_count": 2,
   "id": "c202f186",
   "metadata": {},
   "outputs": [],
   "source": [
    "f = open('config/keys.json')\n",
    "data = json.load(f)\n",
    "acs_api_key = data['acs']['key']\n",
    "c = Census(acs_api_key)"
   ]
  },
  {
   "cell_type": "code",
   "execution_count": 3,
   "id": "5b0a52eb",
   "metadata": {},
   "outputs": [],
   "source": [
    "# geo includes tract and blockgroup\n",
    "# this function only applies to getting all fields from the table\n",
    "def get_ACS5_data(tablename, fields, geo, year):\n",
    "    if fields == \"*\":\n",
    "        if year > 2019:\n",
    "            YEAR = 2019\n",
    "        else:\n",
    "            YEAR = year\n",
    "        fields = [key for key, value in censusdata.censustable('acs5', YEAR, tablename).items()]\n",
    "    \n",
    "    if tablename[0] == 'S':\n",
    "        func_nm = 'acs5st'\n",
    "    elif tablename[0] == 'D':\n",
    "        func_nm = 'acs5dp'\n",
    "    else:\n",
    "        func_nm = 'acs5'\n",
    "    \n",
    "    ctycode = \"039\"\n",
    "    al = \"*\"\n",
    "  \n",
    "    data = DataFrame(eval(f'c.{func_nm}.state_county_{geo}(fields = fields, state_fips = states.OR.fips, county_fips = ctycode, {geo} = al,year = year)'))\n",
    "    \n",
    "    if geo == \"tract\":\n",
    "        data[\"GEOID\"] = data[\"state\"] + data[\"county\"] + data[\"tract\"]\n",
    "        data = data.drop(columns = [\"state\", \"county\", \"tract\"])\n",
    "        \n",
    "    else:\n",
    "        data[\"GEOID\"] = data[\"state\"] + data[\"county\"] + data[\"tract\"] + data[\"block group\"]\n",
    "        data = data.drop(columns = [\"state\", \"county\", \"tract\", \"block group\"])\n",
    "        \n",
    "    return(data)"
   ]
  },
  {
   "cell_type": "code",
   "execution_count": 4,
   "id": "1ddec6a8",
   "metadata": {},
   "outputs": [],
   "source": [
    "def get_ACS5_years(tablename, fields, geo, years):\n",
    "    data = pd.DataFrame()\n",
    "    for year in years:\n",
    "        ndata = get_ACS5_data(tablename = tablename, \n",
    "                             fields = fields, \n",
    "                             geo = geo, \n",
    "                             year = year)\n",
    "        ndata['Year'] = year\n",
    "        data = data.append(ndata)\n",
    "        print(tablename + ' ' + str(year))\n",
    "    return(data)"
   ]
  },
  {
   "cell_type": "code",
   "execution_count": 5,
   "id": "680e7b2a",
   "metadata": {},
   "outputs": [
    {
     "name": "stdout",
     "output_type": "stream",
     "text": [
      "B01001 2012\n",
      "B01001 2013\n",
      "B01001 2014\n",
      "B01001 2015\n",
      "B01001 2016\n",
      "B01001 2017\n",
      "B01001 2018\n",
      "B01001 2019\n",
      "B01001 2020\n"
     ]
    }
   ],
   "source": [
    "lane_pop_tract = get_ACS5_years(tablename = 'B01001', \n",
    "                                fields = '*', \n",
    "                                geo = 'tract', \n",
    "                                years = range(2012, 2021))"
   ]
  },
  {
   "cell_type": "code",
   "execution_count": 6,
   "id": "57730888",
   "metadata": {},
   "outputs": [],
   "source": [
    "cols = ['B01001_003E','B01001_004E', 'B01001_005E', 'B01001_006E', \n",
    "       'B01001_027E','B01001_028E', 'B01001_029E', 'B01001_030E']\n",
    "lane_pop_tract['Youth'] = lane_pop_tract[cols].sum(axis=1)"
   ]
  },
  {
   "cell_type": "code",
   "execution_count": 7,
   "id": "bc5cf20b",
   "metadata": {},
   "outputs": [],
   "source": [
    "cols = ['B01001_007E','B01001_008E', 'B01001_009E', 'B01001_010E', 'B01001_011E','B01001_012E', 'B01001_013E', 'B01001_014E',\n",
    "       'B01001_015E','B01001_016E', 'B01001_017E', 'B01001_018E', 'B01001_019E','B01001_031E', 'B01001_032E', 'B01001_033E',\n",
    "       'B01001_034E','B01001_035E', 'B01001_036E', 'B01001_037E', 'B01001_038E','B01001_039E', 'B01001_040E', 'B01001_041E',\n",
    "       'B01001_042E', 'B01001_043E']\n",
    "lane_pop_tract['Adult'] = lane_pop_tract[cols].sum(axis=1)"
   ]
  },
  {
   "cell_type": "code",
   "execution_count": 8,
   "id": "0523317c",
   "metadata": {},
   "outputs": [],
   "source": [
    "cols = ['B01001_020E','B01001_021E', 'B01001_022E', 'B01001_023E', 'B01001_023E','B01001_024E', 'B01001_025E', 'B01001_044E',\n",
    "       'B01001_045E','B01001_046E', 'B01001_047E', 'B01001_048E', 'B01001_049E']\n",
    "lane_pop_tract['Senior'] = lane_pop_tract[cols].sum(axis=1)"
   ]
  },
  {
   "cell_type": "code",
   "execution_count": 9,
   "id": "c0c34601",
   "metadata": {},
   "outputs": [],
   "source": [
    "lane_pop_tract.rename(columns={\"B01001_001E\": \"TotalPop\", \n",
    "                               \"B01001_002E\": \"Male\", \n",
    "                               \"B01001_026E\": \"Female\"}, inplace=True)"
   ]
  },
  {
   "cell_type": "code",
   "execution_count": 10,
   "id": "8a1aa8f1",
   "metadata": {},
   "outputs": [],
   "source": [
    "lane_pop_tract['PctMale'] = lane_pop_tract.Male / lane_pop_tract.TotalPop"
   ]
  },
  {
   "cell_type": "code",
   "execution_count": 11,
   "id": "b11752d0",
   "metadata": {},
   "outputs": [],
   "source": [
    "lane_pop_tract['PctFemale'] = lane_pop_tract.Female / lane_pop_tract.TotalPop"
   ]
  },
  {
   "cell_type": "code",
   "execution_count": 12,
   "id": "8b2daa99",
   "metadata": {},
   "outputs": [
    {
     "name": "stdout",
     "output_type": "stream",
     "text": [
      "B03002 2012\n",
      "B03002 2013\n",
      "B03002 2014\n",
      "B03002 2015\n",
      "B03002 2016\n",
      "B03002 2017\n",
      "B03002 2018\n",
      "B03002 2019\n",
      "B03002 2020\n"
     ]
    }
   ],
   "source": [
    "lane_race_tract = get_ACS5_years(tablename = 'B03002', \n",
    "                                 fields = ['B03002_001E', 'B03002_003E'], \n",
    "                                 geo = 'tract', \n",
    "                                 years = range(2012, 2021))"
   ]
  },
  {
   "cell_type": "code",
   "execution_count": 13,
   "id": "811ed21f",
   "metadata": {},
   "outputs": [],
   "source": [
    "lane_race_tract['PctMinor'] = (lane_race_tract.B03002_001E - lane_race_tract.B03002_003E)/lane_race_tract.B03002_001E"
   ]
  },
  {
   "cell_type": "code",
   "execution_count": 14,
   "id": "45deb13a",
   "metadata": {},
   "outputs": [
    {
     "name": "stdout",
     "output_type": "stream",
     "text": [
      "B23025 2012\n",
      "B23025 2013\n",
      "B23025 2014\n",
      "B23025 2015\n",
      "B23025 2016\n",
      "B23025 2017\n",
      "B23025 2018\n",
      "B23025 2019\n",
      "B23025 2020\n"
     ]
    }
   ],
   "source": [
    "lane_employment_tract = get_ACS5_years(tablename = 'B23025', \n",
    "                                       fields = ['B23025_002E', 'B23025_004E'], \n",
    "                                       geo = 'tract', \n",
    "                                       years = range(2012, 2021))"
   ]
  },
  {
   "cell_type": "code",
   "execution_count": 15,
   "id": "714ec778",
   "metadata": {},
   "outputs": [],
   "source": [
    "lane_employment_tract['PctEmp'] = lane_employment_tract.B23025_004E/lane_employment_tract.B23025_002E"
   ]
  },
  {
   "cell_type": "code",
   "execution_count": 16,
   "id": "1714f762",
   "metadata": {},
   "outputs": [
    {
     "name": "stdout",
     "output_type": "stream",
     "text": [
      "S1901 2012\n",
      "S1901 2013\n",
      "S1901 2014\n",
      "S1901 2015\n",
      "S1901 2016\n",
      "S1901 2017\n",
      "S1901 2018\n",
      "S1901 2019\n",
      "S1901 2020\n"
     ]
    }
   ],
   "source": [
    "lane_income_tract = get_ACS5_years(tablename = 'S1901', \n",
    "                                       fields = ['S1901_C01_001E', 'S1901_C01_012E', 'S1901_C01_013E'], \n",
    "                                       geo = 'tract', \n",
    "                                       years = range(2012, 2021))"
   ]
  },
  {
   "cell_type": "code",
   "execution_count": 17,
   "id": "08291892",
   "metadata": {},
   "outputs": [],
   "source": [
    "lane_income_tract.rename(columns={\"S1901_C01_001E\": \"NoHH\", \n",
    "                               \"S1901_C01_012E\": \"HHMedInc\", \n",
    "                               \"S1901_C01_013E\": \"HHMeaInc\"}, inplace=True)"
   ]
  },
  {
   "cell_type": "code",
   "execution_count": 18,
   "id": "3bf48e01",
   "metadata": {},
   "outputs": [
    {
     "name": "stdout",
     "output_type": "stream",
     "text": [
      "B08301, B08303 2012\n",
      "B08301, B08303 2013\n",
      "B08301, B08303 2014\n",
      "B08301, B08303 2015\n",
      "B08301, B08303 2016\n",
      "B08301, B08303 2017\n",
      "B08301, B08303 2018\n",
      "B08301, B08303 2019\n",
      "B08301, B08303 2020\n"
     ]
    }
   ],
   "source": [
    "lane_commute_tract = get_ACS5_years(tablename = 'B08301, B08303', \n",
    "                                       fields = ['B08301_001E', 'B08301_018E', 'B08303_001E', 'B08303_002E', 'B08303_003E',\n",
    "                                                'B08303_004E', 'B08303_005E', 'B08303_006E', 'B08303_007E'], \n",
    "                                       geo = 'tract', \n",
    "                                       years = range(2012, 2021))"
   ]
  },
  {
   "cell_type": "code",
   "execution_count": 19,
   "id": "3f86a14e",
   "metadata": {},
   "outputs": [],
   "source": [
    "lane_commute_tract['PctBikeCom'] = lane_commute_tract.B08301_018E/lane_commute_tract.B08301_001E"
   ]
  },
  {
   "cell_type": "code",
   "execution_count": 20,
   "id": "15fadfb8",
   "metadata": {},
   "outputs": [],
   "source": [
    "cols = ['B08303_002E', 'B08303_003E', 'B08303_004E', 'B08303_005E', 'B08303_006E', 'B08303_007E']\n",
    "lane_commute_tract['Pct30MinCom'] = lane_commute_tract[cols].sum(axis=1)/lane_commute_tract['B08303_001E']"
   ]
  },
  {
   "cell_type": "code",
   "execution_count": 40,
   "id": "ac11185c",
   "metadata": {
    "scrolled": true
   },
   "outputs": [],
   "source": [
    "#censusdata.printtable(censusdata.censustable('acs5', 2019, 'S1901'))"
   ]
  },
  {
   "cell_type": "code",
   "execution_count": 95,
   "id": "b765f950",
   "metadata": {},
   "outputs": [],
   "source": [
    "#censusdata.censustable('acs5', 2019, 'B08303')"
   ]
  },
  {
   "cell_type": "code",
   "execution_count": 21,
   "id": "5aaf867a",
   "metadata": {},
   "outputs": [],
   "source": [
    "dfs = [lane_pop_tract[['TotalPop', 'Male', 'Female', 'GEOID', 'Year', \n",
    "                       'Youth','Adult', 'Senior', 'PctMale', 'PctFemale']], \n",
    "       lane_race_tract[['GEOID', 'Year', 'PctMinor']], \n",
    "       lane_employment_tract[['GEOID', 'Year', 'PctEmp']], \n",
    "       lane_income_tract[['NoHH', 'HHMedInc', 'HHMeaInc', 'GEOID', 'Year']], \n",
    "       lane_commute_tract[['GEOID','Year', 'PctBikeCom', 'Pct30MinCom']]]"
   ]
  },
  {
   "cell_type": "code",
   "execution_count": 22,
   "id": "6870bd69",
   "metadata": {},
   "outputs": [],
   "source": [
    "# merge multiple dataframe\n",
    "df_final = ft.reduce(lambda left, right: pd.merge(left, right, on=['GEOID', 'Year']), dfs)"
   ]
  },
  {
   "cell_type": "code",
   "execution_count": 102,
   "id": "900c3761",
   "metadata": {},
   "outputs": [],
   "source": [
    "#df_final.to_csv(r'T:\\DCProjects\\Modeling\\AADBT\\input\\census_vars.csv', index=False)"
   ]
  },
  {
   "cell_type": "code",
   "execution_count": 23,
   "id": "a0e900b4",
   "metadata": {},
   "outputs": [],
   "source": [
    "census_vars = pd.read_csv(r'T:\\DCProjects\\Modeling\\AADBT\\input\\census_vars.csv')"
   ]
  },
  {
   "cell_type": "code",
   "execution_count": 24,
   "id": "21eadee1",
   "metadata": {},
   "outputs": [],
   "source": [
    "census_vars.loc[:, 'GEOID'] = census_vars.GEOID.astype(str).values"
   ]
  },
  {
   "cell_type": "code",
   "execution_count": 25,
   "id": "0f8b4ca7",
   "metadata": {},
   "outputs": [
    {
     "name": "stdout",
     "output_type": "stream",
     "text": [
      "   TotalPop    Male  Female        GEOID  Year   Youth   Adult  Senior  \\\n",
      "0    5065.0  2447.0  2618.0  41039001302  2012  1510.0  2844.0   765.0   \n",
      "1    4944.0  2477.0  2467.0  41039001600  2012  1064.0  3130.0   857.0   \n",
      "\n",
      "    PctMale  PctFemale  PctMinor    PctEmp    NoHH  HHMedInc  HHMeaInc  \\\n",
      "0  0.483119   0.516881  0.136426  0.861722  1819.0   39455.0   46805.0   \n",
      "1  0.501011   0.498989  0.097694  0.883519  1884.0   54505.0   63775.0   \n",
      "\n",
      "   PctBikeCom  Pct30MinCom  \n",
      "0    0.011327     0.579710  \n",
      "1    0.000000     0.429171  \n"
     ]
    }
   ],
   "source": [
    "print(census_vars.head(2))"
   ]
  },
  {
   "cell_type": "code",
   "execution_count": 26,
   "id": "653b3e95",
   "metadata": {},
   "outputs": [],
   "source": [
    "bike_counts_loc = gpd.read_file(r'T:\\DCProjects\\Modeling\\AADBT\\input\\shp\\BikeCountsLocations.shp')"
   ]
  },
  {
   "cell_type": "code",
   "execution_count": 27,
   "id": "a55a3cb2",
   "metadata": {},
   "outputs": [
    {
     "data": {
      "text/html": [
       "<div>\n",
       "<style scoped>\n",
       "    .dataframe tbody tr th:only-of-type {\n",
       "        vertical-align: middle;\n",
       "    }\n",
       "\n",
       "    .dataframe tbody tr th {\n",
       "        vertical-align: top;\n",
       "    }\n",
       "\n",
       "    .dataframe thead th {\n",
       "        text-align: right;\n",
       "    }\n",
       "</style>\n",
       "<table border=\"1\" class=\"dataframe\">\n",
       "  <thead>\n",
       "    <tr style=\"text-align: right;\">\n",
       "      <th></th>\n",
       "      <th>Location</th>\n",
       "      <th>geometry</th>\n",
       "    </tr>\n",
       "  </thead>\n",
       "  <tbody>\n",
       "    <tr>\n",
       "      <th>0</th>\n",
       "      <td>EastAmazonSouth39th</td>\n",
       "      <td>POINT (-123.07685 44.01259)</td>\n",
       "    </tr>\n",
       "    <tr>\n",
       "      <th>1</th>\n",
       "      <td>KincaidSouth37th</td>\n",
       "      <td>POINT (-123.07612 44.01526)</td>\n",
       "    </tr>\n",
       "    <tr>\n",
       "      <th>2</th>\n",
       "      <td>HilyardSouth33rdWestSidewalk</td>\n",
       "      <td>POINT (-123.08171 44.02028)</td>\n",
       "    </tr>\n",
       "    <tr>\n",
       "      <th>3</th>\n",
       "      <td>HilyardSouth33rdEastSidewalk</td>\n",
       "      <td>POINT (-123.08136 44.02038)</td>\n",
       "    </tr>\n",
       "    <tr>\n",
       "      <th>4</th>\n",
       "      <td>EastAmazonEastHilyardWestSidewalk</td>\n",
       "      <td>POINT (-123.08102 44.02051)</td>\n",
       "    </tr>\n",
       "  </tbody>\n",
       "</table>\n",
       "</div>"
      ],
      "text/plain": [
       "                            Location                     geometry\n",
       "0                EastAmazonSouth39th  POINT (-123.07685 44.01259)\n",
       "1                   KincaidSouth37th  POINT (-123.07612 44.01526)\n",
       "2       HilyardSouth33rdWestSidewalk  POINT (-123.08171 44.02028)\n",
       "3       HilyardSouth33rdEastSidewalk  POINT (-123.08136 44.02038)\n",
       "4  EastAmazonEastHilyardWestSidewalk  POINT (-123.08102 44.02051)"
      ]
     },
     "execution_count": 27,
     "metadata": {},
     "output_type": "execute_result"
    }
   ],
   "source": [
    "bike_counts_loc.head()"
   ]
  },
  {
   "cell_type": "code",
   "execution_count": 28,
   "id": "0a8e5d88",
   "metadata": {},
   "outputs": [],
   "source": [
    "# points in polygons\n",
    "def get_pip(points, polygon):\n",
    "    id_list = list(polygon.GEOID)\n",
    "    df = pd.DataFrame().reindex_like(points).dropna()\n",
    "    for ID in id_list:\n",
    "        pol = (polygon.loc[polygon.GEOID==ID])\n",
    "        pol.reset_index(drop = True, inplace = True)\n",
    "        pip_mask = points.within(pol.loc[0, 'geometry'])\n",
    "        pip_data = points.loc[pip_mask].copy()\n",
    "        pip_data['GEOID']= ID\n",
    "        df = df.append(pip_data)\n",
    "    df.reset_index(inplace=True, drop=True)\n",
    "    df = df.drop(columns='geometry')\n",
    "    return df"
   ]
  },
  {
   "cell_type": "code",
   "execution_count": 29,
   "id": "c5181914",
   "metadata": {},
   "outputs": [],
   "source": [
    "bike_counts = pd.read_csv(r'T:\\DCProjects\\Modeling\\AADBT\\input\\Daily_Bike_Counts_With_VarData.csv')"
   ]
  },
  {
   "cell_type": "code",
   "execution_count": 30,
   "id": "380dae62",
   "metadata": {},
   "outputs": [],
   "source": [
    "bike_counts['Year'] = bike_counts.Date.apply(lambda x: int(x[0:4]))"
   ]
  },
  {
   "cell_type": "code",
   "execution_count": 31,
   "id": "79893579",
   "metadata": {},
   "outputs": [],
   "source": [
    "years = sorted(bike_counts.Year.unique())"
   ]
  },
  {
   "cell_type": "code",
   "execution_count": 32,
   "id": "6a59eb2d",
   "metadata": {},
   "outputs": [
    {
     "name": "stdout",
     "output_type": "stream",
     "text": [
      "2012\n",
      "2013\n",
      "2014\n",
      "2015\n",
      "2016\n",
      "2017\n",
      "2018\n",
      "2019\n",
      "2020\n"
     ]
    }
   ],
   "source": [
    "data = pd.DataFrame()\n",
    "for year in years[0:9]:\n",
    "    bike_counts_pnt = bike_counts[bike_counts.Year == year]\n",
    "    census_vars_ply = census_vars[census_vars.Year == year]\n",
    "    bike_counts_loc_yr = bike_counts_loc.merge(bike_counts_pnt, on='Location')\n",
    "    or_tract = gpd.read_file(\"https://www2.census.gov/geo/tiger/TIGER\"+str(year)+\"/TRACT/tl_\"+str(year)+\"_41_tract.zip\")\n",
    "    or_tract = or_tract[['GEOID', 'ALAND', 'geometry']]\n",
    "    lane_census = or_tract.merge(census_vars_ply, on='GEOID')\n",
    "    pnt_in_ply = get_pip(points = bike_counts_loc_yr, polygon = lane_census)\n",
    "    ndata = pnt_in_ply.merge(lane_census, on='GEOID')\n",
    "    ndata = ndata.drop(columns=['Year_x', 'Year_y'])\n",
    "    ndata['Year'] = year\n",
    "    data = data.append(ndata)\n",
    "    print(year)"
   ]
  },
  {
   "cell_type": "code",
   "execution_count": 33,
   "id": "f00a2d6d",
   "metadata": {},
   "outputs": [
    {
     "name": "stdout",
     "output_type": "stream",
     "text": [
      "                  Location        Date  DailyCounts  Month  MonthDesc Season  \\\n",
      "0           FirEastRiverRd  2012-10-25        319.0   10.0    October   Fall   \n",
      "1  EWEBPathEastPioneerPkwy  2012-11-06         47.0   11.0   November   Fall   \n",
      "2      UniversitySouth24th  2012-09-13         68.0    9.0  September   Fall   \n",
      "\n",
      "    Weekday  IsHoliday  UoInSession  IsSpecialEvent  ...   PctMale PctFemale  \\\n",
      "0  Thursday        0.0          1.0             0.0  ...  0.475781  0.524219   \n",
      "1   Tuesday        0.0          1.0             0.0  ...  0.464101  0.535899   \n",
      "2  Thursday        0.0          0.0             0.0  ...  0.467339  0.532661   \n",
      "\n",
      "   PctMinor    PctEmp    NoHH  HHMedInc  HHMeaInc PctBikeCom Pct30MinCom  Year  \n",
      "0  0.164003  0.821912  1655.0   49507.0   54328.0   0.069828    0.867557  2012  \n",
      "1  0.156181  0.895851  1111.0   37832.0   50319.0   0.055766    0.866279  2012  \n",
      "2  0.170269  0.938697  1681.0   64191.0   89647.0   0.096282    0.923199  2012  \n",
      "\n",
      "[3 rows x 48 columns]\n"
     ]
    }
   ],
   "source": [
    "print(data.head(3))"
   ]
  },
  {
   "cell_type": "code",
   "execution_count": 35,
   "id": "7c207f19",
   "metadata": {},
   "outputs": [],
   "source": [
    "data.to_csv(r'T:\\DCProjects\\Modeling\\AADBT\\input\\Daily_Bike_Counts_With_VarData_ACS.csv', index=False)"
   ]
  }
 ],
 "metadata": {
  "kernelspec": {
   "display_name": "Python 3",
   "language": "python",
   "name": "python3"
  },
  "language_info": {
   "codemirror_mode": {
    "name": "ipython",
    "version": 3
   },
   "file_extension": ".py",
   "mimetype": "text/x-python",
   "name": "python",
   "nbconvert_exporter": "python",
   "pygments_lexer": "ipython3",
   "version": "3.8.8"
  }
 },
 "nbformat": 4,
 "nbformat_minor": 5
}
