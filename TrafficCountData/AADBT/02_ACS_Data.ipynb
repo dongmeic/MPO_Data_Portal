{
 "cells": [
  {
   "cell_type": "code",
   "execution_count": null,
   "id": "c612d88b",
   "metadata": {},
   "outputs": [],
   "source": [
    "from census import Census\n",
    "from us import states\n",
    "import pandas as pd\n",
    "import geopandas as gpd\n",
    "import json\n",
    "from pandas import DataFrame\n",
    "import censusdata"
   ]
  }
 ],
 "metadata": {
  "kernelspec": {
   "display_name": "Python 3",
   "language": "python",
   "name": "python3"
  },
  "language_info": {
   "codemirror_mode": {
    "name": "ipython",
    "version": 3
   },
   "file_extension": ".py",
   "mimetype": "text/x-python",
   "name": "python",
   "nbconvert_exporter": "python",
   "pygments_lexer": "ipython3",
   "version": "3.8.8"
  }
 },
 "nbformat": 4,
 "nbformat_minor": 5
}
