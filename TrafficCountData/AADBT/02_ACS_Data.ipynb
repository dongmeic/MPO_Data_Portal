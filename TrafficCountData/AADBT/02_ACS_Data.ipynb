{
 "cells": [
  {
   "cell_type": "code",
   "execution_count": 1,
   "id": "93ac9c93",
   "metadata": {},
   "outputs": [],
   "source": [
    "from census import Census\n",
    "from us import states\n",
    "import pandas as pd\n",
    "import geopandas as gpd\n",
    "import json\n",
    "from pandas import DataFrame\n",
    "import censusdata\n",
    "import functools as ft"
   ]
  },
  {
   "cell_type": "code",
   "execution_count": 2,
   "id": "c202f186",
   "metadata": {},
   "outputs": [],
   "source": [
    "f = open('config/keys.json')\n",
    "data = json.load(f)\n",
    "acs_api_key = data['acs']['key']\n",
    "c = Census(acs_api_key)"
   ]
  },
  {
   "cell_type": "code",
   "execution_count": 26,
   "id": "5b0a52eb",
   "metadata": {},
   "outputs": [],
   "source": [
    "# geo includes tract and blockgroup\n",
    "def get_ACS5_data(tablename, fields, geo, year):\n",
    "    if fields == \"*\":\n",
    "        if year > 2019:\n",
    "            YEAR = 2019\n",
    "        else:\n",
    "            YEAR = year\n",
    "        fields = [key for key, value in censusdata.censustable('acs5', YEAR, tablename).items()]\n",
    "    \n",
    "    if tablename[0] == 'S':\n",
    "        func_nm = 'acs5st'\n",
    "    elif tablename[0] == 'D':\n",
    "        func_nm = 'acs5dp'\n",
    "    else:\n",
    "        func_nm = 'acs5'\n",
    "    \n",
    "    ctycode = \"039\"\n",
    "    al = \"*\"\n",
    "  \n",
    "    data = DataFrame(eval(f'c.{func_nm}.state_county_{geo}(fields = fields, state_fips = states.OR.fips, county_fips = ctycode, {geo} = al,year = year)'))\n",
    "    \n",
    "    if geo == \"tract\":\n",
    "        data[\"GEOID\"] = data[\"state\"] + data[\"county\"] + data[\"tract\"]\n",
    "        data = data.drop(columns = [\"state\", \"county\", \"tract\"])\n",
    "        \n",
    "    else:\n",
    "        data[\"GEOID\"] = data[\"state\"] + data[\"county\"] + data[\"tract\"] + data[\"block group\"]\n",
    "        data = data.drop(columns = [\"state\", \"county\", \"tract\", \"block group\"])\n",
    "        \n",
    "    return(data)"
   ]
  },
  {
   "cell_type": "code",
   "execution_count": 34,
   "id": "1ddec6a8",
   "metadata": {},
   "outputs": [],
   "source": [
    "def get_ACS5_years(tablename, fields, geo, years):\n",
    "    data = pd.DataFrame()\n",
    "    for year in years:\n",
    "        ndata = get_ACS5_data(tablename = tablename, \n",
    "                             fields = fields, \n",
    "                             geo = geo, \n",
    "                             year = year)\n",
    "        ndata['Year'] = year\n",
    "        data = data.append(ndata)\n",
    "        print(tablename + ' ' + str(year))\n",
    "    return(data)"
   ]
  },
  {
   "cell_type": "code",
   "execution_count": 35,
   "id": "680e7b2a",
   "metadata": {},
   "outputs": [
    {
     "name": "stdout",
     "output_type": "stream",
     "text": [
      "B01001 2012\n",
      "B01001 2013\n",
      "B01001 2014\n",
      "B01001 2015\n",
      "B01001 2016\n",
      "B01001 2017\n",
      "B01001 2018\n",
      "B01001 2019\n",
      "B01001 2020\n"
     ]
    }
   ],
   "source": [
    "lane_pop_tract = get_ACS5_years(tablename = 'B01001', fields = '*', geo = 'tract', years = range(2012, 2021))"
   ]
  },
  {
   "cell_type": "code",
   "execution_count": 64,
   "id": "d3444200",
   "metadata": {},
   "outputs": [],
   "source": [
    "cols = ['B01001_003E','B01001_004E', 'B01001_005E', 'B01001_006E', \n",
    "       'B01001_027E','B01001_028E', 'B01001_029E', 'B01001_030E']\n",
    "lane_pop_tract['Youth'] = lane_pop_tract[cols].sum(axis=1)"
   ]
  },
  {
   "cell_type": "code",
   "execution_count": 65,
   "id": "c4d000b3",
   "metadata": {},
   "outputs": [],
   "source": [
    "cols = ['B01001_007E','B01001_008E', 'B01001_009E', 'B01001_010E', 'B01001_011E','B01001_012E', 'B01001_013E', 'B01001_014E',\n",
    "       'B01001_015E','B01001_016E', 'B01001_017E', 'B01001_018E', 'B01001_019E','B01001_031E', 'B01001_032E', 'B01001_033E',\n",
    "       'B01001_034E','B01001_035E', 'B01001_036E', 'B01001_037E', 'B01001_038E','B01001_039E', 'B01001_040E', 'B01001_041E',\n",
    "       'B01001_042E', 'B01001_043E']\n",
    "lane_pop_tract['Adult'] = lane_pop_tract[cols].sum(axis=1)"
   ]
  },
  {
   "cell_type": "code",
   "execution_count": 66,
   "id": "b3846d1a",
   "metadata": {},
   "outputs": [],
   "source": [
    "cols = ['B01001_020E','B01001_021E', 'B01001_022E', 'B01001_023E', 'B01001_023E','B01001_024E', 'B01001_025E', 'B01001_044E',\n",
    "       'B01001_045E','B01001_046E', 'B01001_047E', 'B01001_048E', 'B01001_049E']\n",
    "lane_pop_tract['Senior'] = lane_pop_tract[cols].sum(axis=1)"
   ]
  },
  {
   "cell_type": "code",
   "execution_count": 67,
   "id": "4255e1b4",
   "metadata": {},
   "outputs": [],
   "source": [
    "lane_pop_tract.rename(columns={\"B01001_001E\": \"TotalPop\", \n",
    "                               \"B01001_002E\": \"Male\", \n",
    "                               \"B01001_026E\": \"Female\"}, inplace=True)"
   ]
  },
  {
   "cell_type": "code",
   "execution_count": 69,
   "id": "53d0442f",
   "metadata": {},
   "outputs": [],
   "source": [
    "lane_pop_tract['PctMale'] = lane_pop_tract.Male / lane_pop_tract.TotalPop"
   ]
  },
  {
   "cell_type": "code",
   "execution_count": 70,
   "id": "02198f38",
   "metadata": {},
   "outputs": [],
   "source": [
    "lane_pop_tract['PctFemale'] = lane_pop_tract.Female / lane_pop_tract.TotalPop"
   ]
  },
  {
   "cell_type": "code",
   "execution_count": 37,
   "id": "72b06657",
   "metadata": {},
   "outputs": [
    {
     "name": "stdout",
     "output_type": "stream",
     "text": [
      "B03002 2012\n",
      "B03002 2013\n",
      "B03002 2014\n",
      "B03002 2015\n",
      "B03002 2016\n",
      "B03002 2017\n",
      "B03002 2018\n",
      "B03002 2019\n",
      "B03002 2020\n"
     ]
    }
   ],
   "source": [
    "lane_race_tract = get_ACS5_years(tablename = 'B03002', \n",
    "                                 fields = ['B03002_001E', 'B03002_003E'], \n",
    "                                 geo = 'tract', \n",
    "                                 years = range(2012, 2021))"
   ]
  },
  {
   "cell_type": "code",
   "execution_count": 71,
   "id": "4b6d66f6",
   "metadata": {},
   "outputs": [],
   "source": [
    "lane_race_tract['PctMinor'] = (lane_race_tract.B03002_001E - lane_race_tract.B03002_003E)/lane_race_tract.B03002_001E"
   ]
  },
  {
   "cell_type": "code",
   "execution_count": 41,
   "id": "a4faed78",
   "metadata": {},
   "outputs": [
    {
     "name": "stdout",
     "output_type": "stream",
     "text": [
      "B23025 2012\n",
      "B23025 2013\n",
      "B23025 2014\n",
      "B23025 2015\n",
      "B23025 2016\n",
      "B23025 2017\n",
      "B23025 2018\n",
      "B23025 2019\n",
      "B23025 2020\n"
     ]
    }
   ],
   "source": [
    "lane_employment_tract = get_ACS5_years(tablename = 'B23025', \n",
    "                                       fields = ['B23025_002E', 'B23025_004E'], \n",
    "                                       geo = 'tract', \n",
    "                                       years = range(2012, 2021))"
   ]
  },
  {
   "cell_type": "code",
   "execution_count": 72,
   "id": "a6267f2c",
   "metadata": {},
   "outputs": [],
   "source": [
    "lane_employment_tract['PctEmp'] = lane_employment_tract.B23025_004E/lane_employment_tract.B23025_002E"
   ]
  },
  {
   "cell_type": "code",
   "execution_count": 42,
   "id": "1f5c18fd",
   "metadata": {},
   "outputs": [
    {
     "name": "stdout",
     "output_type": "stream",
     "text": [
      "S1901 2012\n",
      "S1901 2013\n",
      "S1901 2014\n",
      "S1901 2015\n",
      "S1901 2016\n",
      "S1901 2017\n",
      "S1901 2018\n",
      "S1901 2019\n",
      "S1901 2020\n"
     ]
    }
   ],
   "source": [
    "lane_income_tract = get_ACS5_years(tablename = 'S1901', \n",
    "                                       fields = ['S1901_C01_001E', 'S1901_C01_012E', 'S1901_C01_013E'], \n",
    "                                       geo = 'tract', \n",
    "                                       years = range(2012, 2021))"
   ]
  },
  {
   "cell_type": "code",
   "execution_count": 74,
   "id": "e60bf5f9",
   "metadata": {},
   "outputs": [],
   "source": [
    "lane_income_tract.rename(columns={\"S1901_C01_001E\": \"NoHH\", \n",
    "                               \"S1901_C01_012E\": \"HHMedInc\", \n",
    "                               \"S1901_C01_013E\": \"HHMeaInc\"}, inplace=True)"
   ]
  },
  {
   "cell_type": "code",
   "execution_count": 96,
   "id": "f5160f27",
   "metadata": {},
   "outputs": [
    {
     "name": "stdout",
     "output_type": "stream",
     "text": [
      "B08301, B08303 2012\n",
      "B08301, B08303 2013\n",
      "B08301, B08303 2014\n",
      "B08301, B08303 2015\n",
      "B08301, B08303 2016\n",
      "B08301, B08303 2017\n",
      "B08301, B08303 2018\n",
      "B08301, B08303 2019\n",
      "B08301, B08303 2020\n"
     ]
    }
   ],
   "source": [
    "lane_commute_tract = get_ACS5_years(tablename = 'B08301, B08303', \n",
    "                                       fields = ['B08301_001E', 'B08301_018E', 'B08303_001E', 'B08303_002E', 'B08303_003E',\n",
    "                                                'B08303_004E', 'B08303_005E', 'B08303_006E', 'B08303_007E'], \n",
    "                                       geo = 'tract', \n",
    "                                       years = range(2012, 2021))"
   ]
  },
  {
   "cell_type": "code",
   "execution_count": 97,
   "id": "59acec10",
   "metadata": {},
   "outputs": [],
   "source": [
    "lane_commute_tract['PctBikeCom'] = lane_commute_tract.B08301_018E/lane_commute_tract.B08301_001E"
   ]
  },
  {
   "cell_type": "code",
   "execution_count": 98,
   "id": "9ac52f9b",
   "metadata": {},
   "outputs": [],
   "source": [
    "cols = ['B08303_002E', 'B08303_003E', 'B08303_004E', 'B08303_005E', 'B08303_006E', 'B08303_007E']\n",
    "lane_commute_tract['Pct30MinCom'] = lane_commute_tract[cols].sum(axis=1)/lane_commute_tract['B08303_001E']"
   ]
  },
  {
   "cell_type": "code",
   "execution_count": 40,
   "id": "fc8328b5",
   "metadata": {
    "scrolled": true
   },
   "outputs": [],
   "source": [
    "#censusdata.printtable(censusdata.censustable('acs5', 2019, 'S1901'))"
   ]
  },
  {
   "cell_type": "code",
   "execution_count": 95,
   "id": "1e1872bd",
   "metadata": {},
   "outputs": [],
   "source": [
    "#censusdata.censustable('acs5', 2019, 'B08303')"
   ]
  },
  {
   "cell_type": "code",
   "execution_count": 99,
   "id": "09208dbd",
   "metadata": {},
   "outputs": [],
   "source": [
    "dfs = [lane_pop_tract[['TotalPop', 'Male', 'Female', 'GEOID', 'Year', \n",
    "                       'Youth','Adult', 'Senior', 'PctMale', 'PctFemale']], \n",
    "       lane_race_tract[['GEOID', 'Year', 'PctMinor']], \n",
    "       lane_employment_tract[['GEOID', 'Year', 'PctEmp']], \n",
    "       lane_income_tract[['NoHH', 'HHMedInc', 'HHMeaInc', 'GEOID', 'Year']], \n",
    "       lane_commute_tract[['GEOID','Year', 'PctBikeCom', 'Pct30MinCom']]]"
   ]
  },
  {
   "cell_type": "code",
   "execution_count": 100,
   "id": "23064438",
   "metadata": {},
   "outputs": [],
   "source": [
    "df_final = ft.reduce(lambda left, right: pd.merge(left, right, on=['GEOID', 'Year']), dfs)"
   ]
  },
  {
   "cell_type": "code",
   "execution_count": 101,
   "id": "d3381341",
   "metadata": {
    "scrolled": true
   },
   "outputs": [
    {
     "name": "stdout",
     "output_type": "stream",
     "text": [
      "   TotalPop    Male  Female        GEOID  Year   Youth   Adult  Senior  \\\n",
      "0    5065.0  2447.0  2618.0  41039001302  2012  1510.0  2844.0   765.0   \n",
      "1    4944.0  2477.0  2467.0  41039001600  2012  1064.0  3130.0   857.0   \n",
      "\n",
      "    PctMale  PctFemale  PctMinor    PctEmp    NoHH  HHMedInc  HHMeaInc  \\\n",
      "0  0.483119   0.516881  0.136426  0.861722  1819.0   39455.0   46805.0   \n",
      "1  0.501011   0.498989  0.097694  0.883519  1884.0   54505.0   63775.0   \n",
      "\n",
      "   PctBikeCom  Pct30MinCom  \n",
      "0    0.011327     0.579710  \n",
      "1    0.000000     0.429171  \n"
     ]
    }
   ],
   "source": [
    "print(df_final.head(2))"
   ]
  },
  {
   "cell_type": "code",
   "execution_count": 92,
   "id": "5280f00b",
   "metadata": {},
   "outputs": [
    {
     "data": {
      "text/plain": [
       "Index(['TotalPop', 'Male', 'Female', 'GEOID', 'Year', 'Youth', 'Adult',\n",
       "       'Senior', 'PctMale', 'PctFemale', 'PctMinor', 'PctEmp', 'NoHH',\n",
       "       'HHMedInc', 'HHMeaInc', 'PctBikeCom', 'Pct30MinCom'],\n",
       "      dtype='object')"
      ]
     },
     "execution_count": 92,
     "metadata": {},
     "output_type": "execute_result"
    }
   ],
   "source": [
    "df_final.columns"
   ]
  },
  {
   "cell_type": "code",
   "execution_count": 93,
   "id": "f7cbc28e",
   "metadata": {},
   "outputs": [],
   "source": [
    "df_final.to_csv(r'T:\\DCProjects\\Modeling\\AADBT\\input\\census_vars.csv', index=False)"
   ]
  }
 ],
 "metadata": {
  "kernelspec": {
   "display_name": "Python 3",
   "language": "python",
   "name": "python3"
  },
  "language_info": {
   "codemirror_mode": {
    "name": "ipython",
    "version": 3
   },
   "file_extension": ".py",
   "mimetype": "text/x-python",
   "name": "python",
   "nbconvert_exporter": "python",
   "pygments_lexer": "ipython3",
   "version": "3.8.8"
  }
 },
 "nbformat": 4,
 "nbformat_minor": 5
}
