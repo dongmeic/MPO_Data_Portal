{
 "cells": [
  {
   "cell_type": "code",
   "execution_count": 1,
   "id": "93ac9c93",
   "metadata": {},
   "outputs": [],
   "source": [
    "from census import Census\n",
    "from us import states\n",
    "import pandas as pd\n",
    "import geopandas as gpd\n",
    "import json\n",
    "from pandas import DataFrame\n",
    "import censusdata"
   ]
  },
  {
   "cell_type": "code",
   "execution_count": 2,
   "id": "c202f186",
   "metadata": {},
   "outputs": [],
   "source": [
    "f = open('config/keys.json')\n",
    "data = json.load(f)\n",
    "acs_api_key = data['acs']['key']\n",
    "c = Census(acs_api_key)"
   ]
  },
  {
   "cell_type": "code",
   "execution_count": 26,
   "id": "5b0a52eb",
   "metadata": {},
   "outputs": [],
   "source": [
    "# geo includes tract and blockgroup\n",
    "def get_ACS5_data(tablename, fields, geo, year):\n",
    "    if fields == \"*\":\n",
    "        if year > 2019:\n",
    "            YEAR = 2019\n",
    "        else:\n",
    "            YEAR = year\n",
    "        fields = [key for key, value in censusdata.censustable('acs5', YEAR, tablename).items()]\n",
    "    \n",
    "    if tablename[0] == 'S':\n",
    "        func_nm = 'acs5st'\n",
    "    elif tablename[0] == 'D':\n",
    "        func_nm = 'acs5dp'\n",
    "    else:\n",
    "        func_nm = 'acs5'\n",
    "    \n",
    "    ctycode = \"039\"\n",
    "    al = \"*\"\n",
    "  \n",
    "    data = DataFrame(eval(f'c.{func_nm}.state_county_{geo}(fields = fields, state_fips = states.OR.fips, county_fips = ctycode, {geo} = al,year = year)'))\n",
    "    \n",
    "    if geo == \"tract\":\n",
    "        data[\"GEOID\"] = data[\"state\"] + data[\"county\"] + data[\"tract\"]\n",
    "        data = data.drop(columns = [\"state\", \"county\", \"tract\"])\n",
    "        \n",
    "    else:\n",
    "        data[\"GEOID\"] = data[\"state\"] + data[\"county\"] + data[\"tract\"] + data[\"block group\"]\n",
    "        data = data.drop(columns = [\"state\", \"county\", \"tract\", \"block group\"])\n",
    "        \n",
    "    return(data)"
   ]
  },
  {
   "cell_type": "code",
   "execution_count": 10,
   "id": "1ddec6a8",
   "metadata": {},
   "outputs": [],
   "source": [
    "def get_ACS5_years(tablename, fields, geo, years):\n",
    "    data = pd.DataFrame()\n",
    "    for year in years:\n",
    "        ndata = get_ACS5_data(tablename = tablename, \n",
    "                             fields = fields, \n",
    "                             geo = geo, \n",
    "                             year = year)\n",
    "        ndata['Year'] = year\n",
    "        data = data.append(ndata)\n",
    "        print(tablename + ' ' + str(year))\n",
    "    return(data)"
   ]
  },
  {
   "cell_type": "code",
   "execution_count": 11,
   "id": "680e7b2a",
   "metadata": {},
   "outputs": [
    {
     "name": "stdout",
     "output_type": "stream",
     "text": [
      "B01001 2012\n",
      "B01001 2013\n",
      "B01001 2014\n",
      "B01001 2015\n",
      "B01001 2016\n",
      "B01001 2017\n",
      "B01001 2018\n",
      "B01001 2019\n",
      "B01001 2020\n"
     ]
    }
   ],
   "source": [
    "lane_pop_tract = get_ACS5_years(tablename = 'B01001', fields = '*', geo = 'tract', years = range(2012, 2021))"
   ]
  },
  {
   "cell_type": "code",
   "execution_count": 31,
   "id": "eac249b6",
   "metadata": {},
   "outputs": [
    {
     "name": "stdout",
     "output_type": "stream",
     "text": [
      "Variable     | Table                          | Label                                                    | Type \n",
      "-------------------------------------------------------------------------------------------------------------------\n",
      "S1901_C01_001E | INCOME IN THE PAST 12 MONTHS ( | !! !! Estimate Households Total                          | int  \n",
      "S1901_C01_002E | INCOME IN THE PAST 12 MONTHS ( | !! !! !! Estimate Households Total Less than $10,000     | float\n",
      "S1901_C01_003E | INCOME IN THE PAST 12 MONTHS ( | !! !! !! Estimate Households Total $10,000 to $14,999    | float\n",
      "S1901_C01_004E | INCOME IN THE PAST 12 MONTHS ( | !! !! !! Estimate Households Total $15,000 to $24,999    | float\n",
      "S1901_C01_005E | INCOME IN THE PAST 12 MONTHS ( | !! !! !! Estimate Households Total $25,000 to $34,999    | float\n",
      "S1901_C01_006E | INCOME IN THE PAST 12 MONTHS ( | !! !! !! Estimate Households Total $35,000 to $49,999    | float\n",
      "S1901_C01_007E | INCOME IN THE PAST 12 MONTHS ( | !! !! !! Estimate Households Total $50,000 to $74,999    | float\n",
      "S1901_C01_008E | INCOME IN THE PAST 12 MONTHS ( | !! !! !! Estimate Households Total $75,000 to $99,999    | float\n",
      "S1901_C01_009E | INCOME IN THE PAST 12 MONTHS ( | !! !! !! Estimate Households Total $100,000 to $149,999  | float\n",
      "S1901_C01_010E | INCOME IN THE PAST 12 MONTHS ( | !! !! !! Estimate Households Total $150,000 to $199,999  | float\n",
      "S1901_C01_011E | INCOME IN THE PAST 12 MONTHS ( | !! !! !! Estimate Households Total $200,000 or more      | float\n",
      "S1901_C01_012E | INCOME IN THE PAST 12 MONTHS ( | !! !! Estimate Households Median income (dollars)        | int  \n",
      "S1901_C01_013E | INCOME IN THE PAST 12 MONTHS ( | !! !! Estimate Households Mean income (dollars)          | int  \n",
      "S1901_C01_014E | INCOME IN THE PAST 12 MONTHS ( | !! !! !! Estimate Households PERCENT ALLOCATED Household | float\n",
      "S1901_C01_015E | INCOME IN THE PAST 12 MONTHS ( | !! !! !! Estimate Households PERCENT ALLOCATED Family in | int  \n",
      "S1901_C01_016E | INCOME IN THE PAST 12 MONTHS ( | !! !! !! Estimate Households PERCENT ALLOCATED Nonfamily | int  \n",
      "S1901_C02_001E | INCOME IN THE PAST 12 MONTHS ( | !! !! Estimate Families Total                            | int  \n",
      "S1901_C02_002E | INCOME IN THE PAST 12 MONTHS ( | !! !! !! Estimate Families Total Less than $10,000       | float\n",
      "S1901_C02_003E | INCOME IN THE PAST 12 MONTHS ( | !! !! !! Estimate Families Total $10,000 to $14,999      | float\n",
      "S1901_C02_004E | INCOME IN THE PAST 12 MONTHS ( | !! !! !! Estimate Families Total $15,000 to $24,999      | float\n",
      "S1901_C02_005E | INCOME IN THE PAST 12 MONTHS ( | !! !! !! Estimate Families Total $25,000 to $34,999      | float\n",
      "S1901_C02_006E | INCOME IN THE PAST 12 MONTHS ( | !! !! !! Estimate Families Total $35,000 to $49,999      | float\n",
      "S1901_C02_007E | INCOME IN THE PAST 12 MONTHS ( | !! !! !! Estimate Families Total $50,000 to $74,999      | float\n",
      "S1901_C02_008E | INCOME IN THE PAST 12 MONTHS ( | !! !! !! Estimate Families Total $75,000 to $99,999      | float\n",
      "S1901_C02_009E | INCOME IN THE PAST 12 MONTHS ( | !! !! !! Estimate Families Total $100,000 to $149,999    | float\n",
      "S1901_C02_010E | INCOME IN THE PAST 12 MONTHS ( | !! !! !! Estimate Families Total $150,000 to $199,999    | float\n",
      "S1901_C02_011E | INCOME IN THE PAST 12 MONTHS ( | !! !! !! Estimate Families Total $200,000 or more        | float\n",
      "S1901_C02_012E | INCOME IN THE PAST 12 MONTHS ( | !! !! Estimate Families Median income (dollars)          | int  \n",
      "S1901_C02_013E | INCOME IN THE PAST 12 MONTHS ( | !! !! Estimate Families Mean income (dollars)            | int  \n",
      "S1901_C02_014E | INCOME IN THE PAST 12 MONTHS ( | !! !! !! Estimate Families PERCENT ALLOCATED Household i | int  \n",
      "S1901_C02_015E | INCOME IN THE PAST 12 MONTHS ( | !! !! !! Estimate Families PERCENT ALLOCATED Family inco | float\n",
      "S1901_C02_016E | INCOME IN THE PAST 12 MONTHS ( | !! !! !! Estimate Families PERCENT ALLOCATED Nonfamily i | int  \n",
      "S1901_C03_001E | INCOME IN THE PAST 12 MONTHS ( | !! !! Estimate Married-couple families Total             | int  \n",
      "S1901_C03_002E | INCOME IN THE PAST 12 MONTHS ( | !! !! !! Estimate Married-couple families Total Less tha | float\n",
      "S1901_C03_003E | INCOME IN THE PAST 12 MONTHS ( | !! !! !! Estimate Married-couple families Total $10,000  | float\n",
      "S1901_C03_004E | INCOME IN THE PAST 12 MONTHS ( | !! !! !! Estimate Married-couple families Total $15,000  | float\n",
      "S1901_C03_005E | INCOME IN THE PAST 12 MONTHS ( | !! !! !! Estimate Married-couple families Total $25,000  | float\n",
      "S1901_C03_006E | INCOME IN THE PAST 12 MONTHS ( | !! !! !! Estimate Married-couple families Total $35,000  | float\n",
      "S1901_C03_007E | INCOME IN THE PAST 12 MONTHS ( | !! !! !! Estimate Married-couple families Total $50,000  | float\n",
      "S1901_C03_008E | INCOME IN THE PAST 12 MONTHS ( | !! !! !! Estimate Married-couple families Total $75,000  | float\n",
      "S1901_C03_009E | INCOME IN THE PAST 12 MONTHS ( | !! !! !! Estimate Married-couple families Total $100,000 | float\n",
      "S1901_C03_010E | INCOME IN THE PAST 12 MONTHS ( | !! !! !! Estimate Married-couple families Total $150,000 | float\n",
      "S1901_C03_011E | INCOME IN THE PAST 12 MONTHS ( | !! !! !! Estimate Married-couple families Total $200,000 | float\n",
      "S1901_C03_012E | INCOME IN THE PAST 12 MONTHS ( | !! !! Estimate Married-couple families Median income (do | int  \n",
      "S1901_C03_013E | INCOME IN THE PAST 12 MONTHS ( | !! !! Estimate Married-couple families Mean income (doll | int  \n",
      "S1901_C03_014E | INCOME IN THE PAST 12 MONTHS ( | !! !! !! Estimate Married-couple families PERCENT ALLOCA | int  \n",
      "S1901_C03_015E | INCOME IN THE PAST 12 MONTHS ( | !! !! !! Estimate Married-couple families PERCENT ALLOCA | int  \n",
      "S1901_C03_016E | INCOME IN THE PAST 12 MONTHS ( | !! !! !! Estimate Married-couple families PERCENT ALLOCA | int  \n",
      "S1901_C04_001E | INCOME IN THE PAST 12 MONTHS ( | !! !! Estimate Nonfamily households Total                | int  \n",
      "S1901_C04_002E | INCOME IN THE PAST 12 MONTHS ( | !! !! !! Estimate Nonfamily households Total Less than $ | float\n",
      "S1901_C04_003E | INCOME IN THE PAST 12 MONTHS ( | !! !! !! Estimate Nonfamily households Total $10,000 to  | float\n",
      "S1901_C04_004E | INCOME IN THE PAST 12 MONTHS ( | !! !! !! Estimate Nonfamily households Total $15,000 to  | float\n",
      "S1901_C04_005E | INCOME IN THE PAST 12 MONTHS ( | !! !! !! Estimate Nonfamily households Total $25,000 to  | float\n",
      "S1901_C04_006E | INCOME IN THE PAST 12 MONTHS ( | !! !! !! Estimate Nonfamily households Total $35,000 to  | float\n",
      "S1901_C04_007E | INCOME IN THE PAST 12 MONTHS ( | !! !! !! Estimate Nonfamily households Total $50,000 to  | float\n",
      "S1901_C04_008E | INCOME IN THE PAST 12 MONTHS ( | !! !! !! Estimate Nonfamily households Total $75,000 to  | float\n",
      "S1901_C04_009E | INCOME IN THE PAST 12 MONTHS ( | !! !! !! Estimate Nonfamily households Total $100,000 to | float\n",
      "S1901_C04_010E | INCOME IN THE PAST 12 MONTHS ( | !! !! !! Estimate Nonfamily households Total $150,000 to | float\n",
      "S1901_C04_011E | INCOME IN THE PAST 12 MONTHS ( | !! !! !! Estimate Nonfamily households Total $200,000 or | float\n",
      "S1901_C04_012E | INCOME IN THE PAST 12 MONTHS ( | !! !! Estimate Nonfamily households Median income (dolla | int  \n",
      "S1901_C04_013E | INCOME IN THE PAST 12 MONTHS ( | !! !! Estimate Nonfamily households Mean income (dollars | int  \n",
      "S1901_C04_014E | INCOME IN THE PAST 12 MONTHS ( | !! !! !! Estimate Nonfamily households PERCENT ALLOCATED | int  \n",
      "S1901_C04_015E | INCOME IN THE PAST 12 MONTHS ( | !! !! !! Estimate Nonfamily households PERCENT ALLOCATED | int  \n",
      "S1901_C04_016E | INCOME IN THE PAST 12 MONTHS ( | !! !! !! Estimate Nonfamily households PERCENT ALLOCATED | float\n",
      "-------------------------------------------------------------------------------------------------------------------\n"
     ]
    }
   ],
   "source": [
    "censusdata.printtable(censusdata.censustable('acs5', 2019, 'S1901'))"
   ]
  },
  {
   "cell_type": "code",
   "execution_count": null,
   "id": "acd58b69",
   "metadata": {},
   "outputs": [],
   "source": [
    "print(get_ACS5_data(tablename='S1901', fields=['S1901_C01_001E', '', ''], geo, year).head(5))"
   ]
  }
 ],
 "metadata": {
  "kernelspec": {
   "display_name": "Python 3",
   "language": "python",
   "name": "python3"
  },
  "language_info": {
   "codemirror_mode": {
    "name": "ipython",
    "version": 3
   },
   "file_extension": ".py",
   "mimetype": "text/x-python",
   "name": "python",
   "nbconvert_exporter": "python",
   "pygments_lexer": "ipython3",
   "version": "3.8.8"
  }
 },
 "nbformat": 4,
 "nbformat_minor": 5
}
