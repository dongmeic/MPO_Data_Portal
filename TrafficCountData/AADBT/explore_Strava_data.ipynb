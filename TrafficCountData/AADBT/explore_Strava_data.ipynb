{
 "cells": [
  {
   "cell_type": "code",
   "execution_count": 1,
   "id": "ab472395",
   "metadata": {},
   "outputs": [],
   "source": [
    "import pandas as pd\n",
    "import geopandas as gpd"
   ]
  },
  {
   "cell_type": "code",
   "execution_count": 2,
   "id": "b7bd7678",
   "metadata": {},
   "outputs": [],
   "source": [
    "path = r'T:\\DCProjects\\Modeling\\AADBT\\data\\Strava'"
   ]
  },
  {
   "cell_type": "code",
   "execution_count": 4,
   "id": "7c68daaf",
   "metadata": {},
   "outputs": [],
   "source": [
    "eug_cob = pd.read_csv(path+'\\\\EugCob_daily_2018-01-01-2021-12-31_ride\\EugCob_Daily_Strava.csv')"
   ]
  },
  {
   "cell_type": "code",
   "execution_count": 6,
   "id": "b3accc9b",
   "metadata": {},
   "outputs": [],
   "source": [
    "spr = pd.read_csv(path+'\\\\Spr_daily_2018-01-01-2021-12-31_ride\\Spr_Daily_Strava.csv')"
   ]
  },
  {
   "cell_type": "code",
   "execution_count": 7,
   "id": "e4863612",
   "metadata": {},
   "outputs": [],
   "source": [
    "data = eug_cob.append(spr, ignore_index=True)"
   ]
  },
  {
   "cell_type": "code",
   "execution_count": 8,
   "id": "04317be2",
   "metadata": {},
   "outputs": [],
   "source": [
    "data.drop_duplicates(inplace=True, ignore_index=True)"
   ]
  },
  {
   "cell_type": "code",
   "execution_count": 13,
   "id": "a4f7fda9",
   "metadata": {},
   "outputs": [],
   "source": [
    "sp_data = gpd.read_file(r'T:\\DCProjects\\Modeling\\AADBT\\data\\Predictors\\Predictors.gdb',\n",
    "                       layer='Daily_Strava_Merge')"
   ]
  },
  {
   "cell_type": "code",
   "execution_count": 15,
   "id": "5fcf5792",
   "metadata": {},
   "outputs": [],
   "source": [
    "sp_data.drop_duplicates(inplace=True, ignore_index=True)"
   ]
  },
  {
   "cell_type": "code",
   "execution_count": 17,
   "id": "1eee2096",
   "metadata": {},
   "outputs": [
    {
     "data": {
      "text/plain": [
       "Index(['edgeUID', 'osmId', 'Shape_Length', 'geometry'], dtype='object')"
      ]
     },
     "execution_count": 17,
     "metadata": {},
     "output_type": "execute_result"
    }
   ],
   "source": [
    "sp_data.columns"
   ]
  },
  {
   "cell_type": "code",
   "execution_count": 25,
   "id": "c22a30bf",
   "metadata": {},
   "outputs": [],
   "source": [
    "sp_data.rename(columns={\"edgeUID\": \"edge_uid\"}, inplace=True)"
   ]
  },
  {
   "cell_type": "code",
   "execution_count": 26,
   "id": "ede64a83",
   "metadata": {
    "scrolled": true
   },
   "outputs": [],
   "source": [
    "ndata = sp_data.merge(data[[\"edge_uid\", \"date\", \"total_trip_count\"]], how=\"left\", on=\"edge_uid\")"
   ]
  },
  {
   "cell_type": "code",
   "execution_count": 27,
   "id": "a7c0b855",
   "metadata": {},
   "outputs": [
    {
     "data": {
      "text/plain": [
       "(66817, 4)"
      ]
     },
     "execution_count": 27,
     "metadata": {},
     "output_type": "execute_result"
    }
   ],
   "source": [
    "sp_data.shape"
   ]
  },
  {
   "cell_type": "code",
   "execution_count": 29,
   "id": "a9d822d0",
   "metadata": {},
   "outputs": [
    {
     "data": {
      "text/plain": [
       "(1361237, 39)"
      ]
     },
     "execution_count": 29,
     "metadata": {},
     "output_type": "execute_result"
    }
   ],
   "source": [
    "data.shape"
   ]
  },
  {
   "cell_type": "code",
   "execution_count": 28,
   "id": "77661b55",
   "metadata": {},
   "outputs": [
    {
     "data": {
      "text/plain": [
       "(741579, 6)"
      ]
     },
     "execution_count": 28,
     "metadata": {},
     "output_type": "execute_result"
    }
   ],
   "source": [
    "ndata.shape"
   ]
  },
  {
   "cell_type": "code",
   "execution_count": 30,
   "id": "c0a0d4b2",
   "metadata": {},
   "outputs": [
    {
     "data": {
      "text/html": [
       "<div>\n",
       "<style scoped>\n",
       "    .dataframe tbody tr th:only-of-type {\n",
       "        vertical-align: middle;\n",
       "    }\n",
       "\n",
       "    .dataframe tbody tr th {\n",
       "        vertical-align: top;\n",
       "    }\n",
       "\n",
       "    .dataframe thead th {\n",
       "        text-align: right;\n",
       "    }\n",
       "</style>\n",
       "<table border=\"1\" class=\"dataframe\">\n",
       "  <thead>\n",
       "    <tr style=\"text-align: right;\">\n",
       "      <th></th>\n",
       "      <th>edge_uid</th>\n",
       "      <th>osmId</th>\n",
       "      <th>Shape_Length</th>\n",
       "      <th>geometry</th>\n",
       "      <th>date</th>\n",
       "      <th>total_trip_count</th>\n",
       "    </tr>\n",
       "  </thead>\n",
       "  <tbody>\n",
       "    <tr>\n",
       "      <th>0</th>\n",
       "      <td>314175236.0</td>\n",
       "      <td>945303804.0</td>\n",
       "      <td>0.011892</td>\n",
       "      <td>MULTILINESTRING ((-123.04032 44.01401, -123.04...</td>\n",
       "      <td>2019-08-13</td>\n",
       "      <td>10.0</td>\n",
       "    </tr>\n",
       "    <tr>\n",
       "      <th>1</th>\n",
       "      <td>314179447.0</td>\n",
       "      <td>436275350.0</td>\n",
       "      <td>0.000832</td>\n",
       "      <td>MULTILINESTRING ((-123.03831 44.07089, -123.03...</td>\n",
       "      <td>2019-08-13</td>\n",
       "      <td>5.0</td>\n",
       "    </tr>\n",
       "    <tr>\n",
       "      <th>2</th>\n",
       "      <td>314179447.0</td>\n",
       "      <td>436275350.0</td>\n",
       "      <td>0.000832</td>\n",
       "      <td>MULTILINESTRING ((-123.03831 44.07089, -123.03...</td>\n",
       "      <td>2020-04-21</td>\n",
       "      <td>5.0</td>\n",
       "    </tr>\n",
       "    <tr>\n",
       "      <th>3</th>\n",
       "      <td>314179447.0</td>\n",
       "      <td>436275350.0</td>\n",
       "      <td>0.000832</td>\n",
       "      <td>MULTILINESTRING ((-123.03831 44.07089, -123.03...</td>\n",
       "      <td>2020-04-16</td>\n",
       "      <td>5.0</td>\n",
       "    </tr>\n",
       "    <tr>\n",
       "      <th>4</th>\n",
       "      <td>314179447.0</td>\n",
       "      <td>436275350.0</td>\n",
       "      <td>0.000832</td>\n",
       "      <td>MULTILINESTRING ((-123.03831 44.07089, -123.03...</td>\n",
       "      <td>2018-08-02</td>\n",
       "      <td>5.0</td>\n",
       "    </tr>\n",
       "  </tbody>\n",
       "</table>\n",
       "</div>"
      ],
      "text/plain": [
       "      edge_uid        osmId  Shape_Length  \\\n",
       "0  314175236.0  945303804.0      0.011892   \n",
       "1  314179447.0  436275350.0      0.000832   \n",
       "2  314179447.0  436275350.0      0.000832   \n",
       "3  314179447.0  436275350.0      0.000832   \n",
       "4  314179447.0  436275350.0      0.000832   \n",
       "\n",
       "                                            geometry        date  \\\n",
       "0  MULTILINESTRING ((-123.04032 44.01401, -123.04...  2019-08-13   \n",
       "1  MULTILINESTRING ((-123.03831 44.07089, -123.03...  2019-08-13   \n",
       "2  MULTILINESTRING ((-123.03831 44.07089, -123.03...  2020-04-21   \n",
       "3  MULTILINESTRING ((-123.03831 44.07089, -123.03...  2020-04-16   \n",
       "4  MULTILINESTRING ((-123.03831 44.07089, -123.03...  2018-08-02   \n",
       "\n",
       "   total_trip_count  \n",
       "0              10.0  \n",
       "1               5.0  \n",
       "2               5.0  \n",
       "3               5.0  \n",
       "4               5.0  "
      ]
     },
     "execution_count": 30,
     "metadata": {},
     "output_type": "execute_result"
    }
   ],
   "source": [
    "ndata.head()"
   ]
  }
 ],
 "metadata": {
  "kernelspec": {
   "display_name": "Python 3",
   "language": "python",
   "name": "python3"
  },
  "language_info": {
   "codemirror_mode": {
    "name": "ipython",
    "version": 3
   },
   "file_extension": ".py",
   "mimetype": "text/x-python",
   "name": "python",
   "nbconvert_exporter": "python",
   "pygments_lexer": "ipython3",
   "version": "3.8.8"
  }
 },
 "nbformat": 4,
 "nbformat_minor": 5
}
