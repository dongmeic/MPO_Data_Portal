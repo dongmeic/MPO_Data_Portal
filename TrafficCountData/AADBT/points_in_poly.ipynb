{
 "cells": [
  {
   "cell_type": "code",
   "execution_count": 1,
   "id": "7fba8ba6",
   "metadata": {},
   "outputs": [],
   "source": [
    "import geopandas as gpd\n",
    "import pandas as pd"
   ]
  },
  {
   "cell_type": "code",
   "execution_count": 2,
   "id": "45b013db",
   "metadata": {},
   "outputs": [],
   "source": [
    "or_tract = gpd.read_file(\"https://www2.census.gov/geo/tiger/TIGER2020/TRACT/tl_2020_41_tract.zip\")"
   ]
  },
  {
   "cell_type": "code",
   "execution_count": 3,
   "id": "13e8a2cb",
   "metadata": {},
   "outputs": [],
   "source": [
    "bike_counts_loc = gpd.read_file(r'T:\\DCProjects\\Modeling\\AADBT\\input\\shp\\BikeCountsLocations.shp')"
   ]
  },
  {
   "cell_type": "code",
   "execution_count": 6,
   "id": "9b32a872",
   "metadata": {},
   "outputs": [],
   "source": [
    "census_vars = pd.read_csv(r'T:\\DCProjects\\Modeling\\AADBT\\input\\census_vars.csv')"
   ]
  },
  {
   "cell_type": "code",
   "execution_count": 7,
   "id": "36cf798c",
   "metadata": {},
   "outputs": [
    {
     "name": "stdout",
     "output_type": "stream",
     "text": [
      "   TotalPop    Male  Female        GEOID  Year   Youth   Adult  Senior  \\\n",
      "0    5065.0  2447.0  2618.0  41039001302  2012  1510.0  2844.0   765.0   \n",
      "1    4944.0  2477.0  2467.0  41039001600  2012  1064.0  3130.0   857.0   \n",
      "\n",
      "    PctMale  PctFemale  PctMinor    PctEmp    NoHH  HHMedInc  HHMeaInc  \\\n",
      "0  0.483119   0.516881  0.136426  0.861722  1819.0   39455.0   46805.0   \n",
      "1  0.501011   0.498989  0.097694  0.883519  1884.0   54505.0   63775.0   \n",
      "\n",
      "   PctBikeCom  Pct30MinCom  \n",
      "0    0.011327     0.579710  \n",
      "1    0.000000     0.429171  \n"
     ]
    }
   ],
   "source": [
    "print(census_vars.head(2))"
   ]
  },
  {
   "cell_type": "code",
   "execution_count": 8,
   "id": "5a48342c",
   "metadata": {},
   "outputs": [
    {
     "name": "stdout",
     "output_type": "stream",
     "text": [
      "  STATEFP COUNTYFP TRACTCE        GEOID    NAME             NAMELSAD  MTFCC  \\\n",
      "0      41      019  100000  41019100000    1000    Census Tract 1000  G5020   \n",
      "1      41      053  020306  41053020306  203.06  Census Tract 203.06  G5020   \n",
      "\n",
      "  FUNCSTAT       ALAND    AWATER     INTPTLAT      INTPTLON  \\\n",
      "0        S  2972506997  16731802  +43.3251132  -122.5428476   \n",
      "1        S   220829030   1880612  +44.7954486  -123.2452024   \n",
      "\n",
      "                                            geometry  \n",
      "0  POLYGON ((-123.20257 43.31449, -123.20254 43.3...  \n",
      "1  POLYGON ((-123.36479 44.83828, -123.36469 44.8...  \n"
     ]
    }
   ],
   "source": [
    "print(or_tract.head(2))"
   ]
  },
  {
   "cell_type": "code",
   "execution_count": 15,
   "id": "e9d74033",
   "metadata": {},
   "outputs": [
    {
     "data": {
      "text/plain": [
       "Index(['STATEFP', 'COUNTYFP', 'TRACTCE', 'GEOID', 'NAME', 'NAMELSAD', 'MTFCC',\n",
       "       'FUNCSTAT', 'ALAND', 'AWATER', 'INTPTLAT', 'INTPTLON', 'geometry'],\n",
       "      dtype='object')"
      ]
     },
     "execution_count": 15,
     "metadata": {},
     "output_type": "execute_result"
    }
   ],
   "source": [
    "or_tract.columns"
   ]
  },
  {
   "cell_type": "code",
   "execution_count": 17,
   "id": "e8f04c86",
   "metadata": {},
   "outputs": [],
   "source": [
    "or_tract = or_tract[['GEOID', 'ALAND', 'geometry']]"
   ]
  },
  {
   "cell_type": "code",
   "execution_count": 65,
   "id": "51296680",
   "metadata": {},
   "outputs": [],
   "source": [
    "census_vars.loc[:, 'GEOID'] = census_vars.GEOID.astype(str).values"
   ]
  },
  {
   "cell_type": "code",
   "execution_count": 72,
   "id": "c4b3d2ac",
   "metadata": {},
   "outputs": [],
   "source": [
    "lane_census = or_tract.merge(census_vars, on='GEOID')"
   ]
  },
  {
   "cell_type": "code",
   "execution_count": 74,
   "id": "89ef2705",
   "metadata": {},
   "outputs": [],
   "source": [
    "lane_census = lane_census[lane_census.Year == 2020]"
   ]
  },
  {
   "cell_type": "code",
   "execution_count": 63,
   "id": "68b840ab",
   "metadata": {},
   "outputs": [],
   "source": [
    "# points in polygons\n",
    "def get_pip(points, polygon):\n",
    "    id_list = list(polygon.GEOID)\n",
    "    df = pd.DataFrame().reindex_like(points).dropna()\n",
    "    for ID in id_list:\n",
    "        pol = (polygon.loc[polygon.GEOID==ID])\n",
    "        pol.reset_index(drop = True, inplace = True)\n",
    "        pip_mask = points.within(pol.loc[0, 'geometry'])\n",
    "        pip_data = points.loc[pip_mask].copy()\n",
    "        pip_data['GEOID']= ID\n",
    "        df = df.append(pip_data)\n",
    "    df.reset_index(inplace=True, drop=True)\n",
    "    df = df.drop(columns='geometry')\n",
    "    return df"
   ]
  },
  {
   "cell_type": "code",
   "execution_count": 69,
   "id": "827572b4",
   "metadata": {},
   "outputs": [],
   "source": [
    "bike_counts = pd.read_csv(r'T:\\DCProjects\\Modeling\\AADBT\\input\\Daily_Bike_Counts_With_VarData.csv')"
   ]
  },
  {
   "cell_type": "code",
   "execution_count": 71,
   "id": "7cf15c67",
   "metadata": {},
   "outputs": [
    {
     "data": {
      "text/plain": [
       "Index(['Location', 'Date', 'DailyCounts', 'Month', 'MonthDesc', 'Season',\n",
       "       'Weekday', 'IsHoliday', 'UoInSession', 'IsSpecialEvent', 'CountType',\n",
       "       'Direction', 'FacilityType', 'RoadWidth', 'City', 'Latitude',\n",
       "       'Longitude', 'Site_Name', 'DoubleCountLocation', 'IsOneway',\n",
       "       'OnewayDirection', 'IsSidewalk', 'Location_Description', 'PRCP', 'SNOW',\n",
       "       'TMAX', 'Daylight_Mins', 'LineType', 'PM25'],\n",
       "      dtype='object')"
      ]
     },
     "execution_count": 71,
     "metadata": {},
     "output_type": "execute_result"
    }
   ],
   "source": [
    "bike_counts.columns"
   ]
  },
  {
   "cell_type": "code",
   "execution_count": 64,
   "id": "129ec107",
   "metadata": {},
   "outputs": [],
   "source": [
    "df = get_pip(points = bike_counts_loc, polygon = lane_census)"
   ]
  }
 ],
 "metadata": {
  "kernelspec": {
   "display_name": "Python 3",
   "language": "python",
   "name": "python3"
  },
  "language_info": {
   "codemirror_mode": {
    "name": "ipython",
    "version": 3
   },
   "file_extension": ".py",
   "mimetype": "text/x-python",
   "name": "python",
   "nbconvert_exporter": "python",
   "pygments_lexer": "ipython3",
   "version": "3.8.8"
  }
 },
 "nbformat": 4,
 "nbformat_minor": 5
}
