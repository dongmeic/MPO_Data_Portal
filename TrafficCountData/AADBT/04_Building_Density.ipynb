{
 "cells": [
  {
   "cell_type": "code",
   "execution_count": 1,
   "id": "a44b8780",
   "metadata": {},
   "outputs": [],
   "source": [
    "import pandas as pd\n",
    "import geopandas as gpd"
   ]
  },
  {
   "cell_type": "code",
   "execution_count": 2,
   "id": "0e344e52",
   "metadata": {},
   "outputs": [],
   "source": [
    "# points in polygons\n",
    "def get_pip(points, polygon):\n",
    "    id_list = list(polygon.GEOID)\n",
    "    df = pd.DataFrame().reindex_like(points).dropna()\n",
    "    for ID in id_list:\n",
    "        pol = (polygon.loc[polygon.GEOID==ID])\n",
    "        pol.reset_index(drop = True, inplace = True)\n",
    "        pip_mask = points.within(pol.loc[0, 'geometry'])\n",
    "        pip_data = points.loc[pip_mask].copy()\n",
    "        pip_data['GEOID']= ID\n",
    "        df = df.append(pip_data)\n",
    "    df.reset_index(inplace=True, drop=True)\n",
    "    df = df.drop(columns='geometry')\n",
    "    return df"
   ]
  },
  {
   "cell_type": "code",
   "execution_count": 3,
   "id": "22b9c502",
   "metadata": {},
   "outputs": [],
   "source": [
    "path = r'T:\\DCProjects\\Modeling\\AADBT\\input\\shp'"
   ]
  },
  {
   "cell_type": "code",
   "execution_count": 4,
   "id": "36ff4156",
   "metadata": {},
   "outputs": [],
   "source": [
    "bike_counts_loc = gpd.read_file(path + '\\\\BikeCountsLocations.shp')"
   ]
  },
  {
   "cell_type": "code",
   "execution_count": 5,
   "id": "d14aa726",
   "metadata": {},
   "outputs": [],
   "source": [
    "b_dens = gpd.read_file(path +'\\\\building_density_census_tract.shp')"
   ]
  },
  {
   "cell_type": "code",
   "execution_count": 6,
   "id": "51450be8",
   "metadata": {},
   "outputs": [],
   "source": [
    "pnt_in_ply = get_pip(points = bike_counts_loc, polygon = b_dens)"
   ]
  },
  {
   "cell_type": "code",
   "execution_count": 12,
   "id": "d7c6cccd",
   "metadata": {},
   "outputs": [],
   "source": [
    "ndata = pnt_in_ply.merge(b_dens[['GEOID', 'b_dens']], on='GEOID')"
   ]
  },
  {
   "cell_type": "code",
   "execution_count": 15,
   "id": "63a3a4d4",
   "metadata": {},
   "outputs": [],
   "source": [
    "outpath = r'T:\\DCProjects\\Modeling\\AADBT\\input'"
   ]
  },
  {
   "cell_type": "code",
   "execution_count": 17,
   "id": "23f62921",
   "metadata": {},
   "outputs": [],
   "source": [
    "data = pd.read_csv(outpath + '\\\\Daily_Bike_Counts_With_AllVarData.csv')"
   ]
  },
  {
   "cell_type": "code",
   "execution_count": 19,
   "id": "0f4d9b12",
   "metadata": {},
   "outputs": [],
   "source": [
    "ndata.rename(columns={\"b_dens\": \"BuilDens\"}, inplace=True)"
   ]
  },
  {
   "cell_type": "code",
   "execution_count": 20,
   "id": "8404f481",
   "metadata": {},
   "outputs": [],
   "source": [
    "df = data.merge(ndata[['Location', 'BuilDens']], on='Location')"
   ]
  },
  {
   "cell_type": "code",
   "execution_count": null,
   "id": "2d802e50",
   "metadata": {},
   "outputs": [],
   "source": []
  }
 ],
 "metadata": {
  "kernelspec": {
   "display_name": "Python 3",
   "language": "python",
   "name": "python3"
  },
  "language_info": {
   "codemirror_mode": {
    "name": "ipython",
    "version": 3
   },
   "file_extension": ".py",
   "mimetype": "text/x-python",
   "name": "python",
   "nbconvert_exporter": "python",
   "pygments_lexer": "ipython3",
   "version": "3.8.8"
  }
 },
 "nbformat": 4,
 "nbformat_minor": 5
}
