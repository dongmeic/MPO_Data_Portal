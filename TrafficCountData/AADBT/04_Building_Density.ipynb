{
 "cells": [
  {
   "cell_type": "code",
   "execution_count": 1,
   "id": "6d7b3456",
   "metadata": {},
   "outputs": [],
   "source": [
    "import pandas as pd\n",
    "import geopandas as gpd"
   ]
  },
  {
   "cell_type": "code",
   "execution_count": 2,
   "id": "34c7f2ad",
   "metadata": {},
   "outputs": [],
   "source": [
    "# points in polygons\n",
    "def get_pip(points, polygon):\n",
    "    id_list = list(polygon.GEOID)\n",
    "    df = pd.DataFrame().reindex_like(points).dropna()\n",
    "    for ID in id_list:\n",
    "        pol = (polygon.loc[polygon.GEOID==ID])\n",
    "        pol.reset_index(drop = True, inplace = True)\n",
    "        pip_mask = points.within(pol.loc[0, 'geometry'])\n",
    "        pip_data = points.loc[pip_mask].copy()\n",
    "        pip_data['GEOID']= ID\n",
    "        df = df.append(pip_data)\n",
    "    df.reset_index(inplace=True, drop=True)\n",
    "    df = df.drop(columns='geometry')\n",
    "    return df"
   ]
  },
  {
   "cell_type": "code",
   "execution_count": 3,
   "id": "7f977fe6",
   "metadata": {},
   "outputs": [],
   "source": [
    "path = r'T:\\DCProjects\\Modeling\\AADBT\\input\\shp'"
   ]
  },
  {
   "cell_type": "code",
   "execution_count": 4,
   "id": "746824fc",
   "metadata": {},
   "outputs": [],
   "source": [
    "bike_counts_loc = gpd.read_file(path + '\\\\BikeCountsLocations.shp')"
   ]
  },
  {
   "cell_type": "code",
   "execution_count": 5,
   "id": "0ddf20c1",
   "metadata": {},
   "outputs": [],
   "source": [
    "b_dens = gpd.read_file(path +'\\\\building_density_census_tract.shp')"
   ]
  },
  {
   "cell_type": "code",
   "execution_count": 6,
   "id": "da444e50",
   "metadata": {},
   "outputs": [],
   "source": [
    "pnt_in_ply = get_pip(points = bike_counts_loc, polygon = b_dens)"
   ]
  },
  {
   "cell_type": "code",
   "execution_count": 12,
   "id": "8e21001d",
   "metadata": {},
   "outputs": [],
   "source": [
    "ndata = pnt_in_ply.merge(b_dens[['GEOID', 'b_dens']], on='GEOID')"
   ]
  },
  {
   "cell_type": "code",
   "execution_count": 15,
   "id": "082d53d1",
   "metadata": {},
   "outputs": [],
   "source": [
    "outpath = r'T:\\DCProjects\\Modeling\\AADBT\\input'"
   ]
  },
  {
   "cell_type": "code",
   "execution_count": 17,
   "id": "15feb708",
   "metadata": {},
   "outputs": [],
   "source": [
    "data = pd.read_csv(outpath + '\\\\Daily_Bike_Counts_With_AllVarData.csv')"
   ]
  },
  {
   "cell_type": "code",
   "execution_count": 19,
   "id": "48808cf7",
   "metadata": {},
   "outputs": [],
   "source": [
    "ndata.rename(columns={\"b_dens\": \"BuilDens\"}, inplace=True)"
   ]
  },
  {
   "cell_type": "code",
   "execution_count": 20,
   "id": "8c919b37",
   "metadata": {},
   "outputs": [],
   "source": [
    "df = data.merge(ndata[['Location', 'BuilDens']], on='Location')"
   ]
  },
  {
   "cell_type": "code",
   "execution_count": 22,
   "id": "61a4348e",
   "metadata": {},
   "outputs": [],
   "source": [
    "df.to_csv(outpath + '\\\\Daily_Bike_Counts_With_AllVarData.csv', index=False)"
   ]
  }
 ],
 "metadata": {
  "kernelspec": {
   "display_name": "Python 3",
   "language": "python",
   "name": "python3"
  },
  "language_info": {
   "codemirror_mode": {
    "name": "ipython",
    "version": 3
   },
   "file_extension": ".py",
   "mimetype": "text/x-python",
   "name": "python",
   "nbconvert_exporter": "python",
   "pygments_lexer": "ipython3",
   "version": "3.8.8"
  }
 },
 "nbformat": 4,
 "nbformat_minor": 5
}
