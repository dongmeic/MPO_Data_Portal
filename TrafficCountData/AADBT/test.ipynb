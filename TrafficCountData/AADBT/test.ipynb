{
 "cells": [
  {
   "cell_type": "code",
   "execution_count": 1,
   "id": "8040a6cd",
   "metadata": {},
   "outputs": [],
   "source": [
    "import geopandas as gpd\n",
    "import matplotlib.pyplot as plt\n",
    "import contextily as ctx\n",
    "import os\n",
    "import pandas as pd"
   ]
  },
  {
   "cell_type": "code",
   "execution_count": 3,
   "id": "f70df467",
   "metadata": {},
   "outputs": [],
   "source": [
    "shpfile = \"ceb018cb26cafd747e6eb17ce6eef80ecce265a721476ff557bafa5dd3143365-1670652856754.shp\""
   ]
  },
  {
   "cell_type": "code",
   "execution_count": 4,
   "id": "8072200b",
   "metadata": {},
   "outputs": [],
   "source": [
    "csvfile = \"ceb018cb26cafd747e6eb17ce6eef80ecce265a721476ff557bafa5dd3143365-1670652856754.csv\""
   ]
  },
  {
   "cell_type": "code",
   "execution_count": 5,
   "id": "8b33286a",
   "metadata": {},
   "outputs": [],
   "source": [
    "path = r\"T:\\DCProjects\\Modeling\\AADBT\\data\\Strava\\selected_area_yearly_2018-2021_ride_commute\""
   ]
  },
  {
   "cell_type": "code",
   "execution_count": 7,
   "id": "210fc517",
   "metadata": {},
   "outputs": [],
   "source": [
    "shp = gpd.read_file(os.path.join(path, shpfile))"
   ]
  },
  {
   "cell_type": "code",
   "execution_count": 9,
   "id": "cc70b0e1",
   "metadata": {},
   "outputs": [],
   "source": [
    "data = pd.read_csv(os.path.join(path, csvfile))"
   ]
  },
  {
   "cell_type": "code",
   "execution_count": 10,
   "id": "b57449c2",
   "metadata": {},
   "outputs": [],
   "source": [
    "spdata = shp.merge(data[['edge_uid', 'total_trip_count']], how= 'right', \n",
    "                              left_on = 'edgeUID', right_on = 'edge_uid')"
   ]
  },
  {
   "cell_type": "code",
   "execution_count": 11,
   "id": "8535b3e7",
   "metadata": {},
   "outputs": [
    {
     "data": {
      "text/html": [
       "<div>\n",
       "<style scoped>\n",
       "    .dataframe tbody tr th:only-of-type {\n",
       "        vertical-align: middle;\n",
       "    }\n",
       "\n",
       "    .dataframe tbody tr th {\n",
       "        vertical-align: top;\n",
       "    }\n",
       "\n",
       "    .dataframe thead th {\n",
       "        text-align: right;\n",
       "    }\n",
       "</style>\n",
       "<table border=\"1\" class=\"dataframe\">\n",
       "  <thead>\n",
       "    <tr style=\"text-align: right;\">\n",
       "      <th></th>\n",
       "      <th>edgeUID</th>\n",
       "      <th>osmId</th>\n",
       "      <th>geometry</th>\n",
       "      <th>edge_uid</th>\n",
       "      <th>total_trip_count</th>\n",
       "    </tr>\n",
       "  </thead>\n",
       "  <tbody>\n",
       "    <tr>\n",
       "      <th>0</th>\n",
       "      <td>314129531</td>\n",
       "      <td>380015092</td>\n",
       "      <td>LINESTRING (-123.10330 44.04359, -123.10318 44...</td>\n",
       "      <td>314129531</td>\n",
       "      <td>455</td>\n",
       "    </tr>\n",
       "    <tr>\n",
       "      <th>1</th>\n",
       "      <td>314129531</td>\n",
       "      <td>380015092</td>\n",
       "      <td>LINESTRING (-123.10330 44.04359, -123.10318 44...</td>\n",
       "      <td>314129531</td>\n",
       "      <td>315</td>\n",
       "    </tr>\n",
       "  </tbody>\n",
       "</table>\n",
       "</div>"
      ],
      "text/plain": [
       "     edgeUID      osmId                                           geometry  \\\n",
       "0  314129531  380015092  LINESTRING (-123.10330 44.04359, -123.10318 44...   \n",
       "1  314129531  380015092  LINESTRING (-123.10330 44.04359, -123.10318 44...   \n",
       "\n",
       "    edge_uid  total_trip_count  \n",
       "0  314129531               455  \n",
       "1  314129531               315  "
      ]
     },
     "execution_count": 11,
     "metadata": {},
     "output_type": "execute_result"
    }
   ],
   "source": [
    "spdata.head(2)"
   ]
  },
  {
   "cell_type": "code",
   "execution_count": 12,
   "id": "cac22a3b",
   "metadata": {},
   "outputs": [
    {
     "data": {
      "text/plain": [
       "3474"
      ]
     },
     "execution_count": 12,
     "metadata": {},
     "output_type": "execute_result"
    }
   ],
   "source": [
    "len(shp.edgeUID.unique())"
   ]
  },
  {
   "cell_type": "code",
   "execution_count": 13,
   "id": "61e78b5d",
   "metadata": {},
   "outputs": [
    {
     "data": {
      "text/plain": [
       "2020"
      ]
     },
     "execution_count": 13,
     "metadata": {},
     "output_type": "execute_result"
    }
   ],
   "source": [
    "len(data.edge_uid.unique())"
   ]
  },
  {
   "cell_type": "code",
   "execution_count": 14,
   "id": "932b57f1",
   "metadata": {},
   "outputs": [
    {
     "data": {
      "text/plain": [
       "True"
      ]
     },
     "execution_count": 14,
     "metadata": {},
     "output_type": "execute_result"
    }
   ],
   "source": [
    "all(ID in shp.edgeUID.unique() for ID in data.edge_uid.unique())"
   ]
  },
  {
   "cell_type": "code",
   "execution_count": 15,
   "id": "9a8b0cd2",
   "metadata": {},
   "outputs": [
    {
     "data": {
      "text/plain": [
       "False"
      ]
     },
     "execution_count": 15,
     "metadata": {},
     "output_type": "execute_result"
    }
   ],
   "source": [
    "all(ID in data.edge_uid.unique() for ID in shp.edgeUID.unique())"
   ]
  }
 ],
 "metadata": {
  "kernelspec": {
   "display_name": "Python 3",
   "language": "python",
   "name": "python3"
  },
  "language_info": {
   "codemirror_mode": {
    "name": "ipython",
    "version": 3
   },
   "file_extension": ".py",
   "mimetype": "text/x-python",
   "name": "python",
   "nbconvert_exporter": "python",
   "pygments_lexer": "ipython3",
   "version": "3.8.8"
  }
 },
 "nbformat": 4,
 "nbformat_minor": 5
}
