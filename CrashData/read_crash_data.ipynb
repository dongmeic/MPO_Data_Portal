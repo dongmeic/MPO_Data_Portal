{
 "cells": [
  {
   "cell_type": "code",
   "execution_count": 1,
   "id": "37eeaea1",
   "metadata": {},
   "outputs": [],
   "source": [
    "import fiona \n",
    "import geopandas as gpd"
   ]
  },
  {
   "cell_type": "code",
   "execution_count": 2,
   "id": "83e0bd97",
   "metadata": {},
   "outputs": [],
   "source": [
    "gdb_file =r\"T:\\Data\\Safety\\Lane_County_Crashes\\LaneCounty_Crashes_SpatializedDecode.gdb\""
   ]
  },
  {
   "cell_type": "code",
   "execution_count": 3,
   "id": "a2040e04",
   "metadata": {},
   "outputs": [
    {
     "ename": "DriverError",
     "evalue": "T:\\Data\\Safety\\Lane_County_Crashes\\LaneCounty_Crashes_SpatializedDecode.gdb: Permission denied",
     "output_type": "error",
     "traceback": [
      "\u001b[1;31m---------------------------------------------------------------------------\u001b[0m",
      "\u001b[1;31mCPLE_OpenFailedError\u001b[0m                      Traceback (most recent call last)",
      "\u001b[1;32mfiona/_shim.pyx\u001b[0m in \u001b[0;36mfiona._shim.gdal_open_vector\u001b[1;34m()\u001b[0m\n",
      "\u001b[1;32mfiona/_err.pyx\u001b[0m in \u001b[0;36mfiona._err.exc_wrap_pointer\u001b[1;34m()\u001b[0m\n",
      "\u001b[1;31mCPLE_OpenFailedError\u001b[0m: T:\\Data\\Safety\\Lane_County_Crashes\\LaneCounty_Crashes_SpatializedDecode.gdb: Permission denied",
      "\nDuring handling of the above exception, another exception occurred:\n",
      "\u001b[1;31mDriverError\u001b[0m                               Traceback (most recent call last)",
      "\u001b[1;32m<ipython-input-3-cc7733aafdde>\u001b[0m in \u001b[0;36m<module>\u001b[1;34m\u001b[0m\n\u001b[1;32m----> 1\u001b[1;33m \u001b[0mlayers\u001b[0m \u001b[1;33m=\u001b[0m \u001b[0mfiona\u001b[0m\u001b[1;33m.\u001b[0m\u001b[0mlistlayers\u001b[0m\u001b[1;33m(\u001b[0m\u001b[0mgdb_file\u001b[0m\u001b[1;33m)\u001b[0m\u001b[1;33m\u001b[0m\u001b[1;33m\u001b[0m\u001b[0m\n\u001b[0m",
      "\u001b[1;32m~\\.conda\\envs\\geoenv\\lib\\site-packages\\fiona\\env.py\u001b[0m in \u001b[0;36mwrapper\u001b[1;34m(*args, **kwargs)\u001b[0m\n\u001b[0;32m    415\u001b[0m             \u001b[1;32mwith\u001b[0m \u001b[0mEnv\u001b[0m\u001b[1;33m.\u001b[0m\u001b[0mfrom_defaults\u001b[0m\u001b[1;33m(\u001b[0m\u001b[0msession\u001b[0m\u001b[1;33m=\u001b[0m\u001b[0msession\u001b[0m\u001b[1;33m)\u001b[0m\u001b[1;33m:\u001b[0m\u001b[1;33m\u001b[0m\u001b[1;33m\u001b[0m\u001b[0m\n\u001b[0;32m    416\u001b[0m                 \u001b[0mlog\u001b[0m\u001b[1;33m.\u001b[0m\u001b[0mdebug\u001b[0m\u001b[1;33m(\u001b[0m\u001b[1;34m\"Credentialized: {!r}\"\u001b[0m\u001b[1;33m.\u001b[0m\u001b[0mformat\u001b[0m\u001b[1;33m(\u001b[0m\u001b[0mgetenv\u001b[0m\u001b[1;33m(\u001b[0m\u001b[1;33m)\u001b[0m\u001b[1;33m)\u001b[0m\u001b[1;33m)\u001b[0m\u001b[1;33m\u001b[0m\u001b[1;33m\u001b[0m\u001b[0m\n\u001b[1;32m--> 417\u001b[1;33m                 \u001b[1;32mreturn\u001b[0m \u001b[0mf\u001b[0m\u001b[1;33m(\u001b[0m\u001b[1;33m*\u001b[0m\u001b[0margs\u001b[0m\u001b[1;33m,\u001b[0m \u001b[1;33m**\u001b[0m\u001b[0mkwargs\u001b[0m\u001b[1;33m)\u001b[0m\u001b[1;33m\u001b[0m\u001b[1;33m\u001b[0m\u001b[0m\n\u001b[0m\u001b[0;32m    418\u001b[0m     \u001b[1;32mreturn\u001b[0m \u001b[0mwrapper\u001b[0m\u001b[1;33m\u001b[0m\u001b[1;33m\u001b[0m\u001b[0m\n\u001b[0;32m    419\u001b[0m \u001b[1;33m\u001b[0m\u001b[0m\n",
      "\u001b[1;32m~\\.conda\\envs\\geoenv\\lib\\site-packages\\fiona\\__init__.py\u001b[0m in \u001b[0;36mlistlayers\u001b[1;34m(fp, vfs)\u001b[0m\n\u001b[0;32m    352\u001b[0m             \u001b[0mpobj\u001b[0m \u001b[1;33m=\u001b[0m \u001b[0mparse_path\u001b[0m\u001b[1;33m(\u001b[0m\u001b[0mfp\u001b[0m\u001b[1;33m)\u001b[0m\u001b[1;33m\u001b[0m\u001b[1;33m\u001b[0m\u001b[0m\n\u001b[0;32m    353\u001b[0m \u001b[1;33m\u001b[0m\u001b[0m\n\u001b[1;32m--> 354\u001b[1;33m         \u001b[1;32mreturn\u001b[0m \u001b[0m_listlayers\u001b[0m\u001b[1;33m(\u001b[0m\u001b[0mvsi_path\u001b[0m\u001b[1;33m(\u001b[0m\u001b[0mpobj\u001b[0m\u001b[1;33m)\u001b[0m\u001b[1;33m)\u001b[0m\u001b[1;33m\u001b[0m\u001b[1;33m\u001b[0m\u001b[0m\n\u001b[0m\u001b[0;32m    355\u001b[0m \u001b[1;33m\u001b[0m\u001b[0m\n\u001b[0;32m    356\u001b[0m \u001b[1;33m\u001b[0m\u001b[0m\n",
      "\u001b[1;32mfiona/ogrext.pyx\u001b[0m in \u001b[0;36mfiona.ogrext._listlayers\u001b[1;34m()\u001b[0m\n",
      "\u001b[1;32mfiona/_shim.pyx\u001b[0m in \u001b[0;36mfiona._shim.gdal_open_vector\u001b[1;34m()\u001b[0m\n",
      "\u001b[1;31mDriverError\u001b[0m: T:\\Data\\Safety\\Lane_County_Crashes\\LaneCounty_Crashes_SpatializedDecode.gdb: Permission denied"
     ]
    }
   ],
   "source": [
    "layers = fiona.listlayers(gdb_file)"
   ]
  },
  {
   "cell_type": "code",
   "execution_count": 1,
   "id": "33ce929d",
   "metadata": {},
   "outputs": [],
   "source": [
    "import arcpy"
   ]
  },
  {
   "cell_type": "code",
   "execution_count": 2,
   "id": "54d546d8",
   "metadata": {},
   "outputs": [],
   "source": [
    "arcpy.env.workspace = r\"T:\\Data\\Safety\\Lane_County_Crashes\\LaneCounty_Crashes_SpatializedDecode.gdb\"\n",
    "featureClasses = arcpy.ListFeatureClasses()"
   ]
  },
  {
   "cell_type": "code",
   "execution_count": 3,
   "id": "9ee99bce",
   "metadata": {},
   "outputs": [
    {
     "data": {
      "text/plain": [
       "['Crash_2017',\n",
       " 'Crash_2016',\n",
       " 'Crash_2015',\n",
       " 'Crash_2014',\n",
       " 'Crash_2013',\n",
       " 'Crash_2012',\n",
       " 'Crash_2011',\n",
       " 'Crash_2010',\n",
       " 'Crash_2009',\n",
       " 'Crash_2008',\n",
       " 'Crash_2007',\n",
       " 'Crash',\n",
       " 'Crash_2018',\n",
       " 'Crash_2019',\n",
       " 'Crash_2020']"
      ]
     },
     "execution_count": 3,
     "metadata": {},
     "output_type": "execute_result"
    }
   ],
   "source": [
    "featureClasses"
   ]
  },
  {
   "cell_type": "code",
   "execution_count": 4,
   "id": "0a9f5fa6",
   "metadata": {},
   "outputs": [],
   "source": [
    "tables = arcpy.ListTables()"
   ]
  },
  {
   "cell_type": "code",
   "execution_count": 5,
   "id": "5072c6b7",
   "metadata": {},
   "outputs": [
    {
     "data": {
      "text/plain": [
       "['Crash_Participant_2007',\n",
       " 'Crash_Vehicle',\n",
       " 'Crash_Participant_2017',\n",
       " 'Crash_Participant_2016',\n",
       " 'Crash_Participant_2015',\n",
       " 'Crash_Participant_2014',\n",
       " 'Crash_Participant_2013',\n",
       " 'Crash_Participant_2012',\n",
       " 'Crash_Participant_2011',\n",
       " 'Crash_Participant_2010',\n",
       " 'Crash_Participant_2009',\n",
       " 'Crash_Participant_2008',\n",
       " 'Crash_Participant',\n",
       " 'Crash_Vehicle_2017',\n",
       " 'Crash_Vehicle_2016',\n",
       " 'Crash_Vehicle_2015',\n",
       " 'Crash_Vehicle_2014',\n",
       " 'Crash_Vehicle_2013',\n",
       " 'Crash_Vehicle_2012',\n",
       " 'Crash_Vehicle_2011',\n",
       " 'Crash_Vehicle_2010',\n",
       " 'Crash_Vehicle_2009',\n",
       " 'Crash_Vehicle_2008',\n",
       " 'Crash_Vehicle_2007',\n",
       " 'Crash_Vehicle_2018',\n",
       " 'Crash_Participant_2018',\n",
       " 'Crash_Vehicle_2019',\n",
       " 'Crash_Participant_2019',\n",
       " 'Crash_Vehicle_2020',\n",
       " 'Crash_Participant_2020']"
      ]
     },
     "execution_count": 5,
     "metadata": {},
     "output_type": "execute_result"
    }
   ],
   "source": [
    "tables"
   ]
  },
  {
   "cell_type": "code",
   "execution_count": 6,
   "id": "1da89519",
   "metadata": {},
   "outputs": [],
   "source": [
    "from pandas import DataFrame"
   ]
  },
  {
   "cell_type": "code",
   "execution_count": 10,
   "id": "642da012",
   "metadata": {},
   "outputs": [],
   "source": [
    "featureclass = 'Crash'"
   ]
  },
  {
   "cell_type": "code",
   "execution_count": 12,
   "id": "1b095b34",
   "metadata": {},
   "outputs": [],
   "source": [
    "fieldlist = [f.name for f in arcpy.ListFields(featureclass)]"
   ]
  },
  {
   "cell_type": "code",
   "execution_count": 20,
   "id": "22023bfd",
   "metadata": {},
   "outputs": [],
   "source": [
    "ndar = arcpy.da.FeatureClassToNumPyArray(in_table=featureclass, field_names=fieldlist, skip_nulls=False, null_value=-99999)"
   ]
  },
  {
   "cell_type": "code",
   "execution_count": 22,
   "id": "85b33b9a",
   "metadata": {},
   "outputs": [],
   "source": [
    "import numpy as np\n",
    "import pandas as pd"
   ]
  },
  {
   "cell_type": "code",
   "execution_count": 25,
   "id": "5c7dfd6e",
   "metadata": {},
   "outputs": [
    {
     "data": {
      "text/plain": [
       "numpy.ndarray"
      ]
     },
     "execution_count": 25,
     "metadata": {},
     "output_type": "execute_result"
    }
   ],
   "source": [
    "type(ndar)"
   ]
  },
  {
   "cell_type": "code",
   "execution_count": 29,
   "id": "2596e1b4",
   "metadata": {},
   "outputs": [],
   "source": [
    "import pickle\n",
    "with open(r'C:\\Users\\clid1852\\OneDrive - lanecouncilofgovernments\\share\\ndar.pkl', 'wb') as f:\n",
    "    pickle.dump(ndar, f)"
   ]
  },
  {
   "cell_type": "code",
   "execution_count": 26,
   "id": "73d30ce0",
   "metadata": {},
   "outputs": [
    {
     "data": {
      "text/plain": [
       "(52469,)"
      ]
     },
     "execution_count": 26,
     "metadata": {},
     "output_type": "execute_result"
    }
   ],
   "source": [
    "ndar.shape"
   ]
  },
  {
   "cell_type": "code",
   "execution_count": 28,
   "id": "a1e4bc23",
   "metadata": {},
   "outputs": [
    {
     "data": {
      "text/plain": [
       "(511, [-124.12769325,   43.88283811], 1235825, '00694', '2007-02-27T00:00:00.000000', '02', '27', '2007', '3', 'Tue', '08', '8A ', '08:00 to 08:59', '08:00 AM to 08:59 AM', '20', 'Lane', -99999, '-99999', -99999, '-99999', '-99999', '02', 'R PR-ART', 'RURAL PRINCIPAL ARTERIAL - OTHER', 1, '009', '  ', 'OREGON COAST', 'Oregon Coast Highway', '1', 'Add-mileage on divided highway or an undivided hwy', '0', 'MN', 'MAINLINE HWY', 'Mainline State Highway', '0', 'R', 'REGULAR', 'Regular Mileage', '-', '000900100S00', -124, 7, 39.6957016, 43, 52, 58.21720886, -124.12769325, 43.88283811, '-9', '-99999', '-99999', '-99999', '-9', '-99', '-99999', '-99999', '-99999', '                            ', '-99999', '-99999', '                            ', '-99999', -99999, -99999, '0', 'UN', 197.1, '55', '5', 'CURVE   ', 'CURVE', 'Curve (horizontal curve)', 1, '-', '-99999', 0, 0, 0, 2, -99999, '0', 'NONE ', 'No median', '06', '8', 'FIX OBJ   ', 'FIXED OBJECT', 'Fixed Object', '9', 'FIX     ', 'FIXED OBJ', 'Fixed Object or Other Object', 'FIXED / OTHER OBJECT', 9, '4', 'INJ', 'Non-Fatal Injury ', '3', 'RAIN', 'RAIN ', 'Rain   ', '2', 'WET ', 'WET', '1', 'DAY ', 'DAY', 'Daylight', '099', 'UNKNOWN   ', 'Unknown or not definite', 1, '1', 'STATE ', 'State Police - Report received.', '079', 'DITCH     ', 'CUT SLOPE/DITCH', 'Cut slope or ditch embankment', 1, 0, 1, '010', 'SUB OTRN  ', 'SUBSEQ OVERTURN', 'Overturned after first harmful event', 1, 0, 1, '-99', '-99999', '-99999', '-99999', -99999, -99999, -99999, '01', 'TOO-FAST', 'TOO FAST FOR COND', 'Too fast for conditions (not exceed posted speed)', 1, 1, 0, '-9', '-99999', '-99999', '-99999', -99999, -99999, -99999, '-9', '-99999', '-99999', '-99999', -99999, -99999, -99999, '0', '0', 0, 0, -99999, 1, 0, '-', '-99999', '5', 'RURAL HWY SYSTEM', 'Rural Highway System', 'US', '101  ', 'US 101    ', '2', '05 ', '293_9495', 679.91765187, 0, '2010-06-29T11:12:09.140001', 1, 0, 0, 1, 0, 1, 0, 0, 0, 0, 0, 0, 0, 0, 0, 0, 0, 0, 0, 1, 1, 1, 0, 0, 0, 0, 0, 0, 0, 0, 1, 'Y', '06/06/2017', '-999', 'SVF', 'Siuslaw Valley Fire & Rescue', 'SVF', 'Siuslaw Valley Fire/Rescue', -99999, '-99', '-99999')"
      ]
     },
     "execution_count": 28,
     "metadata": {},
     "output_type": "execute_result"
    }
   ],
   "source": [
    "ndar[0]"
   ]
  },
  {
   "cell_type": "code",
   "execution_count": 30,
   "id": "5910abe4",
   "metadata": {},
   "outputs": [],
   "source": [
    "df = pd.DataFrame([list(row) for row in ndar], columns=ndar.dtype.names)"
   ]
  },
  {
   "cell_type": "code",
   "execution_count": 31,
   "id": "98c08d55",
   "metadata": {},
   "outputs": [
    {
     "data": {
      "text/html": [
       "<div>\n",
       "<style scoped>\n",
       "    .dataframe tbody tr th:only-of-type {\n",
       "        vertical-align: middle;\n",
       "    }\n",
       "\n",
       "    .dataframe tbody tr th {\n",
       "        vertical-align: top;\n",
       "    }\n",
       "\n",
       "    .dataframe thead th {\n",
       "        text-align: right;\n",
       "    }\n",
       "</style>\n",
       "<table border=\"1\" class=\"dataframe\">\n",
       "  <thead>\n",
       "    <tr style=\"text-align: right;\">\n",
       "      <th></th>\n",
       "      <th>OBJECTID</th>\n",
       "      <th>Shape</th>\n",
       "      <th>crash_id</th>\n",
       "      <th>ser_no</th>\n",
       "      <th>crash_dt</th>\n",
       "      <th>crash_mo_no</th>\n",
       "      <th>crash_day_no</th>\n",
       "      <th>crash_yr_no</th>\n",
       "      <th>crash_wk_day_cd</th>\n",
       "      <th>wkday_short_desc</th>\n",
       "      <th>...</th>\n",
       "      <th>lane_rdwy_dprt_crash_flg</th>\n",
       "      <th>gis_prc_dt</th>\n",
       "      <th>effectv_dt</th>\n",
       "      <th>fire_protection_provider_code</th>\n",
       "      <th>fire_protection_provider_name</th>\n",
       "      <th>fire_responder_code</th>\n",
       "      <th>fire_responder_name</th>\n",
       "      <th>is_in_mpo</th>\n",
       "      <th>ugb_code</th>\n",
       "      <th>ugb_name</th>\n",
       "    </tr>\n",
       "  </thead>\n",
       "  <tbody>\n",
       "    <tr>\n",
       "      <th>0</th>\n",
       "      <td>511</td>\n",
       "      <td>[-124.12769325, 43.88283811400004]</td>\n",
       "      <td>1235825</td>\n",
       "      <td>00694</td>\n",
       "      <td>2007-02-27</td>\n",
       "      <td>02</td>\n",
       "      <td>27</td>\n",
       "      <td>2007</td>\n",
       "      <td>3</td>\n",
       "      <td>Tue</td>\n",
       "      <td>...</td>\n",
       "      <td>Y</td>\n",
       "      <td>06/06/2017</td>\n",
       "      <td>-999</td>\n",
       "      <td>SVF</td>\n",
       "      <td>Siuslaw Valley Fire &amp; Rescue</td>\n",
       "      <td>SVF</td>\n",
       "      <td>Siuslaw Valley Fire/Rescue</td>\n",
       "      <td>-99999</td>\n",
       "      <td>-99</td>\n",
       "      <td>-99999</td>\n",
       "    </tr>\n",
       "    <tr>\n",
       "      <th>1</th>\n",
       "      <td>924</td>\n",
       "      <td>[-124.12534989199997, 43.88303875200006]</td>\n",
       "      <td>1244151</td>\n",
       "      <td>01194</td>\n",
       "      <td>2007-04-07</td>\n",
       "      <td>04</td>\n",
       "      <td>07</td>\n",
       "      <td>2007</td>\n",
       "      <td>7</td>\n",
       "      <td>Sat</td>\n",
       "      <td>...</td>\n",
       "      <td>Y</td>\n",
       "      <td>06/06/2017</td>\n",
       "      <td>-999</td>\n",
       "      <td>SVF</td>\n",
       "      <td>Siuslaw Valley Fire &amp; Rescue</td>\n",
       "      <td>SVF</td>\n",
       "      <td>Siuslaw Valley Fire/Rescue</td>\n",
       "      <td>-99999</td>\n",
       "      <td>-99</td>\n",
       "      <td>-99999</td>\n",
       "    </tr>\n",
       "    <tr>\n",
       "      <th>2</th>\n",
       "      <td>1697</td>\n",
       "      <td>[-124.04354444399996, 43.874451875000034]</td>\n",
       "      <td>1255800</td>\n",
       "      <td>01991</td>\n",
       "      <td>2007-06-04</td>\n",
       "      <td>06</td>\n",
       "      <td>04</td>\n",
       "      <td>2007</td>\n",
       "      <td>2</td>\n",
       "      <td>Mon</td>\n",
       "      <td>...</td>\n",
       "      <td>Y</td>\n",
       "      <td>06/06/2017</td>\n",
       "      <td>-999</td>\n",
       "      <td>SVF</td>\n",
       "      <td>Siuslaw Valley Fire &amp; Rescue</td>\n",
       "      <td>SVF</td>\n",
       "      <td>Siuslaw Valley Fire/Rescue</td>\n",
       "      <td>-99999</td>\n",
       "      <td>-99</td>\n",
       "      <td>-99999</td>\n",
       "    </tr>\n",
       "    <tr>\n",
       "      <th>3</th>\n",
       "      <td>1698</td>\n",
       "      <td>[-124.04354444399996, 43.874451875000034]</td>\n",
       "      <td>1255801</td>\n",
       "      <td>91991</td>\n",
       "      <td>2007-06-04</td>\n",
       "      <td>06</td>\n",
       "      <td>04</td>\n",
       "      <td>2007</td>\n",
       "      <td>2</td>\n",
       "      <td>Mon</td>\n",
       "      <td>...</td>\n",
       "      <td>Y</td>\n",
       "      <td>06/06/2017</td>\n",
       "      <td>-999</td>\n",
       "      <td>SVF</td>\n",
       "      <td>Siuslaw Valley Fire &amp; Rescue</td>\n",
       "      <td>SVF</td>\n",
       "      <td>Siuslaw Valley Fire/Rescue</td>\n",
       "      <td>-99999</td>\n",
       "      <td>-99</td>\n",
       "      <td>-99999</td>\n",
       "    </tr>\n",
       "    <tr>\n",
       "      <th>4</th>\n",
       "      <td>1736</td>\n",
       "      <td>[-124.13214058999995, 43.872101290000046]</td>\n",
       "      <td>1256538</td>\n",
       "      <td>02088</td>\n",
       "      <td>2007-06-10</td>\n",
       "      <td>06</td>\n",
       "      <td>10</td>\n",
       "      <td>2007</td>\n",
       "      <td>1</td>\n",
       "      <td>Sun</td>\n",
       "      <td>...</td>\n",
       "      <td>Y</td>\n",
       "      <td>06/06/2017</td>\n",
       "      <td>-999</td>\n",
       "      <td>SVF</td>\n",
       "      <td>Siuslaw Valley Fire &amp; Rescue</td>\n",
       "      <td>SVF</td>\n",
       "      <td>Siuslaw Valley Fire/Rescue</td>\n",
       "      <td>-99999</td>\n",
       "      <td>-99</td>\n",
       "      <td>-99999</td>\n",
       "    </tr>\n",
       "  </tbody>\n",
       "</table>\n",
       "<p>5 rows × 220 columns</p>\n",
       "</div>"
      ],
      "text/plain": [
       "   OBJECTID                                      Shape  crash_id ser_no  \\\n",
       "0       511         [-124.12769325, 43.88283811400004]   1235825  00694   \n",
       "1       924   [-124.12534989199997, 43.88303875200006]   1244151  01194   \n",
       "2      1697  [-124.04354444399996, 43.874451875000034]   1255800  01991   \n",
       "3      1698  [-124.04354444399996, 43.874451875000034]   1255801  91991   \n",
       "4      1736  [-124.13214058999995, 43.872101290000046]   1256538  02088   \n",
       "\n",
       "    crash_dt crash_mo_no crash_day_no crash_yr_no crash_wk_day_cd  \\\n",
       "0 2007-02-27          02           27        2007               3   \n",
       "1 2007-04-07          04           07        2007               7   \n",
       "2 2007-06-04          06           04        2007               2   \n",
       "3 2007-06-04          06           04        2007               2   \n",
       "4 2007-06-10          06           10        2007               1   \n",
       "\n",
       "  wkday_short_desc  ... lane_rdwy_dprt_crash_flg  gis_prc_dt effectv_dt  \\\n",
       "0              Tue  ...                        Y  06/06/2017       -999   \n",
       "1              Sat  ...                        Y  06/06/2017       -999   \n",
       "2              Mon  ...                        Y  06/06/2017       -999   \n",
       "3              Mon  ...                        Y  06/06/2017       -999   \n",
       "4              Sun  ...                        Y  06/06/2017       -999   \n",
       "\n",
       "  fire_protection_provider_code fire_protection_provider_name  \\\n",
       "0                           SVF  Siuslaw Valley Fire & Rescue   \n",
       "1                           SVF  Siuslaw Valley Fire & Rescue   \n",
       "2                           SVF  Siuslaw Valley Fire & Rescue   \n",
       "3                           SVF  Siuslaw Valley Fire & Rescue   \n",
       "4                           SVF  Siuslaw Valley Fire & Rescue   \n",
       "\n",
       "  fire_responder_code         fire_responder_name is_in_mpo  ugb_code ugb_name  \n",
       "0                 SVF  Siuslaw Valley Fire/Rescue    -99999       -99   -99999  \n",
       "1                 SVF  Siuslaw Valley Fire/Rescue    -99999       -99   -99999  \n",
       "2                 SVF  Siuslaw Valley Fire/Rescue    -99999       -99   -99999  \n",
       "3                 SVF  Siuslaw Valley Fire/Rescue    -99999       -99   -99999  \n",
       "4                 SVF  Siuslaw Valley Fire/Rescue    -99999       -99   -99999  \n",
       "\n",
       "[5 rows x 220 columns]"
      ]
     },
     "execution_count": 31,
     "metadata": {},
     "output_type": "execute_result"
    }
   ],
   "source": [
    "df.head()"
   ]
  },
  {
   "cell_type": "code",
   "execution_count": 34,
   "id": "a7c66b24",
   "metadata": {},
   "outputs": [],
   "source": [
    "outpath = \"//clsrv111.int.lcog.org/transpor/Tableau/tableauSafetyEmphasisAreas/Datasources/\""
   ]
  },
  {
   "cell_type": "code",
   "execution_count": 35,
   "id": "ce54f0f7",
   "metadata": {},
   "outputs": [],
   "source": [
    "df.to_csv(outpath+\"crash.csv\", index=False)"
   ]
  },
  {
   "cell_type": "code",
   "execution_count": 37,
   "id": "20c039ba",
   "metadata": {},
   "outputs": [],
   "source": [
    "vhcl = arcpy.da.TableToNumPyArray(in_table=\"Crash_Vehicle\", field_names=[f.name for f in arcpy.ListFields(\"Crash_Vehicle\")], skip_nulls=False, null_value=-99999)"
   ]
  },
  {
   "cell_type": "code",
   "execution_count": 38,
   "id": "9200076d",
   "metadata": {
    "scrolled": true
   },
   "outputs": [
    {
     "data": {
      "text/plain": [
       "(96371, 1228425, 2328540, 1, 0, 0, 0, 1, 0, 0, 1, 1, 1, '5', 'S ', 'S ', '1', 'N ', 'N ', '1', 'STRGHT', 'STRAIGHT', 'Straight Ahead', '1', 'PRVTE', 'Private', '01', 'PSNGR CAR ', 'Passenger car, pickup, light delivery, etc.', '0', 'NONE  ', 'No Special Use', '000', 'NONE     ', 'NO ACTION', 'No action or non-warranted', '00', 'NO CODE ', 'NO CODE APPLICABLE', 'No cause associated at this level', '-9', '-99999', '-99999', '-99999', '-9', '-99999', '-99999', '-99999', '-99', '-99999', '-99999', '-99999', '-99', '-99999', '-99999', '-99999', '-99', '-99999', '-99999', '-99999')"
      ]
     },
     "execution_count": 38,
     "metadata": {},
     "output_type": "execute_result"
    }
   ],
   "source": [
    "vhcl[0]"
   ]
  },
  {
   "cell_type": "code",
   "execution_count": 39,
   "id": "373040b5",
   "metadata": {},
   "outputs": [],
   "source": [
    "vhcl_df = pd.DataFrame([list(row) for row in vhcl], columns=vhcl.dtype.names)"
   ]
  },
  {
   "cell_type": "code",
   "execution_count": 40,
   "id": "931f1a3e",
   "metadata": {},
   "outputs": [],
   "source": [
    "vhcl_df.to_csv(outpath+\"crash_vehicle.csv\", index=False)"
   ]
  },
  {
   "cell_type": "code",
   "execution_count": 41,
   "id": "056f1a30",
   "metadata": {},
   "outputs": [
    {
     "data": {
      "text/plain": [
       "(109392, 1228425, -99999, 2663352, 2, -99999, 1, 0, 0, '22', '-', '26', '1', '1', '-99999', 0, '034', 'X N/SGNL ', 'X-INTER NO SIGNAL', 'Crossing at intersection - no traffic signal present', '0', 'UN', 'UN', '0', 'UN', 'UN', '-', '-9999', '-99999', '-', '-9999', '-99999', '1', 'KILL', 'KILLED', 'Fatal Injury', '0', 'UNK   ', 'UNKNOWN', 'Unknown', '03', 'I XWK?   ', 'INT IN RD/X-WALK?', 'At intersection - in roadway, xwalk avail unknwn', '3', 'PED ', 'PEDESTRIAN', 'Pedestrian', '-', '-99999', '-99999', '-99999', '1', 'Male      ', '19', 'NT VISBL', 'NOT VISIBLE', 'Not motorist not visible; non-reflective clothing', '-9', '-99999', '-99999', '-99999', '-9', '-99999', '-99999', '-99999', '000', 'NONE      ', 'NO ERROR', 'No error', '-99', '-99999', '-99999', '-99999', '-99', '-99999', '-99999', '-99999', '-99', '-99999', '-99999', '-99999', '-99', '-99999', '-99999', '-99999', '-99999', '-99999', '-99999', '-99999')"
      ]
     },
     "execution_count": 41,
     "metadata": {},
     "output_type": "execute_result"
    }
   ],
   "source": [
    "ptcp = arcpy.da.TableToNumPyArray(in_table=\"Crash_Participant\", field_names=[f.name for f in arcpy.ListFields(\"Crash_Participant\")], skip_nulls=False, null_value=-99999)\n",
    "ptcp[0]"
   ]
  },
  {
   "cell_type": "code",
   "execution_count": 42,
   "id": "2e884a52",
   "metadata": {},
   "outputs": [],
   "source": [
    "ptcp_df = pd.DataFrame([list(row) for row in ptcp], columns=ptcp.dtype.names)\n",
    "ptcp_df.to_csv(outpath+\"crash_participant.csv\", index=False)"
   ]
  }
 ],
 "metadata": {
  "kernelspec": {
   "display_name": "Python 3",
   "language": "python",
   "name": "python3"
  },
  "language_info": {
   "codemirror_mode": {
    "name": "ipython",
    "version": 3
   },
   "file_extension": ".py",
   "mimetype": "text/x-python",
   "name": "python",
   "nbconvert_exporter": "python",
   "pygments_lexer": "ipython3",
   "version": "3.7.11"
  }
 },
 "nbformat": 4,
 "nbformat_minor": 5
}
