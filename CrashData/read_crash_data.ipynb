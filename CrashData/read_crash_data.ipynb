{
 "cells": [
  {
   "cell_type": "code",
   "execution_count": 1,
   "id": "9e585ce1",
   "metadata": {},
   "outputs": [],
   "source": [
    "import fiona \n",
    "import geopandas as gpd"
   ]
  },
  {
   "cell_type": "code",
   "execution_count": 2,
   "id": "54425238",
   "metadata": {},
   "outputs": [],
   "source": [
    "gdb_file =r\"T:\\Data\\Safety\\Lane_County_Crashes\\Lane_County_Crashes__Spatialized_Decode.gdb\""
   ]
  },
  {
   "cell_type": "code",
   "execution_count": 5,
   "id": "745a460d",
   "metadata": {},
   "outputs": [],
   "source": [
    "#DriverError - Permission Denied\n",
    "#layers = fiona.listlayers(gdb_file)"
   ]
  },
  {
   "cell_type": "code",
   "execution_count": 5,
   "id": "eccb1556",
   "metadata": {},
   "outputs": [
    {
     "data": {
      "text/plain": [
       "['Crash_Participant_2007',\n",
       " 'Crash_2017',\n",
       " 'Crash_2016',\n",
       " 'Crash_2015',\n",
       " 'Crash_2014',\n",
       " 'Crash_2013',\n",
       " 'Crash_2012',\n",
       " 'Crash_2011',\n",
       " 'Crash_2010',\n",
       " 'Crash_2009',\n",
       " 'Crash_2008',\n",
       " 'Crash_2007',\n",
       " 'Crash_Participant_2017',\n",
       " 'Crash_Participant_2016',\n",
       " 'Crash_Participant_2015',\n",
       " 'Crash_Participant_2014',\n",
       " 'Crash_Participant_2013',\n",
       " 'Crash_Participant_2012',\n",
       " 'Crash_Participant_2011',\n",
       " 'Crash_Participant_2010',\n",
       " 'Crash_Participant_2009',\n",
       " 'Crash_Participant_2008',\n",
       " 'Crash_Vehicle_2017',\n",
       " 'Crash_Vehicle_2016',\n",
       " 'Crash_Vehicle_2015',\n",
       " 'Crash_Vehicle_2014',\n",
       " 'Crash_Vehicle_2013',\n",
       " 'Crash_Vehicle_2012',\n",
       " 'Crash_Vehicle_2011',\n",
       " 'Crash_Vehicle_2010',\n",
       " 'Crash_Vehicle_2009',\n",
       " 'Crash_Vehicle_2008',\n",
       " 'Crash_Vehicle_2007',\n",
       " 'Crash_Vehicle_2018',\n",
       " 'Crash_2018',\n",
       " 'Crash_Participant_2018',\n",
       " 'Crash_Vehicle_2019',\n",
       " 'Crash_Participant_2019',\n",
       " 'Crash_Vehicle_2020',\n",
       " 'Crash_2020',\n",
       " 'Crash_Participant_2020']"
      ]
     },
     "execution_count": 5,
     "metadata": {},
     "output_type": "execute_result"
    }
   ],
   "source": [
    "layers"
   ]
  },
  {
   "cell_type": "code",
   "execution_count": 1,
   "id": "59bd5796",
   "metadata": {},
   "outputs": [],
   "source": [
    "import arcpy"
   ]
  },
  {
   "cell_type": "code",
   "execution_count": 2,
   "id": "367c061c",
   "metadata": {},
   "outputs": [],
   "source": [
    "arcpy.env.workspace = r\"T:\\Data\\Safety\\Lane_County_Crashes\\Lane_County_Crashes__Spatialized_Decode.gdb\"\n",
    "featureClasses = arcpy.ListFeatureClasses()"
   ]
  },
  {
   "cell_type": "code",
   "execution_count": 3,
   "id": "7528b7f6",
   "metadata": {},
   "outputs": [
    {
     "data": {
      "text/plain": [
       "['Crash_2017',\n",
       " 'Crash_2016',\n",
       " 'Crash_2015',\n",
       " 'Crash_2014',\n",
       " 'Crash_2013',\n",
       " 'Crash_2012',\n",
       " 'Crash_2011',\n",
       " 'Crash_2010',\n",
       " 'Crash_2009',\n",
       " 'Crash_2008',\n",
       " 'Crash_2007',\n",
       " 'Crash',\n",
       " 'Crash_2018',\n",
       " 'Crash_2019',\n",
       " 'Crash_2020',\n",
       " 'Crash_2021']"
      ]
     },
     "execution_count": 3,
     "metadata": {},
     "output_type": "execute_result"
    }
   ],
   "source": [
    "featureClasses"
   ]
  },
  {
   "cell_type": "code",
   "execution_count": 4,
   "id": "afc710cb",
   "metadata": {},
   "outputs": [],
   "source": [
    "tables = arcpy.ListTables()"
   ]
  },
  {
   "cell_type": "code",
   "execution_count": 5,
   "id": "6b47a624",
   "metadata": {},
   "outputs": [
    {
     "data": {
      "text/plain": [
       "['Crash_Participant_2007',\n",
       " 'Crash_Vehicle',\n",
       " 'Crash_Participant_2017',\n",
       " 'Crash_Participant_2016',\n",
       " 'Crash_Participant_2015',\n",
       " 'Crash_Participant_2014',\n",
       " 'Crash_Participant_2013',\n",
       " 'Crash_Participant_2012',\n",
       " 'Crash_Participant_2011',\n",
       " 'Crash_Participant_2010',\n",
       " 'Crash_Participant_2009',\n",
       " 'Crash_Participant_2008',\n",
       " 'Crash_Participant',\n",
       " 'Crash_Vehicle_2017',\n",
       " 'Crash_Vehicle_2016',\n",
       " 'Crash_Vehicle_2015',\n",
       " 'Crash_Vehicle_2014',\n",
       " 'Crash_Vehicle_2013',\n",
       " 'Crash_Vehicle_2012',\n",
       " 'Crash_Vehicle_2011',\n",
       " 'Crash_Vehicle_2010',\n",
       " 'Crash_Vehicle_2009',\n",
       " 'Crash_Vehicle_2008',\n",
       " 'Crash_Vehicle_2007',\n",
       " 'Crash_Vehicle_2018',\n",
       " 'Crash_Participant_2018',\n",
       " 'Crash_Vehicle_2019',\n",
       " 'Crash_Participant_2019',\n",
       " 'Crash_Vehicle_2020',\n",
       " 'Crash_Participant_2020',\n",
       " 'Crash_Vehicle_2021',\n",
       " 'Crash_Participant_2021']"
      ]
     },
     "execution_count": 5,
     "metadata": {},
     "output_type": "execute_result"
    }
   ],
   "source": [
    "tables"
   ]
  },
  {
   "cell_type": "code",
   "execution_count": 6,
   "id": "75479a34",
   "metadata": {},
   "outputs": [],
   "source": [
    "from pandas import DataFrame"
   ]
  },
  {
   "cell_type": "code",
   "execution_count": 7,
   "id": "fcd79c44",
   "metadata": {},
   "outputs": [],
   "source": [
    "featureclass = 'Crash'"
   ]
  },
  {
   "cell_type": "code",
   "execution_count": 8,
   "id": "a4758d3d",
   "metadata": {},
   "outputs": [],
   "source": [
    "fieldlist = [f.name for f in arcpy.ListFields(featureclass)]"
   ]
  },
  {
   "cell_type": "code",
   "execution_count": 9,
   "id": "96c072bf",
   "metadata": {},
   "outputs": [],
   "source": [
    "ndar = arcpy.da.FeatureClassToNumPyArray(in_table=featureclass, field_names=fieldlist, skip_nulls=False, null_value=-99999)"
   ]
  },
  {
   "cell_type": "code",
   "execution_count": 10,
   "id": "bbb8e6b9",
   "metadata": {},
   "outputs": [],
   "source": [
    "import numpy as np\n",
    "import pandas as pd"
   ]
  },
  {
   "cell_type": "code",
   "execution_count": 11,
   "id": "2154179e",
   "metadata": {},
   "outputs": [
    {
     "data": {
      "text/plain": [
       "numpy.ndarray"
      ]
     },
     "execution_count": 11,
     "metadata": {},
     "output_type": "execute_result"
    }
   ],
   "source": [
    "type(ndar)"
   ]
  },
  {
   "cell_type": "code",
   "execution_count": 12,
   "id": "b6e5288f",
   "metadata": {},
   "outputs": [],
   "source": [
    "import pickle\n",
    "with open(r'C:\\Users\\clid1852\\OneDrive - lanecouncilofgovernments\\share\\ndar.pkl', 'wb') as f:\n",
    "    pickle.dump(ndar, f)"
   ]
  },
  {
   "cell_type": "code",
   "execution_count": 13,
   "id": "f94b94c6",
   "metadata": {},
   "outputs": [
    {
     "data": {
      "text/plain": [
       "(55996,)"
      ]
     },
     "execution_count": 13,
     "metadata": {},
     "output_type": "execute_result"
    }
   ],
   "source": [
    "ndar.shape"
   ]
  },
  {
   "cell_type": "code",
   "execution_count": 14,
   "id": "fa891e84",
   "metadata": {},
   "outputs": [
    {
     "data": {
      "text/plain": [
       "(511, [-124.12769325,   43.88283811], 1235825, '00694', '2007-02-27T00:00:00.000000', '02', '27', '2007', '3', 'Tue', '08', '8A ', '08:00 to 08:59', '08:00 AM to 08:59 AM', '20', 'Lane', -99999, '-99999', -99999, '-99999', '-99999', '02', 'R PR-ART', 'RURAL PRINCIPAL ARTERIAL - OTHER', 1, '009', '  ', 'OREGON COAST', 'Oregon Coast Highway', '1', 'Add-mileage on divided highway or an undivided hwy', '0', 'MN', 'MAINLINE HWY', 'Mainline State Highway', '0', 'R', 'REGULAR', 'Regular Mileage', '-', '000900100S00', -124, 7, 39.6957016, 43, 52, 58.21720886, -124.12769325, 43.88283811, '-9', '-99999', '-99999', '-99999', '-9', '-99', '-99999', '-99999', '-99999', '                            ', '-99999', '-99999', '                            ', '-99999', -99999, -99999, '0', 'UN', 197.1, '55', '5', 'CURVE   ', 'CURVE', 'Curve (horizontal curve)', 1, '-', '-99999', 0, 0, 0, 2, -99999, '0', 'NONE ', 'No median', '06', '8', 'FIX OBJ   ', 'FIXED OBJECT', 'Fixed Object', '9', 'FIX     ', 'FIXED OBJ', 'Fixed Object or Other Object', 'FIXED / OTHER OBJECT', 9, '4', 'INJ', 'Non-Fatal Injury ', '3', 'RAIN', 'RAIN ', 'Rain   ', '2', 'WET ', 'WET', '1', 'DAY ', 'DAY', 'Daylight', '099', 'UNKNOWN   ', 'Unknown or not definite', 1, '1', 'STATE ', 'State Police - Report received.', '079', 'DITCH     ', 'CUT SLOPE/DITCH', 'Cut slope or ditch embankment', 1, 0, 1, '010', 'SUB OTRN  ', 'SUBSEQ OVERTURN', 'Overturned after first harmful event', 1, 0, 1, '-99', '-99999', '-99999', '-99999', -99999, -99999, -99999, '01', 'TOO-FAST', 'TOO FAST FOR COND', 'Too fast for conditions (not exceed posted speed)', 1, 1, 0, '-9', '-99999', '-99999', '-99999', -99999, -99999, -99999, '-9', '-99999', '-99999', '-99999', -99999, -99999, -99999, '0', '0', 0, 0, -99999, 1, 0, '-', '-99999', '5', 'RURAL HWY SYSTEM', 'Rural Highway System', 'US', '101  ', 'US 101    ', '2', '05 ', '293_9495', 679.91765187, 0, '2010-06-29T11:12:09.140001', 1, 0, 0, 1, 0, 1, 0, 0, 0, 0, 0, 0, 0, 0, 0, 0, 0, 0, 0, 1, 1, 1, 0, 0, 0, 0, 0, 0, 0, 0, 1, 'Y', '06/06/2017', '-999', 'SVF', 'Siuslaw Valley Fire & Rescue', 'SVF', 'Siuslaw Valley Fire/Rescue', -99999, '-99', '-99999')"
      ]
     },
     "execution_count": 14,
     "metadata": {},
     "output_type": "execute_result"
    }
   ],
   "source": [
    "ndar[0]"
   ]
  },
  {
   "cell_type": "code",
   "execution_count": 15,
   "id": "ce4c0ad2",
   "metadata": {},
   "outputs": [],
   "source": [
    "df = pd.DataFrame([list(row) for row in ndar], columns=ndar.dtype.names)"
   ]
  },
  {
   "cell_type": "code",
   "execution_count": 16,
   "id": "4d0e0ca8",
   "metadata": {},
   "outputs": [
    {
     "data": {
      "text/html": [
       "<div>\n",
       "<style scoped>\n",
       "    .dataframe tbody tr th:only-of-type {\n",
       "        vertical-align: middle;\n",
       "    }\n",
       "\n",
       "    .dataframe tbody tr th {\n",
       "        vertical-align: top;\n",
       "    }\n",
       "\n",
       "    .dataframe thead th {\n",
       "        text-align: right;\n",
       "    }\n",
       "</style>\n",
       "<table border=\"1\" class=\"dataframe\">\n",
       "  <thead>\n",
       "    <tr style=\"text-align: right;\">\n",
       "      <th></th>\n",
       "      <th>OBJECTID</th>\n",
       "      <th>Shape</th>\n",
       "      <th>crash_id</th>\n",
       "      <th>ser_no</th>\n",
       "      <th>crash_dt</th>\n",
       "      <th>crash_mo_no</th>\n",
       "      <th>crash_day_no</th>\n",
       "      <th>crash_yr_no</th>\n",
       "      <th>crash_wk_day_cd</th>\n",
       "      <th>wkday_short_desc</th>\n",
       "      <th>...</th>\n",
       "      <th>lane_rdwy_dprt_crash_flg</th>\n",
       "      <th>gis_prc_dt</th>\n",
       "      <th>effectv_dt</th>\n",
       "      <th>fire_protection_provider_code</th>\n",
       "      <th>fire_protection_provider_name</th>\n",
       "      <th>fire_responder_code</th>\n",
       "      <th>fire_responder_name</th>\n",
       "      <th>is_in_mpo</th>\n",
       "      <th>ugb_code</th>\n",
       "      <th>ugb_name</th>\n",
       "    </tr>\n",
       "  </thead>\n",
       "  <tbody>\n",
       "    <tr>\n",
       "      <th>0</th>\n",
       "      <td>511</td>\n",
       "      <td>[-124.12769325, 43.88283811400004]</td>\n",
       "      <td>1235825</td>\n",
       "      <td>00694</td>\n",
       "      <td>2007-02-27</td>\n",
       "      <td>02</td>\n",
       "      <td>27</td>\n",
       "      <td>2007</td>\n",
       "      <td>3</td>\n",
       "      <td>Tue</td>\n",
       "      <td>...</td>\n",
       "      <td>Y</td>\n",
       "      <td>06/06/2017</td>\n",
       "      <td>-999</td>\n",
       "      <td>SVF</td>\n",
       "      <td>Siuslaw Valley Fire &amp; Rescue</td>\n",
       "      <td>SVF</td>\n",
       "      <td>Siuslaw Valley Fire/Rescue</td>\n",
       "      <td>-99999</td>\n",
       "      <td>-99</td>\n",
       "      <td>-99999</td>\n",
       "    </tr>\n",
       "    <tr>\n",
       "      <th>1</th>\n",
       "      <td>924</td>\n",
       "      <td>[-124.12534989199997, 43.88303875200006]</td>\n",
       "      <td>1244151</td>\n",
       "      <td>01194</td>\n",
       "      <td>2007-04-07</td>\n",
       "      <td>04</td>\n",
       "      <td>07</td>\n",
       "      <td>2007</td>\n",
       "      <td>7</td>\n",
       "      <td>Sat</td>\n",
       "      <td>...</td>\n",
       "      <td>Y</td>\n",
       "      <td>06/06/2017</td>\n",
       "      <td>-999</td>\n",
       "      <td>SVF</td>\n",
       "      <td>Siuslaw Valley Fire &amp; Rescue</td>\n",
       "      <td>SVF</td>\n",
       "      <td>Siuslaw Valley Fire/Rescue</td>\n",
       "      <td>-99999</td>\n",
       "      <td>-99</td>\n",
       "      <td>-99999</td>\n",
       "    </tr>\n",
       "    <tr>\n",
       "      <th>2</th>\n",
       "      <td>1697</td>\n",
       "      <td>[-124.04354444399996, 43.874451875000034]</td>\n",
       "      <td>1255800</td>\n",
       "      <td>01991</td>\n",
       "      <td>2007-06-04</td>\n",
       "      <td>06</td>\n",
       "      <td>04</td>\n",
       "      <td>2007</td>\n",
       "      <td>2</td>\n",
       "      <td>Mon</td>\n",
       "      <td>...</td>\n",
       "      <td>Y</td>\n",
       "      <td>06/06/2017</td>\n",
       "      <td>-999</td>\n",
       "      <td>SVF</td>\n",
       "      <td>Siuslaw Valley Fire &amp; Rescue</td>\n",
       "      <td>SVF</td>\n",
       "      <td>Siuslaw Valley Fire/Rescue</td>\n",
       "      <td>-99999</td>\n",
       "      <td>-99</td>\n",
       "      <td>-99999</td>\n",
       "    </tr>\n",
       "    <tr>\n",
       "      <th>3</th>\n",
       "      <td>1698</td>\n",
       "      <td>[-124.04354444399996, 43.874451875000034]</td>\n",
       "      <td>1255801</td>\n",
       "      <td>91991</td>\n",
       "      <td>2007-06-04</td>\n",
       "      <td>06</td>\n",
       "      <td>04</td>\n",
       "      <td>2007</td>\n",
       "      <td>2</td>\n",
       "      <td>Mon</td>\n",
       "      <td>...</td>\n",
       "      <td>Y</td>\n",
       "      <td>06/06/2017</td>\n",
       "      <td>-999</td>\n",
       "      <td>SVF</td>\n",
       "      <td>Siuslaw Valley Fire &amp; Rescue</td>\n",
       "      <td>SVF</td>\n",
       "      <td>Siuslaw Valley Fire/Rescue</td>\n",
       "      <td>-99999</td>\n",
       "      <td>-99</td>\n",
       "      <td>-99999</td>\n",
       "    </tr>\n",
       "    <tr>\n",
       "      <th>4</th>\n",
       "      <td>1736</td>\n",
       "      <td>[-124.13214058999995, 43.872101290000046]</td>\n",
       "      <td>1256538</td>\n",
       "      <td>02088</td>\n",
       "      <td>2007-06-10</td>\n",
       "      <td>06</td>\n",
       "      <td>10</td>\n",
       "      <td>2007</td>\n",
       "      <td>1</td>\n",
       "      <td>Sun</td>\n",
       "      <td>...</td>\n",
       "      <td>Y</td>\n",
       "      <td>06/06/2017</td>\n",
       "      <td>-999</td>\n",
       "      <td>SVF</td>\n",
       "      <td>Siuslaw Valley Fire &amp; Rescue</td>\n",
       "      <td>SVF</td>\n",
       "      <td>Siuslaw Valley Fire/Rescue</td>\n",
       "      <td>-99999</td>\n",
       "      <td>-99</td>\n",
       "      <td>-99999</td>\n",
       "    </tr>\n",
       "  </tbody>\n",
       "</table>\n",
       "<p>5 rows × 220 columns</p>\n",
       "</div>"
      ],
      "text/plain": [
       "   OBJECTID                                      Shape  crash_id ser_no  \\\n",
       "0       511         [-124.12769325, 43.88283811400004]   1235825  00694   \n",
       "1       924   [-124.12534989199997, 43.88303875200006]   1244151  01194   \n",
       "2      1697  [-124.04354444399996, 43.874451875000034]   1255800  01991   \n",
       "3      1698  [-124.04354444399996, 43.874451875000034]   1255801  91991   \n",
       "4      1736  [-124.13214058999995, 43.872101290000046]   1256538  02088   \n",
       "\n",
       "    crash_dt crash_mo_no crash_day_no crash_yr_no crash_wk_day_cd  \\\n",
       "0 2007-02-27          02           27        2007               3   \n",
       "1 2007-04-07          04           07        2007               7   \n",
       "2 2007-06-04          06           04        2007               2   \n",
       "3 2007-06-04          06           04        2007               2   \n",
       "4 2007-06-10          06           10        2007               1   \n",
       "\n",
       "  wkday_short_desc  ... lane_rdwy_dprt_crash_flg  gis_prc_dt effectv_dt  \\\n",
       "0              Tue  ...                        Y  06/06/2017       -999   \n",
       "1              Sat  ...                        Y  06/06/2017       -999   \n",
       "2              Mon  ...                        Y  06/06/2017       -999   \n",
       "3              Mon  ...                        Y  06/06/2017       -999   \n",
       "4              Sun  ...                        Y  06/06/2017       -999   \n",
       "\n",
       "  fire_protection_provider_code fire_protection_provider_name  \\\n",
       "0                           SVF  Siuslaw Valley Fire & Rescue   \n",
       "1                           SVF  Siuslaw Valley Fire & Rescue   \n",
       "2                           SVF  Siuslaw Valley Fire & Rescue   \n",
       "3                           SVF  Siuslaw Valley Fire & Rescue   \n",
       "4                           SVF  Siuslaw Valley Fire & Rescue   \n",
       "\n",
       "  fire_responder_code         fire_responder_name is_in_mpo  ugb_code ugb_name  \n",
       "0                 SVF  Siuslaw Valley Fire/Rescue    -99999       -99   -99999  \n",
       "1                 SVF  Siuslaw Valley Fire/Rescue    -99999       -99   -99999  \n",
       "2                 SVF  Siuslaw Valley Fire/Rescue    -99999       -99   -99999  \n",
       "3                 SVF  Siuslaw Valley Fire/Rescue    -99999       -99   -99999  \n",
       "4                 SVF  Siuslaw Valley Fire/Rescue    -99999       -99   -99999  \n",
       "\n",
       "[5 rows x 220 columns]"
      ]
     },
     "execution_count": 16,
     "metadata": {},
     "output_type": "execute_result"
    }
   ],
   "source": [
    "df.tail()"
   ]
  },
  {
   "cell_type": "code",
   "execution_count": 17,
   "id": "eac56d02",
   "metadata": {},
   "outputs": [],
   "source": [
    "outpath = \"//clsrv111.int.lcog.org/transpor/Tableau/tableauSafetyEmphasisAreas/Datasources/\""
   ]
  },
  {
   "cell_type": "code",
   "execution_count": 18,
   "id": "538b3db6",
   "metadata": {},
   "outputs": [],
   "source": [
    "df.to_csv(outpath+\"crash.csv\", index=False)"
   ]
  },
  {
   "cell_type": "code",
   "execution_count": 19,
   "id": "8163f68c",
   "metadata": {},
   "outputs": [],
   "source": [
    "vhcl = arcpy.da.TableToNumPyArray(in_table=\"Crash_Vehicle\", \n",
    "                                  field_names=[f.name for f in arcpy.ListFields(\"Crash_Vehicle\")], \n",
    "                                  skip_nulls=False, \n",
    "                                  null_value=-99999)"
   ]
  },
  {
   "cell_type": "code",
   "execution_count": 20,
   "id": "60fb2f8f",
   "metadata": {
    "scrolled": true
   },
   "outputs": [
    {
     "data": {
      "text/plain": [
       "(96371, 1228425, 2328540, 1, 0, 0, 0, 1, 0, 0, 1, 1, 1, '5', 'S ', 'S ', '1', 'N ', 'N ', '1', 'STRGHT', 'STRAIGHT', 'Straight Ahead', '1', 'PRVTE', 'Private', '01', 'PSNGR CAR ', 'Passenger car, pickup, light delivery, etc.', '0', 'NONE  ', 'No Special Use', '000', 'NONE     ', 'NO ACTION', 'No action or non-warranted', '00', 'NO CODE ', 'NO CODE APPLICABLE', 'No cause associated at this level', '-9', '-99999', '-99999', '-99999', '-9', '-99999', '-99999', '-99999', '-99', '-99999', '-99999', '-99999', '-99', '-99999', '-99999', '-99999', '-99', '-99999', '-99999', '-99999')"
      ]
     },
     "execution_count": 20,
     "metadata": {},
     "output_type": "execute_result"
    }
   ],
   "source": [
    "vhcl[0]"
   ]
  },
  {
   "cell_type": "code",
   "execution_count": 21,
   "id": "a7e83780",
   "metadata": {},
   "outputs": [],
   "source": [
    "vhcl_df = pd.DataFrame([list(row) for row in vhcl], columns=vhcl.dtype.names)"
   ]
  },
  {
   "cell_type": "code",
   "execution_count": 22,
   "id": "926c2e2a",
   "metadata": {},
   "outputs": [],
   "source": [
    "vhcl_df.to_csv(outpath+\"crash_vehicle.csv\", index=False)"
   ]
  },
  {
   "cell_type": "code",
   "execution_count": 23,
   "id": "1be44f1f",
   "metadata": {},
   "outputs": [
    {
     "data": {
      "text/plain": [
       "(109392, 1228425, -99999, 2663352, 2, -99999, 1, 0, 0, '22', '-', '26', '1', '1', '-99999', 0, '034', 'X N/SGNL ', 'X-INTER NO SIGNAL', 'Crossing at intersection - no traffic signal present', '0', 'UN', 'UN', '0', 'UN', 'UN', '-', '-9999', '-99999', '-', '-9999', '-99999', '1', 'KILL', 'KILLED', 'Fatal Injury', '0', 'UNK   ', 'UNKNOWN', 'Unknown', '03', 'I XWK?   ', 'INT IN RD/X-WALK?', 'At intersection - in roadway, xwalk avail unknwn', '3', 'PED ', 'PEDESTRIAN', 'Pedestrian', '-', '-99999', '-99999', '-99999', '1', 'Male      ', '19', 'NT VISBL', 'NOT VISIBLE', 'Not motorist not visible; non-reflective clothing', '-9', '-99999', '-99999', '-99999', '-9', '-99999', '-99999', '-99999', '000', 'NONE      ', 'NO ERROR', 'No error', '-99', '-99999', '-99999', '-99999', '-99', '-99999', '-99999', '-99999', '-99', '-99999', '-99999', '-99999', '-99', '-99999', '-99999', '-99999', '-99999', '-99999', '-99999', '-99999')"
      ]
     },
     "execution_count": 23,
     "metadata": {},
     "output_type": "execute_result"
    }
   ],
   "source": [
    "ptcp = arcpy.da.TableToNumPyArray(in_table=\"Crash_Participant\", \n",
    "                                  field_names=[f.name for f in arcpy.ListFields(\"Crash_Participant\")], \n",
    "                                  skip_nulls=False, \n",
    "                                  null_value=-99999)\n",
    "ptcp[0]"
   ]
  },
  {
   "cell_type": "code",
   "execution_count": 24,
   "id": "7b6f9d32",
   "metadata": {},
   "outputs": [],
   "source": [
    "ptcp_df = pd.DataFrame([list(row) for row in ptcp], columns=ptcp.dtype.names)\n",
    "ptcp_df.to_csv(outpath+\"crash_participant.csv\", index=False)"
   ]
  }
 ],
 "metadata": {
  "kernelspec": {
   "display_name": "Python 3",
   "language": "python",
   "name": "python3"
  },
  "language_info": {
   "codemirror_mode": {
    "name": "ipython",
    "version": 3
   },
   "file_extension": ".py",
   "mimetype": "text/x-python",
   "name": "python",
   "nbconvert_exporter": "python",
   "pygments_lexer": "ipython3",
   "version": "3.9.11"
  }
 },
 "nbformat": 4,
 "nbformat_minor": 5
}
